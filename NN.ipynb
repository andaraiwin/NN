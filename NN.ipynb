{
 "cells": [
  {
   "cell_type": "markdown",
   "source": [
    "# Import Data"
   ],
   "metadata": {
    "collapsed": false
   },
   "id": "7ae9aba48347c3a2"
  },
  {
   "cell_type": "code",
   "execution_count": 3,
   "id": "initial_id",
   "metadata": {
    "collapsed": true,
    "ExecuteTime": {
     "end_time": "2024-02-28T13:55:46.097348800Z",
     "start_time": "2024-02-28T13:55:39.901489200Z"
    }
   },
   "outputs": [
    {
     "name": "stdout",
     "output_type": "stream",
     "text": [
      "{'uci_id': 15, 'name': 'Breast Cancer Wisconsin (Original)', 'repository_url': 'https://archive.ics.uci.edu/dataset/15/breast+cancer+wisconsin+original', 'data_url': 'https://archive.ics.uci.edu/static/public/15/data.csv', 'abstract': 'Original Wisconsin Breast Cancer Database', 'area': 'Health and Medicine', 'tasks': ['Classification'], 'characteristics': ['Multivariate'], 'num_instances': 699, 'num_features': 9, 'feature_types': ['Integer'], 'demographics': [], 'target_col': ['Class'], 'index_col': ['Sample_code_number'], 'has_missing_values': 'yes', 'missing_values_symbol': 'NaN', 'year_of_dataset_creation': 1990, 'last_updated': 'Fri Nov 03 2023', 'dataset_doi': '10.24432/C5HP4Z', 'creators': ['WIlliam Wolberg'], 'intro_paper': None, 'additional_info': {'summary': \"Samples arrive periodically as Dr. Wolberg reports his clinical cases. The database therefore reflects this chronological grouping of the data. This grouping information appears immediately below, having been removed from the data itself:\\r\\n\\r\\nGroup 1: 367 instances (January 1989)\\r\\nGroup 2:  70 instances (October 1989)\\r\\nGroup 3:  31 instances (February 1990)\\r\\nGroup 4:  17 instances (April 1990)\\r\\nGroup 5:  48 instances (August 1990)\\r\\nGroup 6:  49 instances (Updated January 1991)\\r\\nGroup 7:  31 instances (June 1991)\\r\\nGroup 8:  86 instances (November 1991)\\r\\n-----------------------------------------\\r\\nTotal:   699 points (as of the donated datbase on 15 July 1992)\\r\\n\\r\\nNote that the results summarized above in Past Usage refer to a dataset of size 369, while Group 1 has only 367 instances.  This is because it originally contained 369 instances; 2 were removed.  The following statements summarizes changes to the original Group 1's set of data:\\r\\n\\r\\n#####  Group 1 : 367 points: 200B 167M (January 1989)\\r\\n\\r\\n#####  Revised Jan 10, 1991: Replaced zero bare nuclei in 1080185 & 1187805\\r\\n\\r\\n#####  Revised Nov 22,1991: Removed 765878,4,5,9,7,10,10,10,3,8,1 no record\\r\\n#####                  : Removed 484201,2,7,8,8,4,3,10,3,4,1 zero epithelial\\r\\n#####                  : Changed 0 to 1 in field 6 of sample 1219406\\r\\n#####                  : Changed 0 to 1 in field 8 of following sample:\\r\\n#####                  : 1182404,2,3,1,1,1,2,0,1,1,1\", 'purpose': None, 'funded_by': None, 'instances_represent': None, 'recommended_data_splits': None, 'sensitive_data': None, 'preprocessing_description': None, 'variable_info': '1. Sample code number:            id number\\r\\n2. Clump Thickness:               1 - 10\\r\\n3. Uniformity of Cell Size:       1 - 10\\r\\n4. Uniformity of Cell Shape:      1 - 10\\r\\n5. Marginal Adhesion:             1 - 10\\r\\n6. Single Epithelial Cell Size:   1 - 10\\r\\n7. Bare Nuclei:                   1 - 10\\r\\n8. Bland Chromatin:               1 - 10\\r\\n9. Normal Nucleoli:               1 - 10\\r\\n10. Mitoses:                       1 - 10\\r\\n11. Class:                        (2 for benign, 4 for malignant)', 'citation': None}}\n",
      "                           name     role         type demographic  \\\n",
      "0            Sample_code_number       ID  Categorical        None   \n",
      "1               Clump_thickness  Feature      Integer        None   \n",
      "2       Uniformity_of_cell_size  Feature      Integer        None   \n",
      "3      Uniformity_of_cell_shape  Feature      Integer        None   \n",
      "4             Marginal_adhesion  Feature      Integer        None   \n",
      "5   Single_epithelial_cell_size  Feature      Integer        None   \n",
      "6                   Bare_nuclei  Feature      Integer        None   \n",
      "7               Bland_chromatin  Feature      Integer        None   \n",
      "8               Normal_nucleoli  Feature      Integer        None   \n",
      "9                       Mitoses  Feature      Integer        None   \n",
      "10                        Class   Target       Binary        None   \n",
      "\n",
      "                  description units missing_values  \n",
      "0                        None  None             no  \n",
      "1                        None  None             no  \n",
      "2                        None  None             no  \n",
      "3                        None  None             no  \n",
      "4                        None  None             no  \n",
      "5                        None  None             no  \n",
      "6                        None  None            yes  \n",
      "7                        None  None             no  \n",
      "8                        None  None             no  \n",
      "9                        None  None             no  \n",
      "10  2 = benign, 4 = malignant  None             no  \n"
     ]
    }
   ],
   "source": [
    "from ucimlrepo import fetch_ucirepo\n",
    "\n",
    "# fetch dataset \n",
    "breast_cancer_wisconsin_original = fetch_ucirepo(id=15)\n",
    "\n",
    "# data (as pandas dataframes) \n",
    "X = breast_cancer_wisconsin_original.data.features\n",
    "y = breast_cancer_wisconsin_original.data.targets\n",
    "\n",
    "# metadata \n",
    "print(breast_cancer_wisconsin_original.metadata)\n",
    "\n",
    "# variable information \n",
    "print(breast_cancer_wisconsin_original.variables) "
   ]
  },
  {
   "cell_type": "code",
   "outputs": [
    {
     "name": "stdout",
     "output_type": "stream",
     "text": [
      "<class 'pandas.core.frame.DataFrame'>\n"
     ]
    }
   ],
   "source": [
    "print(type(X))"
   ],
   "metadata": {
    "collapsed": false,
    "ExecuteTime": {
     "end_time": "2024-02-28T13:55:46.145840500Z",
     "start_time": "2024-02-28T13:55:46.090871Z"
    }
   },
   "id": "49090a1f195a6371",
   "execution_count": 4
  },
  {
   "cell_type": "code",
   "outputs": [
    {
     "name": "stdout",
     "output_type": "stream",
     "text": [
      "<class 'pandas.core.frame.DataFrame'>\n"
     ]
    }
   ],
   "source": [
    "print(type(y))"
   ],
   "metadata": {
    "collapsed": false,
    "ExecuteTime": {
     "end_time": "2024-02-23T09:08:15.879382800Z",
     "start_time": "2024-02-23T09:08:15.853726Z"
    }
   },
   "id": "820c8c4a498c4f5b",
   "execution_count": 3
  },
  {
   "cell_type": "code",
   "outputs": [
    {
     "data": {
      "text/plain": "Clump_thickness                  int64\nUniformity_of_cell_size          int64\nUniformity_of_cell_shape         int64\nMarginal_adhesion                int64\nSingle_epithelial_cell_size      int64\nBare_nuclei                    float64\nBland_chromatin                  int64\nNormal_nucleoli                  int64\nMitoses                          int64\ndtype: object"
     },
     "execution_count": 5,
     "metadata": {},
     "output_type": "execute_result"
    }
   ],
   "source": [
    "X.dtypes"
   ],
   "metadata": {
    "collapsed": false,
    "ExecuteTime": {
     "end_time": "2024-02-28T13:55:53.677869800Z",
     "start_time": "2024-02-28T13:55:53.601561Z"
    }
   },
   "id": "c4981d5889065d1c",
   "execution_count": 5
  },
  {
   "cell_type": "code",
   "outputs": [
    {
     "data": {
      "text/plain": "Class    int64\ndtype: object"
     },
     "execution_count": 7,
     "metadata": {},
     "output_type": "execute_result"
    }
   ],
   "source": [
    "y.dtypes"
   ],
   "metadata": {
    "collapsed": false,
    "ExecuteTime": {
     "end_time": "2024-02-28T13:56:05.268221900Z",
     "start_time": "2024-02-28T13:56:05.243484100Z"
    }
   },
   "id": "c93ce4d592d0ed2f",
   "execution_count": 7
  },
  {
   "cell_type": "code",
   "outputs": [
    {
     "data": {
      "text/plain": "(699, 699)"
     },
     "execution_count": 4,
     "metadata": {},
     "output_type": "execute_result"
    }
   ],
   "source": [
    "len(X), len(y)"
   ],
   "metadata": {
    "collapsed": false,
    "ExecuteTime": {
     "end_time": "2024-02-23T09:08:19.270296200Z",
     "start_time": "2024-02-23T09:08:19.250224300Z"
    }
   },
   "id": "3298a82b39bf6e69",
   "execution_count": 4
  },
  {
   "cell_type": "markdown",
   "source": [
    "# Import tools"
   ],
   "metadata": {
    "collapsed": false
   },
   "id": "757b2f2361efffc6"
  },
  {
   "cell_type": "code",
   "outputs": [],
   "source": [
    "import pandas as pd\n",
    "import numpy as np\n",
    "import scipy.stats as stats"
   ],
   "metadata": {
    "collapsed": false,
    "ExecuteTime": {
     "end_time": "2024-02-28T13:56:12.360508800Z",
     "start_time": "2024-02-28T13:56:10.088917100Z"
    }
   },
   "id": "d0eb088042c78034",
   "execution_count": 8
  },
  {
   "cell_type": "markdown",
   "source": [
    "# EDA"
   ],
   "metadata": {
    "collapsed": false
   },
   "id": "83da0b3ae68882da"
  },
  {
   "cell_type": "code",
   "outputs": [
    {
     "name": "stdout",
     "output_type": "stream",
     "text": [
      "<class 'pandas.core.frame.DataFrame'>\n",
      "RangeIndex: 699 entries, 0 to 698\n",
      "Data columns (total 9 columns):\n",
      " #   Column                       Non-Null Count  Dtype  \n",
      "---  ------                       --------------  -----  \n",
      " 0   Clump_thickness              699 non-null    int64  \n",
      " 1   Uniformity_of_cell_size      699 non-null    int64  \n",
      " 2   Uniformity_of_cell_shape     699 non-null    int64  \n",
      " 3   Marginal_adhesion            699 non-null    int64  \n",
      " 4   Single_epithelial_cell_size  699 non-null    int64  \n",
      " 5   Bare_nuclei                  683 non-null    float64\n",
      " 6   Bland_chromatin              699 non-null    int64  \n",
      " 7   Normal_nucleoli              699 non-null    int64  \n",
      " 8   Mitoses                      699 non-null    int64  \n",
      "dtypes: float64(1), int64(8)\n",
      "memory usage: 49.3 KB\n"
     ]
    }
   ],
   "source": [
    "X.info()"
   ],
   "metadata": {
    "collapsed": false,
    "ExecuteTime": {
     "end_time": "2024-02-12T17:07:54.241803500Z",
     "start_time": "2024-02-12T17:07:54.222957700Z"
    }
   },
   "id": "e1c2c7f38690acc3",
   "execution_count": 12
  },
  {
   "cell_type": "code",
   "outputs": [
    {
     "name": "stdout",
     "output_type": "stream",
     "text": [
      "<class 'pandas.core.frame.DataFrame'>\n",
      "RangeIndex: 699 entries, 0 to 698\n",
      "Data columns (total 1 columns):\n",
      " #   Column  Non-Null Count  Dtype\n",
      "---  ------  --------------  -----\n",
      " 0   Class   699 non-null    int64\n",
      "dtypes: int64(1)\n",
      "memory usage: 5.6 KB\n"
     ]
    }
   ],
   "source": [
    "y.info()"
   ],
   "metadata": {
    "collapsed": false,
    "ExecuteTime": {
     "end_time": "2024-02-12T17:11:50.154130600Z",
     "start_time": "2024-02-12T17:11:50.137359200Z"
    }
   },
   "id": "8edd9edc9433672b",
   "execution_count": 17
  },
  {
   "cell_type": "code",
   "outputs": [
    {
     "data": {
      "text/plain": "(     Clump_thickness  Uniformity_of_cell_size  Uniformity_of_cell_shape  \\\n 0                  5                        1                         1   \n 1                  5                        4                         4   \n 2                  3                        1                         1   \n 3                  6                        8                         8   \n 4                  4                        1                         1   \n ..               ...                      ...                       ...   \n 694                3                        1                         1   \n 695                2                        1                         1   \n 696                5                       10                        10   \n 697                4                        8                         6   \n 698                4                        8                         8   \n \n      Marginal_adhesion  Single_epithelial_cell_size  Bare_nuclei  \\\n 0                    1                            2          1.0   \n 1                    5                            7         10.0   \n 2                    1                            2          2.0   \n 3                    1                            3          4.0   \n 4                    3                            2          1.0   \n ..                 ...                          ...          ...   \n 694                  1                            3          2.0   \n 695                  1                            2          1.0   \n 696                  3                            7          3.0   \n 697                  4                            3          4.0   \n 698                  5                            4          5.0   \n \n      Bland_chromatin  Normal_nucleoli  Mitoses  \n 0                  3                1        1  \n 1                  3                2        1  \n 2                  3                1        1  \n 3                  3                7        1  \n 4                  3                1        1  \n ..               ...              ...      ...  \n 694                1                1        1  \n 695                1                1        1  \n 696                8               10        2  \n 697               10                6        1  \n 698               10                4        1  \n \n [699 rows x 9 columns],\n      Class\n 0        2\n 1        2\n 2        2\n 3        2\n 4        2\n ..     ...\n 694      2\n 695      2\n 696      4\n 697      4\n 698      4\n \n [699 rows x 1 columns])"
     },
     "execution_count": 21,
     "metadata": {},
     "output_type": "execute_result"
    }
   ],
   "source": [
    "X, y"
   ],
   "metadata": {
    "collapsed": false,
    "ExecuteTime": {
     "end_time": "2024-02-12T17:19:36.101472500Z",
     "start_time": "2024-02-12T17:19:36.074122600Z"
    }
   },
   "id": "e75ce958d448942",
   "execution_count": 21
  },
  {
   "cell_type": "code",
   "outputs": [
    {
     "data": {
      "text/plain": "       Clump_thickness  Uniformity_of_cell_size  Uniformity_of_cell_shape  \\\ncount       699.000000               699.000000                699.000000   \nmean          4.417740                 3.134478                  3.207439   \nstd           2.815741                 3.051459                  2.971913   \nmin           1.000000                 1.000000                  1.000000   \n25%           2.000000                 1.000000                  1.000000   \n50%           4.000000                 1.000000                  1.000000   \n75%           6.000000                 5.000000                  5.000000   \nmax          10.000000                10.000000                 10.000000   \n\n       Marginal_adhesion  Single_epithelial_cell_size  Bare_nuclei  \\\ncount         699.000000                   699.000000   683.000000   \nmean            2.806867                     3.216023     3.544656   \nstd             2.855379                     2.214300     3.643857   \nmin             1.000000                     1.000000     1.000000   \n25%             1.000000                     2.000000     1.000000   \n50%             1.000000                     2.000000     1.000000   \n75%             4.000000                     4.000000     6.000000   \nmax            10.000000                    10.000000    10.000000   \n\n       Bland_chromatin  Normal_nucleoli     Mitoses  \ncount       699.000000       699.000000  699.000000  \nmean          3.437768         2.866953    1.589413  \nstd           2.438364         3.053634    1.715078  \nmin           1.000000         1.000000    1.000000  \n25%           2.000000         1.000000    1.000000  \n50%           3.000000         1.000000    1.000000  \n75%           5.000000         4.000000    1.000000  \nmax          10.000000        10.000000   10.000000  ",
      "text/html": "<div>\n<style scoped>\n    .dataframe tbody tr th:only-of-type {\n        vertical-align: middle;\n    }\n\n    .dataframe tbody tr th {\n        vertical-align: top;\n    }\n\n    .dataframe thead th {\n        text-align: right;\n    }\n</style>\n<table border=\"1\" class=\"dataframe\">\n  <thead>\n    <tr style=\"text-align: right;\">\n      <th></th>\n      <th>Clump_thickness</th>\n      <th>Uniformity_of_cell_size</th>\n      <th>Uniformity_of_cell_shape</th>\n      <th>Marginal_adhesion</th>\n      <th>Single_epithelial_cell_size</th>\n      <th>Bare_nuclei</th>\n      <th>Bland_chromatin</th>\n      <th>Normal_nucleoli</th>\n      <th>Mitoses</th>\n    </tr>\n  </thead>\n  <tbody>\n    <tr>\n      <th>count</th>\n      <td>699.000000</td>\n      <td>699.000000</td>\n      <td>699.000000</td>\n      <td>699.000000</td>\n      <td>699.000000</td>\n      <td>683.000000</td>\n      <td>699.000000</td>\n      <td>699.000000</td>\n      <td>699.000000</td>\n    </tr>\n    <tr>\n      <th>mean</th>\n      <td>4.417740</td>\n      <td>3.134478</td>\n      <td>3.207439</td>\n      <td>2.806867</td>\n      <td>3.216023</td>\n      <td>3.544656</td>\n      <td>3.437768</td>\n      <td>2.866953</td>\n      <td>1.589413</td>\n    </tr>\n    <tr>\n      <th>std</th>\n      <td>2.815741</td>\n      <td>3.051459</td>\n      <td>2.971913</td>\n      <td>2.855379</td>\n      <td>2.214300</td>\n      <td>3.643857</td>\n      <td>2.438364</td>\n      <td>3.053634</td>\n      <td>1.715078</td>\n    </tr>\n    <tr>\n      <th>min</th>\n      <td>1.000000</td>\n      <td>1.000000</td>\n      <td>1.000000</td>\n      <td>1.000000</td>\n      <td>1.000000</td>\n      <td>1.000000</td>\n      <td>1.000000</td>\n      <td>1.000000</td>\n      <td>1.000000</td>\n    </tr>\n    <tr>\n      <th>25%</th>\n      <td>2.000000</td>\n      <td>1.000000</td>\n      <td>1.000000</td>\n      <td>1.000000</td>\n      <td>2.000000</td>\n      <td>1.000000</td>\n      <td>2.000000</td>\n      <td>1.000000</td>\n      <td>1.000000</td>\n    </tr>\n    <tr>\n      <th>50%</th>\n      <td>4.000000</td>\n      <td>1.000000</td>\n      <td>1.000000</td>\n      <td>1.000000</td>\n      <td>2.000000</td>\n      <td>1.000000</td>\n      <td>3.000000</td>\n      <td>1.000000</td>\n      <td>1.000000</td>\n    </tr>\n    <tr>\n      <th>75%</th>\n      <td>6.000000</td>\n      <td>5.000000</td>\n      <td>5.000000</td>\n      <td>4.000000</td>\n      <td>4.000000</td>\n      <td>6.000000</td>\n      <td>5.000000</td>\n      <td>4.000000</td>\n      <td>1.000000</td>\n    </tr>\n    <tr>\n      <th>max</th>\n      <td>10.000000</td>\n      <td>10.000000</td>\n      <td>10.000000</td>\n      <td>10.000000</td>\n      <td>10.000000</td>\n      <td>10.000000</td>\n      <td>10.000000</td>\n      <td>10.000000</td>\n      <td>10.000000</td>\n    </tr>\n  </tbody>\n</table>\n</div>"
     },
     "execution_count": 13,
     "metadata": {},
     "output_type": "execute_result"
    }
   ],
   "source": [
    "X.describe()"
   ],
   "metadata": {
    "collapsed": false,
    "ExecuteTime": {
     "end_time": "2024-02-12T17:08:16.079393300Z",
     "start_time": "2024-02-12T17:08:16.048186800Z"
    }
   },
   "id": "ce6bd876bc0d0292",
   "execution_count": 13
  },
  {
   "cell_type": "markdown",
   "source": [],
   "metadata": {
    "collapsed": false
   },
   "id": "45b440dc314571e0"
  },
  {
   "cell_type": "code",
   "outputs": [
    {
     "data": {
      "text/plain": "Clump_thickness                 0\nUniformity_of_cell_size         0\nUniformity_of_cell_shape        0\nMarginal_adhesion               0\nSingle_epithelial_cell_size     0\nBare_nuclei                    16\nBland_chromatin                 0\nNormal_nucleoli                 0\nMitoses                         0\ndtype: int64"
     },
     "execution_count": 6,
     "metadata": {},
     "output_type": "execute_result"
    }
   ],
   "source": [
    "flags = X.isna()\n",
    "flags.sum()"
   ],
   "metadata": {
    "collapsed": false,
    "ExecuteTime": {
     "end_time": "2024-02-23T09:08:29.723169100Z",
     "start_time": "2024-02-23T09:08:29.643775400Z"
    }
   },
   "id": "3dbd06ed7e9c30ae",
   "execution_count": 6
  },
  {
   "cell_type": "markdown",
   "source": [
    "### Merge feature and the target via index"
   ],
   "metadata": {
    "collapsed": false
   },
   "id": "6000db84e4eb7779"
  },
  {
   "cell_type": "code",
   "outputs": [],
   "source": [
    "data = X.copy()"
   ],
   "metadata": {
    "collapsed": false,
    "ExecuteTime": {
     "end_time": "2024-02-23T09:09:08.200195900Z",
     "start_time": "2024-02-23T09:09:08.173691700Z"
    }
   },
   "id": "a00c0b6424ecd37f",
   "execution_count": 7
  },
  {
   "cell_type": "code",
   "outputs": [],
   "source": [
    "data_new = pd.merge(data, y, left_index=True, right_index=True)"
   ],
   "metadata": {
    "collapsed": false,
    "ExecuteTime": {
     "end_time": "2024-02-12T17:19:04.943879900Z",
     "start_time": "2024-02-12T17:19:04.932285500Z"
    }
   },
   "id": "37d5f9eb7404248a",
   "execution_count": 19
  },
  {
   "cell_type": "code",
   "outputs": [
    {
     "data": {
      "text/plain": "     Clump_thickness  Uniformity_of_cell_size  Uniformity_of_cell_shape  \\\n0                  5                        1                         1   \n1                  5                        4                         4   \n2                  3                        1                         1   \n3                  6                        8                         8   \n4                  4                        1                         1   \n..               ...                      ...                       ...   \n694                3                        1                         1   \n695                2                        1                         1   \n696                5                       10                        10   \n697                4                        8                         6   \n698                4                        8                         8   \n\n     Marginal_adhesion  Single_epithelial_cell_size  Bare_nuclei  \\\n0                    1                            2          1.0   \n1                    5                            7         10.0   \n2                    1                            2          2.0   \n3                    1                            3          4.0   \n4                    3                            2          1.0   \n..                 ...                          ...          ...   \n694                  1                            3          2.0   \n695                  1                            2          1.0   \n696                  3                            7          3.0   \n697                  4                            3          4.0   \n698                  5                            4          5.0   \n\n     Bland_chromatin  Normal_nucleoli  Mitoses  Class  \n0                  3                1        1      2  \n1                  3                2        1      2  \n2                  3                1        1      2  \n3                  3                7        1      2  \n4                  3                1        1      2  \n..               ...              ...      ...    ...  \n694                1                1        1      2  \n695                1                1        1      2  \n696                8               10        2      4  \n697               10                6        1      4  \n698               10                4        1      4  \n\n[699 rows x 10 columns]",
      "text/html": "<div>\n<style scoped>\n    .dataframe tbody tr th:only-of-type {\n        vertical-align: middle;\n    }\n\n    .dataframe tbody tr th {\n        vertical-align: top;\n    }\n\n    .dataframe thead th {\n        text-align: right;\n    }\n</style>\n<table border=\"1\" class=\"dataframe\">\n  <thead>\n    <tr style=\"text-align: right;\">\n      <th></th>\n      <th>Clump_thickness</th>\n      <th>Uniformity_of_cell_size</th>\n      <th>Uniformity_of_cell_shape</th>\n      <th>Marginal_adhesion</th>\n      <th>Single_epithelial_cell_size</th>\n      <th>Bare_nuclei</th>\n      <th>Bland_chromatin</th>\n      <th>Normal_nucleoli</th>\n      <th>Mitoses</th>\n      <th>Class</th>\n    </tr>\n  </thead>\n  <tbody>\n    <tr>\n      <th>0</th>\n      <td>5</td>\n      <td>1</td>\n      <td>1</td>\n      <td>1</td>\n      <td>2</td>\n      <td>1.0</td>\n      <td>3</td>\n      <td>1</td>\n      <td>1</td>\n      <td>2</td>\n    </tr>\n    <tr>\n      <th>1</th>\n      <td>5</td>\n      <td>4</td>\n      <td>4</td>\n      <td>5</td>\n      <td>7</td>\n      <td>10.0</td>\n      <td>3</td>\n      <td>2</td>\n      <td>1</td>\n      <td>2</td>\n    </tr>\n    <tr>\n      <th>2</th>\n      <td>3</td>\n      <td>1</td>\n      <td>1</td>\n      <td>1</td>\n      <td>2</td>\n      <td>2.0</td>\n      <td>3</td>\n      <td>1</td>\n      <td>1</td>\n      <td>2</td>\n    </tr>\n    <tr>\n      <th>3</th>\n      <td>6</td>\n      <td>8</td>\n      <td>8</td>\n      <td>1</td>\n      <td>3</td>\n      <td>4.0</td>\n      <td>3</td>\n      <td>7</td>\n      <td>1</td>\n      <td>2</td>\n    </tr>\n    <tr>\n      <th>4</th>\n      <td>4</td>\n      <td>1</td>\n      <td>1</td>\n      <td>3</td>\n      <td>2</td>\n      <td>1.0</td>\n      <td>3</td>\n      <td>1</td>\n      <td>1</td>\n      <td>2</td>\n    </tr>\n    <tr>\n      <th>...</th>\n      <td>...</td>\n      <td>...</td>\n      <td>...</td>\n      <td>...</td>\n      <td>...</td>\n      <td>...</td>\n      <td>...</td>\n      <td>...</td>\n      <td>...</td>\n      <td>...</td>\n    </tr>\n    <tr>\n      <th>694</th>\n      <td>3</td>\n      <td>1</td>\n      <td>1</td>\n      <td>1</td>\n      <td>3</td>\n      <td>2.0</td>\n      <td>1</td>\n      <td>1</td>\n      <td>1</td>\n      <td>2</td>\n    </tr>\n    <tr>\n      <th>695</th>\n      <td>2</td>\n      <td>1</td>\n      <td>1</td>\n      <td>1</td>\n      <td>2</td>\n      <td>1.0</td>\n      <td>1</td>\n      <td>1</td>\n      <td>1</td>\n      <td>2</td>\n    </tr>\n    <tr>\n      <th>696</th>\n      <td>5</td>\n      <td>10</td>\n      <td>10</td>\n      <td>3</td>\n      <td>7</td>\n      <td>3.0</td>\n      <td>8</td>\n      <td>10</td>\n      <td>2</td>\n      <td>4</td>\n    </tr>\n    <tr>\n      <th>697</th>\n      <td>4</td>\n      <td>8</td>\n      <td>6</td>\n      <td>4</td>\n      <td>3</td>\n      <td>4.0</td>\n      <td>10</td>\n      <td>6</td>\n      <td>1</td>\n      <td>4</td>\n    </tr>\n    <tr>\n      <th>698</th>\n      <td>4</td>\n      <td>8</td>\n      <td>8</td>\n      <td>5</td>\n      <td>4</td>\n      <td>5.0</td>\n      <td>10</td>\n      <td>4</td>\n      <td>1</td>\n      <td>4</td>\n    </tr>\n  </tbody>\n</table>\n<p>699 rows × 10 columns</p>\n</div>"
     },
     "execution_count": 20,
     "metadata": {},
     "output_type": "execute_result"
    }
   ],
   "source": [
    "data_new"
   ],
   "metadata": {
    "collapsed": false,
    "ExecuteTime": {
     "end_time": "2024-02-12T17:19:10.226221400Z",
     "start_time": "2024-02-12T17:19:10.200367100Z"
    }
   },
   "id": "60a01577f98a8ce8",
   "execution_count": 20
  },
  {
   "cell_type": "code",
   "outputs": [
    {
     "data": {
      "text/plain": "'Class'"
     },
     "execution_count": 22,
     "metadata": {},
     "output_type": "execute_result"
    }
   ],
   "source": [
    "data_new.keys()[-1]"
   ],
   "metadata": {
    "collapsed": false,
    "ExecuteTime": {
     "end_time": "2024-02-12T17:20:07.161027700Z",
     "start_time": "2024-02-12T17:20:07.130775800Z"
    }
   },
   "id": "24e381931fcd3f4c",
   "execution_count": 22
  },
  {
   "cell_type": "markdown",
   "source": [
    "## We find the missing value, so that we have to do the data preprocessing"
   ],
   "metadata": {
    "collapsed": false
   },
   "id": "33ec53245fb65629"
  },
  {
   "cell_type": "code",
   "outputs": [
    {
     "data": {
      "text/plain": "mean       3.544656\nmedian     1.000000\nstd        3.643857\nmax       10.000000\nmin        1.000000\nName: Bare_nuclei, dtype: float64"
     },
     "execution_count": 8,
     "metadata": {},
     "output_type": "execute_result"
    }
   ],
   "source": [
    "data.Bare_nuclei.agg(['mean', 'median', 'std', 'max', 'min'])"
   ],
   "metadata": {
    "collapsed": false,
    "ExecuteTime": {
     "end_time": "2024-02-23T09:09:17.171811Z",
     "start_time": "2024-02-23T09:09:17.085692500Z"
    }
   },
   "id": "c7f1687c871520a9",
   "execution_count": 8
  },
  {
   "cell_type": "code",
   "outputs": [
    {
     "data": {
      "text/plain": "<Axes: xlabel='Bare_nuclei'>"
     },
     "execution_count": 30,
     "metadata": {},
     "output_type": "execute_result"
    },
    {
     "data": {
      "text/plain": "<Figure size 640x480 with 1 Axes>",
      "image/png": "[encoded data removed]"
     },
     "metadata": {},
     "output_type": "display_data"
    }
   ],
   "source": [
    "data.Bare_nuclei.value_counts().plot(kind='bar')"
   ],
   "metadata": {
    "collapsed": false,
    "ExecuteTime": {
     "end_time": "2024-02-23T13:39:15.847706500Z",
     "start_time": "2024-02-23T13:39:15.527294900Z"
    }
   },
   "id": "89f052b6ceb2812",
   "execution_count": 30
  },
  {
   "cell_type": "code",
   "outputs": [],
   "source": [
    "import matplotlib.pyplot as plt\n",
    "\n",
    "def plot_pdf(data: pd.DataFrame, attribute: str):\n",
    "    df = pd.DataFrame(data)\n",
    "\n",
    "    df_mean = np.mean(df[attribute])\n",
    "    df_std = np.std(df[attribute])\n",
    "\n",
    "    # Calculating probability density function (PDF)\n",
    "    pdf = stats.norm.pdf(df[attribute].sort_values(), df_mean, df_std)\n",
    "\n",
    "    plt.plot(df[attribute].sort_values(), pdf)\n",
    "    plt.xlim([-10, 15])\n",
    "    plt.xlabel(attribute, size=12)\n",
    "    plt.ylabel('density', size=12)\n",
    "    plt.grid(True, alpha=0.3, linestyle=\"--\")\n",
    "    plt.show()"
   ],
   "metadata": {
    "collapsed": false,
    "ExecuteTime": {
     "end_time": "2024-02-23T13:39:20.783168700Z",
     "start_time": "2024-02-23T13:39:20.774485400Z"
    }
   },
   "id": "c422468e1b7bd038",
   "execution_count": 31
  },
  {
   "cell_type": "code",
   "outputs": [],
   "source": [
    "def plot_gaussian_func(data: pd.DataFrame, attribute: str):\n",
    "    mu = np.mean(data[attribute])\n",
    "    sigma = np.std(data[attribute])\n",
    "    splits = 2\n",
    "\n",
    "    # define the normal distribution and PDF\n",
    "    dist = stats.norm(loc=mu, scale=sigma)\n",
    "    x = np.linspace(dist.ppf(.001), dist.ppf(.999))\n",
    "    y = dist.pdf(x)\n",
    "\n",
    "    # calculate PPFs\n",
    "    step = 1 / splits\n",
    "    quantiles = np.arange(step, 1.0 - step / 2, step)\n",
    "    ppfs = dist.ppf(quantiles)  # boundaries\n",
    "\n",
    "    # plot results\n",
    "    fig, ax = plt.subplots(figsize=(10, 4))\n",
    "    ax.plot(x, y, color='k')\n",
    "    for i, ppf in enumerate(ppfs):\n",
    "        ax.axvline(ppf, color=f'C{i}', label=f'{quantiles[i]:.3f}: {ppf:.1f}')\n",
    "    ax.legend()\n",
    "    plt.show()"
   ],
   "metadata": {
    "collapsed": false,
    "ExecuteTime": {
     "end_time": "2024-02-23T13:39:22.419606100Z",
     "start_time": "2024-02-23T13:39:22.375262300Z"
    }
   },
   "id": "a257c7de0734388c",
   "execution_count": 32
  },
  {
   "cell_type": "code",
   "outputs": [
    {
     "data": {
      "text/plain": "<Figure size 640x480 with 1 Axes>",
      "image/png": "[encoded data removed]"
     },
     "metadata": {},
     "output_type": "display_data"
    }
   ],
   "source": [
    "plot_pdf(data, 'Bare_nuclei')"
   ],
   "metadata": {
    "collapsed": false,
    "ExecuteTime": {
     "end_time": "2024-02-23T13:39:26.276672800Z",
     "start_time": "2024-02-23T13:39:26.094671800Z"
    }
   },
   "id": "32ca99e749722c18",
   "execution_count": 33
  },
  {
   "cell_type": "code",
   "outputs": [
    {
     "data": {
      "text/plain": "<Figure size 1000x400 with 1 Axes>",
      "image/png": "[encoded data removed]"
     },
     "metadata": {},
     "output_type": "display_data"
    }
   ],
   "source": [
    "plot_gaussian_func(data, 'Bare_nuclei')"
   ],
   "metadata": {
    "collapsed": false,
    "ExecuteTime": {
     "end_time": "2024-02-23T13:39:29.758696700Z",
     "start_time": "2024-02-23T13:39:29.573365800Z"
    }
   },
   "id": "5183493369861be4",
   "execution_count": 34
  },
  {
   "cell_type": "markdown",
   "source": [
    "### After standardizing, I get that median = 1 is very dominance for 'Bare_nuclei' value. Thus using the mean value for missing feature is seem to be a good appaorch."
   ],
   "metadata": {
    "collapsed": false
   },
   "id": "dc660fdca6241d4"
  },
  {
   "cell_type": "code",
   "outputs": [],
   "source": [
    "flags = (data['Bare_nuclei'].isna())\n",
    "data.loc[flags, 'Bare_nuclei'] = 1"
   ],
   "metadata": {
    "collapsed": false
   },
   "id": "1b8b47912dbf5e4d"
  },
  {
   "cell_type": "code",
   "outputs": [
    {
     "data": {
      "text/plain": "     Clump_thickness  Uniformity_of_cell_size  Uniformity_of_cell_shape  \\\n0                  5                        1                         1   \n1                  5                        4                         4   \n2                  3                        1                         1   \n3                  6                        8                         8   \n4                  4                        1                         1   \n..               ...                      ...                       ...   \n694                3                        1                         1   \n695                2                        1                         1   \n696                5                       10                        10   \n697                4                        8                         6   \n698                4                        8                         8   \n\n     Marginal_adhesion  Single_epithelial_cell_size  Bare_nuclei  \\\n0                    1                            2          1.0   \n1                    5                            7         10.0   \n2                    1                            2          2.0   \n3                    1                            3          4.0   \n4                    3                            2          1.0   \n..                 ...                          ...          ...   \n694                  1                            3          2.0   \n695                  1                            2          1.0   \n696                  3                            7          3.0   \n697                  4                            3          4.0   \n698                  5                            4          5.0   \n\n     Bland_chromatin  Normal_nucleoli  Mitoses  \n0                  3                1        1  \n1                  3                2        1  \n2                  3                1        1  \n3                  3                7        1  \n4                  3                1        1  \n..               ...              ...      ...  \n694                1                1        1  \n695                1                1        1  \n696                8               10        2  \n697               10                6        1  \n698               10                4        1  \n\n[699 rows x 9 columns]",
      "text/html": "<div>\n<style scoped>\n    .dataframe tbody tr th:only-of-type {\n        vertical-align: middle;\n    }\n\n    .dataframe tbody tr th {\n        vertical-align: top;\n    }\n\n    .dataframe thead th {\n        text-align: right;\n    }\n</style>\n<table border=\"1\" class=\"dataframe\">\n  <thead>\n    <tr style=\"text-align: right;\">\n      <th></th>\n      <th>Clump_thickness</th>\n      <th>Uniformity_of_cell_size</th>\n      <th>Uniformity_of_cell_shape</th>\n      <th>Marginal_adhesion</th>\n      <th>Single_epithelial_cell_size</th>\n      <th>Bare_nuclei</th>\n      <th>Bland_chromatin</th>\n      <th>Normal_nucleoli</th>\n      <th>Mitoses</th>\n    </tr>\n  </thead>\n  <tbody>\n    <tr>\n      <th>0</th>\n      <td>5</td>\n      <td>1</td>\n      <td>1</td>\n      <td>1</td>\n      <td>2</td>\n      <td>1.0</td>\n      <td>3</td>\n      <td>1</td>\n      <td>1</td>\n    </tr>\n    <tr>\n      <th>1</th>\n      <td>5</td>\n      <td>4</td>\n      <td>4</td>\n      <td>5</td>\n      <td>7</td>\n      <td>10.0</td>\n      <td>3</td>\n      <td>2</td>\n      <td>1</td>\n    </tr>\n    <tr>\n      <th>2</th>\n      <td>3</td>\n      <td>1</td>\n      <td>1</td>\n      <td>1</td>\n      <td>2</td>\n      <td>2.0</td>\n      <td>3</td>\n      <td>1</td>\n      <td>1</td>\n    </tr>\n    <tr>\n      <th>3</th>\n      <td>6</td>\n      <td>8</td>\n      <td>8</td>\n      <td>1</td>\n      <td>3</td>\n      <td>4.0</td>\n      <td>3</td>\n      <td>7</td>\n      <td>1</td>\n    </tr>\n    <tr>\n      <th>4</th>\n      <td>4</td>\n      <td>1</td>\n      <td>1</td>\n      <td>3</td>\n      <td>2</td>\n      <td>1.0</td>\n      <td>3</td>\n      <td>1</td>\n      <td>1</td>\n    </tr>\n    <tr>\n      <th>...</th>\n      <td>...</td>\n      <td>...</td>\n      <td>...</td>\n      <td>...</td>\n      <td>...</td>\n      <td>...</td>\n      <td>...</td>\n      <td>...</td>\n      <td>...</td>\n    </tr>\n    <tr>\n      <th>694</th>\n      <td>3</td>\n      <td>1</td>\n      <td>1</td>\n      <td>1</td>\n      <td>3</td>\n      <td>2.0</td>\n      <td>1</td>\n      <td>1</td>\n      <td>1</td>\n    </tr>\n    <tr>\n      <th>695</th>\n      <td>2</td>\n      <td>1</td>\n      <td>1</td>\n      <td>1</td>\n      <td>2</td>\n      <td>1.0</td>\n      <td>1</td>\n      <td>1</td>\n      <td>1</td>\n    </tr>\n    <tr>\n      <th>696</th>\n      <td>5</td>\n      <td>10</td>\n      <td>10</td>\n      <td>3</td>\n      <td>7</td>\n      <td>3.0</td>\n      <td>8</td>\n      <td>10</td>\n      <td>2</td>\n    </tr>\n    <tr>\n      <th>697</th>\n      <td>4</td>\n      <td>8</td>\n      <td>6</td>\n      <td>4</td>\n      <td>3</td>\n      <td>4.0</td>\n      <td>10</td>\n      <td>6</td>\n      <td>1</td>\n    </tr>\n    <tr>\n      <th>698</th>\n      <td>4</td>\n      <td>8</td>\n      <td>8</td>\n      <td>5</td>\n      <td>4</td>\n      <td>5.0</td>\n      <td>10</td>\n      <td>4</td>\n      <td>1</td>\n    </tr>\n  </tbody>\n</table>\n<p>699 rows × 9 columns</p>\n</div>"
     },
     "execution_count": 37,
     "metadata": {},
     "output_type": "execute_result"
    }
   ],
   "source": [
    "data"
   ],
   "metadata": {
    "collapsed": false,
    "ExecuteTime": {
     "end_time": "2024-02-23T13:40:44.417648700Z",
     "start_time": "2024-02-23T13:40:44.340490700Z"
    }
   },
   "id": "211bf23ddf602da6",
   "execution_count": 37
  },
  {
   "cell_type": "markdown",
   "source": [
    "## After using PDF and PPF for preprocessing, the result seem to dominate on value 1. Therefore, I will use standardization for the data."
   ],
   "metadata": {
    "collapsed": false
   },
   "id": "65ef549c26eb9ee8"
  },
  {
   "cell_type": "markdown",
   "source": [
    "### But we have to split the dataset for train and test"
   ],
   "metadata": {
    "collapsed": false
   },
   "id": "bcd3546c6003d8a1"
  },
  {
   "cell_type": "code",
   "outputs": [
    {
     "data": {
      "text/plain": "(Clump_thickness                419\n Uniformity_of_cell_size        419\n Uniformity_of_cell_shape       419\n Marginal_adhesion              419\n Single_epithelial_cell_size    419\n Bare_nuclei                    419\n Bland_chromatin                419\n Normal_nucleoli                419\n Mitoses                        419\n dtype: int64,\n Clump_thickness                280\n Uniformity_of_cell_size        280\n Uniformity_of_cell_shape       280\n Marginal_adhesion              280\n Single_epithelial_cell_size    280\n Bare_nuclei                    280\n Bland_chromatin                280\n Normal_nucleoli                280\n Mitoses                        280\n dtype: int64)"
     },
     "execution_count": 36,
     "metadata": {},
     "output_type": "execute_result"
    }
   ],
   "source": [
    "from sklearn.model_selection import train_test_split\n",
    "\n",
    "labels = y['Class']\n",
    "\n",
    "X_train, X_test, y_train, y_test = train_test_split(data, y,\n",
    "                                                    train_size=0.6,\n",
    "                                                    random_state=123,\n",
    "                                                    stratify=labels)\n",
    "X_train.count(), X_test.count()"
   ],
   "metadata": {
    "collapsed": false,
    "ExecuteTime": {
     "end_time": "2024-02-23T13:40:10.358022600Z",
     "start_time": "2024-02-23T13:40:10.277014900Z"
    }
   },
   "id": "117462d634a9fb85",
   "execution_count": 36
  },
  {
   "cell_type": "markdown",
   "source": [
    "### Normalize X_test and X_train"
   ],
   "metadata": {
    "collapsed": false
   },
   "id": "9a65768692280bcb"
  },
  {
   "cell_type": "code",
   "outputs": [
    {
     "data": {
      "text/plain": "     Clump_thickness  Uniformity_of_cell_size  Uniformity_of_cell_shape  \\\n203         0.217267                -0.692210                 -0.752721   \n608         0.217267                 2.204929                  2.250995   \n314        -1.222019                -0.692210                 -0.752721   \n477        -0.142555                -0.692210                 -0.752721   \n70          0.217267                -0.692210                 -0.085229   \n..               ...                      ...                       ...   \n176        -0.862197                -0.692210                 -0.752721   \n258        -0.502376                -0.692210                 -0.752721   \n32          2.016374                 1.239216                  1.249756   \n553        -0.142555                 0.273503                 -0.418975   \n399        -1.222019                -0.370305                 -0.085229   \n\n     Marginal_adhesion  Single_epithelial_cell_size  Bare_nuclei  \\\n203          -0.629560                    -0.530089    -0.699026   \n608           2.402457                     3.088768     1.785449   \n314          -0.629560                    -0.982446    -0.699026   \n477          -0.629560                    -0.530089    -0.699026   \n70           -0.629560                    -0.530089    -0.699026   \n..                 ...                          ...          ...   \n176          -0.629560                    -0.530089    -0.699026   \n258          -0.629560                    -0.530089    -0.699026   \n32            0.044222                     2.184054     0.405185   \n553          -0.629560                    -0.530089     0.405185   \n399          -0.629560                    -0.530089    -0.699026   \n\n     Bland_chromatin  Normal_nucleoli   Mitoses  \n203        -0.157888        -0.614245 -0.349261  \n608         2.736402        -0.614245 -0.349261  \n314        -0.571358        -0.614245 -0.349261  \n477        -0.984828        -0.614245 -0.349261  \n70         -0.571358        -0.614245 -0.349261  \n..               ...              ...       ...  \n176        -0.157888        -0.614245 -0.349261  \n258        -0.157888        -0.614245 -0.349261  \n32          1.495992         0.353306  0.901511  \n553        -0.571358        -0.614245  0.276125  \n399        -0.984828        -0.614245 -0.349261  \n\n[419 rows x 9 columns]",
      "text/html": "<div>\n<style scoped>\n    .dataframe tbody tr th:only-of-type {\n        vertical-align: middle;\n    }\n\n    .dataframe tbody tr th {\n        vertical-align: top;\n    }\n\n    .dataframe thead th {\n        text-align: right;\n    }\n</style>\n<table border=\"1\" class=\"dataframe\">\n  <thead>\n    <tr style=\"text-align: right;\">\n      <th></th>\n      <th>Clump_thickness</th>\n      <th>Uniformity_of_cell_size</th>\n      <th>Uniformity_of_cell_shape</th>\n      <th>Marginal_adhesion</th>\n      <th>Single_epithelial_cell_size</th>\n      <th>Bare_nuclei</th>\n      <th>Bland_chromatin</th>\n      <th>Normal_nucleoli</th>\n      <th>Mitoses</th>\n    </tr>\n  </thead>\n  <tbody>\n    <tr>\n      <th>203</th>\n      <td>0.217267</td>\n      <td>-0.692210</td>\n      <td>-0.752721</td>\n      <td>-0.629560</td>\n      <td>-0.530089</td>\n      <td>-0.699026</td>\n      <td>-0.157888</td>\n      <td>-0.614245</td>\n      <td>-0.349261</td>\n    </tr>\n    <tr>\n      <th>608</th>\n      <td>0.217267</td>\n      <td>2.204929</td>\n      <td>2.250995</td>\n      <td>2.402457</td>\n      <td>3.088768</td>\n      <td>1.785449</td>\n      <td>2.736402</td>\n      <td>-0.614245</td>\n      <td>-0.349261</td>\n    </tr>\n    <tr>\n      <th>314</th>\n      <td>-1.222019</td>\n      <td>-0.692210</td>\n      <td>-0.752721</td>\n      <td>-0.629560</td>\n      <td>-0.982446</td>\n      <td>-0.699026</td>\n      <td>-0.571358</td>\n      <td>-0.614245</td>\n      <td>-0.349261</td>\n    </tr>\n    <tr>\n      <th>477</th>\n      <td>-0.142555</td>\n      <td>-0.692210</td>\n      <td>-0.752721</td>\n      <td>-0.629560</td>\n      <td>-0.530089</td>\n      <td>-0.699026</td>\n      <td>-0.984828</td>\n      <td>-0.614245</td>\n      <td>-0.349261</td>\n    </tr>\n    <tr>\n      <th>70</th>\n      <td>0.217267</td>\n      <td>-0.692210</td>\n      <td>-0.085229</td>\n      <td>-0.629560</td>\n      <td>-0.530089</td>\n      <td>-0.699026</td>\n      <td>-0.571358</td>\n      <td>-0.614245</td>\n      <td>-0.349261</td>\n    </tr>\n    <tr>\n      <th>...</th>\n      <td>...</td>\n      <td>...</td>\n      <td>...</td>\n      <td>...</td>\n      <td>...</td>\n      <td>...</td>\n      <td>...</td>\n      <td>...</td>\n      <td>...</td>\n    </tr>\n    <tr>\n      <th>176</th>\n      <td>-0.862197</td>\n      <td>-0.692210</td>\n      <td>-0.752721</td>\n      <td>-0.629560</td>\n      <td>-0.530089</td>\n      <td>-0.699026</td>\n      <td>-0.157888</td>\n      <td>-0.614245</td>\n      <td>-0.349261</td>\n    </tr>\n    <tr>\n      <th>258</th>\n      <td>-0.502376</td>\n      <td>-0.692210</td>\n      <td>-0.752721</td>\n      <td>-0.629560</td>\n      <td>-0.530089</td>\n      <td>-0.699026</td>\n      <td>-0.157888</td>\n      <td>-0.614245</td>\n      <td>-0.349261</td>\n    </tr>\n    <tr>\n      <th>32</th>\n      <td>2.016374</td>\n      <td>1.239216</td>\n      <td>1.249756</td>\n      <td>0.044222</td>\n      <td>2.184054</td>\n      <td>0.405185</td>\n      <td>1.495992</td>\n      <td>0.353306</td>\n      <td>0.901511</td>\n    </tr>\n    <tr>\n      <th>553</th>\n      <td>-0.142555</td>\n      <td>0.273503</td>\n      <td>-0.418975</td>\n      <td>-0.629560</td>\n      <td>-0.530089</td>\n      <td>0.405185</td>\n      <td>-0.571358</td>\n      <td>-0.614245</td>\n      <td>0.276125</td>\n    </tr>\n    <tr>\n      <th>399</th>\n      <td>-1.222019</td>\n      <td>-0.370305</td>\n      <td>-0.085229</td>\n      <td>-0.629560</td>\n      <td>-0.530089</td>\n      <td>-0.699026</td>\n      <td>-0.984828</td>\n      <td>-0.614245</td>\n      <td>-0.349261</td>\n    </tr>\n  </tbody>\n</table>\n<p>419 rows × 9 columns</p>\n</div>"
     },
     "execution_count": 41,
     "metadata": {},
     "output_type": "execute_result"
    }
   ],
   "source": [
    "# นิยามฟังก์ชันที่เองชื่อ normalize\n",
    "def normalize(col):\n",
    "    # ตัวแปรชื่อ col ที่รับมาจาก apply จะเป็นเพียงคอลัมน์ ๆ หนึ่งของ X_train\n",
    "    return (col - col.mean())/col.std(ddof=0) # Standardization\n",
    "\n",
    "new_X_train = X_train.apply(normalize)\n",
    "new_X_train"
   ],
   "metadata": {
    "collapsed": false,
    "ExecuteTime": {
     "end_time": "2024-02-23T13:42:56.935357500Z",
     "start_time": "2024-02-23T13:42:56.906978200Z"
    }
   },
   "id": "e08cf72446cad04",
   "execution_count": 41
  },
  {
   "cell_type": "code",
   "outputs": [
    {
     "data": {
      "text/plain": "<Figure size 640x480 with 1 Axes>",
      "image/png": "[encoded data removed]"
     },
     "metadata": {},
     "output_type": "display_data"
    }
   ],
   "source": [
    "plot_pdf(new_X_train, 'Bare_nuclei')"
   ],
   "metadata": {
    "collapsed": false,
    "ExecuteTime": {
     "end_time": "2024-02-12T17:58:39.223066500Z",
     "start_time": "2024-02-12T17:58:39.055164700Z"
    }
   },
   "id": "9f1cb6c662868f88",
   "execution_count": 66
  },
  {
   "cell_type": "markdown",
   "source": [
    "### After plotting gaussian function, we know that the normalize is doing its work"
   ],
   "metadata": {
    "collapsed": false
   },
   "id": "a50c72e91c941616"
  },
  {
   "cell_type": "code",
   "outputs": [
    {
     "data": {
      "text/plain": "<Figure size 1000x400 with 1 Axes>",
      "image/png": "[encoded data removed]"
     },
     "metadata": {},
     "output_type": "display_data"
    }
   ],
   "source": [
    "plot_gaussian_func(new_X_train, 'Bare_nuclei')"
   ],
   "metadata": {
    "collapsed": false,
    "ExecuteTime": {
     "end_time": "2024-02-12T17:59:03.409486700Z",
     "start_time": "2024-02-12T17:59:03.222566700Z"
    }
   },
   "id": "539b4aa7d8039d7e",
   "execution_count": 67
  },
  {
   "cell_type": "code",
   "outputs": [
    {
     "data": {
      "text/plain": "     Clump_thickness  Uniformity_of_cell_size  Uniformity_of_cell_shape  \\\n173         0.541130                 2.326362                  2.344188   \n558        -0.855335                -0.712742                 -0.729357   \n515        -0.157102                 2.326362                  0.295158   \n280        -0.506219                -0.712742                 -0.729357   \n234        -0.506219                -0.037386                 -0.387852   \n..               ...                      ...                       ...   \n443        -1.204451                -0.712742                 -0.729357   \n454        -0.855335                -0.037386                 -0.729357   \n464        -0.157102                -0.712742                 -0.729357   \n5           1.239363                 2.326362                  2.344188   \n167         1.937596                 1.651005                  2.344188   \n\n     Marginal_adhesion  Single_epithelial_cell_size  Bare_nuclei  \\\n173           2.729381                     2.130759     1.821531   \n558          -0.642207                    -0.579063    -0.669114   \n515           1.605518                    -0.127426     1.821531   \n280          -0.642207                    -0.579063    -0.669114   \n234          -0.642207                    -0.127426    -0.669114   \n..                 ...                          ...          ...   \n443          -0.642207                    -0.579063    -0.392375   \n454          -0.642207                    -0.127426    -0.669114   \n464          -0.642207                    -0.579063    -0.669114   \n5             1.980139                     1.679122     1.821531   \n167           2.729381                     1.227485    -0.669114   \n\n     Bland_chromatin  Normal_nucleoli   Mitoses  \n173         2.632460         2.416180  2.866099  \n558        -0.618207        -0.608546 -0.339658  \n515         2.226127         2.416180 -0.339658  \n280        -0.211874        -0.608546 -0.339658  \n234        -0.211874         1.071857 -0.339658  \n..               ...              ...       ...  \n443        -1.024541        -0.608546 -0.339658  \n454        -1.024541        -0.608546 -0.339658  \n464        -1.024541        -0.608546 -0.339658  \n5           2.226127         1.407938 -0.339658  \n167        -0.211874        -0.608546  4.468977  \n\n[280 rows x 9 columns]",
      "text/html": "<div>\n<style scoped>\n    .dataframe tbody tr th:only-of-type {\n        vertical-align: middle;\n    }\n\n    .dataframe tbody tr th {\n        vertical-align: top;\n    }\n\n    .dataframe thead th {\n        text-align: right;\n    }\n</style>\n<table border=\"1\" class=\"dataframe\">\n  <thead>\n    <tr style=\"text-align: right;\">\n      <th></th>\n      <th>Clump_thickness</th>\n      <th>Uniformity_of_cell_size</th>\n      <th>Uniformity_of_cell_shape</th>\n      <th>Marginal_adhesion</th>\n      <th>Single_epithelial_cell_size</th>\n      <th>Bare_nuclei</th>\n      <th>Bland_chromatin</th>\n      <th>Normal_nucleoli</th>\n      <th>Mitoses</th>\n    </tr>\n  </thead>\n  <tbody>\n    <tr>\n      <th>173</th>\n      <td>0.541130</td>\n      <td>2.326362</td>\n      <td>2.344188</td>\n      <td>2.729381</td>\n      <td>2.130759</td>\n      <td>1.821531</td>\n      <td>2.632460</td>\n      <td>2.416180</td>\n      <td>2.866099</td>\n    </tr>\n    <tr>\n      <th>558</th>\n      <td>-0.855335</td>\n      <td>-0.712742</td>\n      <td>-0.729357</td>\n      <td>-0.642207</td>\n      <td>-0.579063</td>\n      <td>-0.669114</td>\n      <td>-0.618207</td>\n      <td>-0.608546</td>\n      <td>-0.339658</td>\n    </tr>\n    <tr>\n      <th>515</th>\n      <td>-0.157102</td>\n      <td>2.326362</td>\n      <td>0.295158</td>\n      <td>1.605518</td>\n      <td>-0.127426</td>\n      <td>1.821531</td>\n      <td>2.226127</td>\n      <td>2.416180</td>\n      <td>-0.339658</td>\n    </tr>\n    <tr>\n      <th>280</th>\n      <td>-0.506219</td>\n      <td>-0.712742</td>\n      <td>-0.729357</td>\n      <td>-0.642207</td>\n      <td>-0.579063</td>\n      <td>-0.669114</td>\n      <td>-0.211874</td>\n      <td>-0.608546</td>\n      <td>-0.339658</td>\n    </tr>\n    <tr>\n      <th>234</th>\n      <td>-0.506219</td>\n      <td>-0.037386</td>\n      <td>-0.387852</td>\n      <td>-0.642207</td>\n      <td>-0.127426</td>\n      <td>-0.669114</td>\n      <td>-0.211874</td>\n      <td>1.071857</td>\n      <td>-0.339658</td>\n    </tr>\n    <tr>\n      <th>...</th>\n      <td>...</td>\n      <td>...</td>\n      <td>...</td>\n      <td>...</td>\n      <td>...</td>\n      <td>...</td>\n      <td>...</td>\n      <td>...</td>\n      <td>...</td>\n    </tr>\n    <tr>\n      <th>443</th>\n      <td>-1.204451</td>\n      <td>-0.712742</td>\n      <td>-0.729357</td>\n      <td>-0.642207</td>\n      <td>-0.579063</td>\n      <td>-0.392375</td>\n      <td>-1.024541</td>\n      <td>-0.608546</td>\n      <td>-0.339658</td>\n    </tr>\n    <tr>\n      <th>454</th>\n      <td>-0.855335</td>\n      <td>-0.037386</td>\n      <td>-0.729357</td>\n      <td>-0.642207</td>\n      <td>-0.127426</td>\n      <td>-0.669114</td>\n      <td>-1.024541</td>\n      <td>-0.608546</td>\n      <td>-0.339658</td>\n    </tr>\n    <tr>\n      <th>464</th>\n      <td>-0.157102</td>\n      <td>-0.712742</td>\n      <td>-0.729357</td>\n      <td>-0.642207</td>\n      <td>-0.579063</td>\n      <td>-0.669114</td>\n      <td>-1.024541</td>\n      <td>-0.608546</td>\n      <td>-0.339658</td>\n    </tr>\n    <tr>\n      <th>5</th>\n      <td>1.239363</td>\n      <td>2.326362</td>\n      <td>2.344188</td>\n      <td>1.980139</td>\n      <td>1.679122</td>\n      <td>1.821531</td>\n      <td>2.226127</td>\n      <td>1.407938</td>\n      <td>-0.339658</td>\n    </tr>\n    <tr>\n      <th>167</th>\n      <td>1.937596</td>\n      <td>1.651005</td>\n      <td>2.344188</td>\n      <td>2.729381</td>\n      <td>1.227485</td>\n      <td>-0.669114</td>\n      <td>-0.211874</td>\n      <td>-0.608546</td>\n      <td>4.468977</td>\n    </tr>\n  </tbody>\n</table>\n<p>280 rows × 9 columns</p>\n</div>"
     },
     "execution_count": 42,
     "metadata": {},
     "output_type": "execute_result"
    }
   ],
   "source": [
    "new_X_test = X_test.apply(normalize)\n",
    "new_X_test"
   ],
   "metadata": {
    "collapsed": false,
    "ExecuteTime": {
     "end_time": "2024-02-23T13:52:54.556667500Z",
     "start_time": "2024-02-23T13:52:54.531339300Z"
    }
   },
   "id": "5fdf320dc423845a",
   "execution_count": 42
  },
  {
   "cell_type": "code",
   "outputs": [
    {
     "data": {
      "text/plain": "LinearRegression()",
      "text/html": "<style>#sk-container-id-1 {color: black;}#sk-container-id-1 pre{padding: 0;}#sk-container-id-1 div.sk-toggleable {background-color: white;}#sk-container-id-1 label.sk-toggleable__label {cursor: pointer;display: block;width: 100%;margin-bottom: 0;padding: 0.3em;box-sizing: border-box;text-align: center;}#sk-container-id-1 label.sk-toggleable__label-arrow:before {content: \"▸\";float: left;margin-right: 0.25em;color: #696969;}#sk-container-id-1 label.sk-toggleable__label-arrow:hover:before {color: black;}#sk-container-id-1 div.sk-estimator:hover label.sk-toggleable__label-arrow:before {color: black;}#sk-container-id-1 div.sk-toggleable__content {max-height: 0;max-width: 0;overflow: hidden;text-align: left;background-color: #f0f8ff;}#sk-container-id-1 div.sk-toggleable__content pre {margin: 0.2em;color: black;border-radius: 0.25em;background-color: #f0f8ff;}#sk-container-id-1 input.sk-toggleable__control:checked~div.sk-toggleable__content {max-height: 200px;max-width: 100%;overflow: auto;}#sk-container-id-1 input.sk-toggleable__control:checked~label.sk-toggleable__label-arrow:before {content: \"▾\";}#sk-container-id-1 div.sk-estimator input.sk-toggleable__control:checked~label.sk-toggleable__label {background-color: #d4ebff;}#sk-container-id-1 div.sk-label input.sk-toggleable__control:checked~label.sk-toggleable__label {background-color: #d4ebff;}#sk-container-id-1 input.sk-hidden--visually {border: 0;clip: rect(1px 1px 1px 1px);clip: rect(1px, 1px, 1px, 1px);height: 1px;margin: -1px;overflow: hidden;padding: 0;position: absolute;width: 1px;}#sk-container-id-1 div.sk-estimator {font-family: monospace;background-color: #f0f8ff;border: 1px dotted black;border-radius: 0.25em;box-sizing: border-box;margin-bottom: 0.5em;}#sk-container-id-1 div.sk-estimator:hover {background-color: #d4ebff;}#sk-container-id-1 div.sk-parallel-item::after {content: \"\";width: 100%;border-bottom: 1px solid gray;flex-grow: 1;}#sk-container-id-1 div.sk-label:hover label.sk-toggleable__label {background-color: #d4ebff;}#sk-container-id-1 div.sk-serial::before {content: \"\";position: absolute;border-left: 1px solid gray;box-sizing: border-box;top: 0;bottom: 0;left: 50%;z-index: 0;}#sk-container-id-1 div.sk-serial {display: flex;flex-direction: column;align-items: center;background-color: white;padding-right: 0.2em;padding-left: 0.2em;position: relative;}#sk-container-id-1 div.sk-item {position: relative;z-index: 1;}#sk-container-id-1 div.sk-parallel {display: flex;align-items: stretch;justify-content: center;background-color: white;position: relative;}#sk-container-id-1 div.sk-item::before, #sk-container-id-1 div.sk-parallel-item::before {content: \"\";position: absolute;border-left: 1px solid gray;box-sizing: border-box;top: 0;bottom: 0;left: 50%;z-index: -1;}#sk-container-id-1 div.sk-parallel-item {display: flex;flex-direction: column;z-index: 1;position: relative;background-color: white;}#sk-container-id-1 div.sk-parallel-item:first-child::after {align-self: flex-end;width: 50%;}#sk-container-id-1 div.sk-parallel-item:last-child::after {align-self: flex-start;width: 50%;}#sk-container-id-1 div.sk-parallel-item:only-child::after {width: 0;}#sk-container-id-1 div.sk-dashed-wrapped {border: 1px dashed gray;margin: 0 0.4em 0.5em 0.4em;box-sizing: border-box;padding-bottom: 0.4em;background-color: white;}#sk-container-id-1 div.sk-label label {font-family: monospace;font-weight: bold;display: inline-block;line-height: 1.2em;}#sk-container-id-1 div.sk-label-container {text-align: center;}#sk-container-id-1 div.sk-container {/* jupyter's `normalize.less` sets `[hidden] { display: none; }` but bootstrap.min.css set `[hidden] { display: none !important; }` so we also need the `!important` here to be able to override the default hidden behavior on the sphinx rendered scikit-learn.org. See: https://github.com/scikit-learn/scikit-learn/issues/21755 */display: inline-block !important;position: relative;}#sk-container-id-1 div.sk-text-repr-fallback {display: none;}</style><div id=\"sk-container-id-1\" class=\"sk-top-container\"><div class=\"sk-text-repr-fallback\"><pre>LinearRegression()</pre><b>In a Jupyter environment, please rerun this cell to show the HTML representation or trust the notebook. <br />On GitHub, the HTML representation is unable to render, please try loading this page with nbviewer.org.</b></div><div class=\"sk-container\" hidden><div class=\"sk-item\"><div class=\"sk-estimator sk-toggleable\"><input class=\"sk-toggleable__control sk-hidden--visually\" id=\"sk-estimator-id-1\" type=\"checkbox\" checked><label for=\"sk-estimator-id-1\" class=\"sk-toggleable__label sk-toggleable__label-arrow\">LinearRegression</label><div class=\"sk-toggleable__content\"><pre>LinearRegression()</pre></div></div></div></div></div>"
     },
     "execution_count": 43,
     "metadata": {},
     "output_type": "execute_result"
    }
   ],
   "source": [
    "from sklearn.linear_model import LinearRegression\n",
    "model = LinearRegression()\n",
    "model"
   ],
   "metadata": {
    "collapsed": false,
    "ExecuteTime": {
     "end_time": "2024-02-23T13:53:01.668107Z",
     "start_time": "2024-02-23T13:53:01.390970600Z"
    }
   },
   "id": "c1588b0245fc7be2",
   "execution_count": 43
  },
  {
   "cell_type": "code",
   "outputs": [
    {
     "data": {
      "text/plain": "LinearRegression()",
      "text/html": "<style>#sk-container-id-2 {color: black;}#sk-container-id-2 pre{padding: 0;}#sk-container-id-2 div.sk-toggleable {background-color: white;}#sk-container-id-2 label.sk-toggleable__label {cursor: pointer;display: block;width: 100%;margin-bottom: 0;padding: 0.3em;box-sizing: border-box;text-align: center;}#sk-container-id-2 label.sk-toggleable__label-arrow:before {content: \"▸\";float: left;margin-right: 0.25em;color: #696969;}#sk-container-id-2 label.sk-toggleable__label-arrow:hover:before {color: black;}#sk-container-id-2 div.sk-estimator:hover label.sk-toggleable__label-arrow:before {color: black;}#sk-container-id-2 div.sk-toggleable__content {max-height: 0;max-width: 0;overflow: hidden;text-align: left;background-color: #f0f8ff;}#sk-container-id-2 div.sk-toggleable__content pre {margin: 0.2em;color: black;border-radius: 0.25em;background-color: #f0f8ff;}#sk-container-id-2 input.sk-toggleable__control:checked~div.sk-toggleable__content {max-height: 200px;max-width: 100%;overflow: auto;}#sk-container-id-2 input.sk-toggleable__control:checked~label.sk-toggleable__label-arrow:before {content: \"▾\";}#sk-container-id-2 div.sk-estimator input.sk-toggleable__control:checked~label.sk-toggleable__label {background-color: #d4ebff;}#sk-container-id-2 div.sk-label input.sk-toggleable__control:checked~label.sk-toggleable__label {background-color: #d4ebff;}#sk-container-id-2 input.sk-hidden--visually {border: 0;clip: rect(1px 1px 1px 1px);clip: rect(1px, 1px, 1px, 1px);height: 1px;margin: -1px;overflow: hidden;padding: 0;position: absolute;width: 1px;}#sk-container-id-2 div.sk-estimator {font-family: monospace;background-color: #f0f8ff;border: 1px dotted black;border-radius: 0.25em;box-sizing: border-box;margin-bottom: 0.5em;}#sk-container-id-2 div.sk-estimator:hover {background-color: #d4ebff;}#sk-container-id-2 div.sk-parallel-item::after {content: \"\";width: 100%;border-bottom: 1px solid gray;flex-grow: 1;}#sk-container-id-2 div.sk-label:hover label.sk-toggleable__label {background-color: #d4ebff;}#sk-container-id-2 div.sk-serial::before {content: \"\";position: absolute;border-left: 1px solid gray;box-sizing: border-box;top: 0;bottom: 0;left: 50%;z-index: 0;}#sk-container-id-2 div.sk-serial {display: flex;flex-direction: column;align-items: center;background-color: white;padding-right: 0.2em;padding-left: 0.2em;position: relative;}#sk-container-id-2 div.sk-item {position: relative;z-index: 1;}#sk-container-id-2 div.sk-parallel {display: flex;align-items: stretch;justify-content: center;background-color: white;position: relative;}#sk-container-id-2 div.sk-item::before, #sk-container-id-2 div.sk-parallel-item::before {content: \"\";position: absolute;border-left: 1px solid gray;box-sizing: border-box;top: 0;bottom: 0;left: 50%;z-index: -1;}#sk-container-id-2 div.sk-parallel-item {display: flex;flex-direction: column;z-index: 1;position: relative;background-color: white;}#sk-container-id-2 div.sk-parallel-item:first-child::after {align-self: flex-end;width: 50%;}#sk-container-id-2 div.sk-parallel-item:last-child::after {align-self: flex-start;width: 50%;}#sk-container-id-2 div.sk-parallel-item:only-child::after {width: 0;}#sk-container-id-2 div.sk-dashed-wrapped {border: 1px dashed gray;margin: 0 0.4em 0.5em 0.4em;box-sizing: border-box;padding-bottom: 0.4em;background-color: white;}#sk-container-id-2 div.sk-label label {font-family: monospace;font-weight: bold;display: inline-block;line-height: 1.2em;}#sk-container-id-2 div.sk-label-container {text-align: center;}#sk-container-id-2 div.sk-container {/* jupyter's `normalize.less` sets `[hidden] { display: none; }` but bootstrap.min.css set `[hidden] { display: none !important; }` so we also need the `!important` here to be able to override the default hidden behavior on the sphinx rendered scikit-learn.org. See: https://github.com/scikit-learn/scikit-learn/issues/21755 */display: inline-block !important;position: relative;}#sk-container-id-2 div.sk-text-repr-fallback {display: none;}</style><div id=\"sk-container-id-2\" class=\"sk-top-container\"><div class=\"sk-text-repr-fallback\"><pre>LinearRegression()</pre><b>In a Jupyter environment, please rerun this cell to show the HTML representation or trust the notebook. <br />On GitHub, the HTML representation is unable to render, please try loading this page with nbviewer.org.</b></div><div class=\"sk-container\" hidden><div class=\"sk-item\"><div class=\"sk-estimator sk-toggleable\"><input class=\"sk-toggleable__control sk-hidden--visually\" id=\"sk-estimator-id-2\" type=\"checkbox\" checked><label for=\"sk-estimator-id-2\" class=\"sk-toggleable__label sk-toggleable__label-arrow\">LinearRegression</label><div class=\"sk-toggleable__content\"><pre>LinearRegression()</pre></div></div></div></div></div>"
     },
     "execution_count": 44,
     "metadata": {},
     "output_type": "execute_result"
    }
   ],
   "source": [
    "model.fit(X_train, y_train)"
   ],
   "metadata": {
    "collapsed": false,
    "ExecuteTime": {
     "end_time": "2024-02-23T13:53:09.455961200Z",
     "start_time": "2024-02-23T13:53:09.434046700Z"
    }
   },
   "id": "8fd85b3ab3fd1866",
   "execution_count": 44
  },
  {
   "cell_type": "code",
   "outputs": [
    {
     "name": "stdout",
     "output_type": "stream",
     "text": [
      "สมการคือ f(x) = [[ 0.06438575  0.03897254  0.02250181 -0.0035381  -0.00465739  0.10713917\n",
      "   0.05102723  0.05624999  0.0026541 ]]*x + [1.51467011]\n"
     ]
    }
   ],
   "source": [
    "w = model.coef_\n",
    "b = model.intercept_\n",
    "print(f'สมการคือ f(x) = {w}*x + {b}')"
   ],
   "metadata": {
    "collapsed": false,
    "ExecuteTime": {
     "end_time": "2024-02-23T13:53:21.001558400Z",
     "start_time": "2024-02-23T13:53:20.953270600Z"
    }
   },
   "id": "3b5e6fea35646545",
   "execution_count": 45
  },
  {
   "cell_type": "code",
   "outputs": [
    {
     "data": {
      "text/plain": "     Clump_thickness  Uniformity_of_cell_size  Uniformity_of_cell_shape  \\\n203         1.836599                 1.553643                  1.537172   \n608         1.836599                 1.904396                  1.739688   \n314         1.579056                 1.553643                  1.537172   \n477         1.772213                 1.553643                  1.537172   \n70          1.836599                 1.553643                  1.582176   \n..               ...                      ...                       ...   \n176         1.643442                 1.553643                  1.537172   \n258         1.707827                 1.553643                  1.537172   \n32          2.158528                 1.787478                  1.672183   \n553         1.772213                 1.670560                  1.559674   \n399         1.579056                 1.592615                  1.582176   \n\n     Marginal_adhesion  Single_epithelial_cell_size  Bare_nuclei  \\\n203           1.511132                     1.505355     1.621809   \n608           1.479289                     1.468096     2.586062   \n314           1.511132                     1.510013     1.621809   \n477           1.511132                     1.505355     1.621809   \n70            1.511132                     1.505355     1.621809   \n..                 ...                          ...          ...   \n176           1.511132                     1.505355     1.621809   \n258           1.511132                     1.505355     1.621809   \n32            1.504056                     1.477411     2.050366   \n553           1.511132                     1.505355     2.050366   \n399           1.511132                     1.505355     1.621809   \n\n     Bland_chromatin  Normal_nucleoli   Mitoses  \n203         1.667752          1.57092  1.517324  \n608         2.024942          1.57092  1.517324  \n314         1.616725          1.57092  1.517324  \n477         1.565697          1.57092  1.517324  \n70          1.616725          1.57092  1.517324  \n..               ...              ...       ...  \n176         1.667752          1.57092  1.517324  \n258         1.667752          1.57092  1.517324  \n32          1.871861          1.73967  1.522632  \n553         1.616725          1.57092  1.519978  \n399         1.565697          1.57092  1.517324  \n\n[419 rows x 9 columns]",
      "text/html": "<div>\n<style scoped>\n    .dataframe tbody tr th:only-of-type {\n        vertical-align: middle;\n    }\n\n    .dataframe tbody tr th {\n        vertical-align: top;\n    }\n\n    .dataframe thead th {\n        text-align: right;\n    }\n</style>\n<table border=\"1\" class=\"dataframe\">\n  <thead>\n    <tr style=\"text-align: right;\">\n      <th></th>\n      <th>Clump_thickness</th>\n      <th>Uniformity_of_cell_size</th>\n      <th>Uniformity_of_cell_shape</th>\n      <th>Marginal_adhesion</th>\n      <th>Single_epithelial_cell_size</th>\n      <th>Bare_nuclei</th>\n      <th>Bland_chromatin</th>\n      <th>Normal_nucleoli</th>\n      <th>Mitoses</th>\n    </tr>\n  </thead>\n  <tbody>\n    <tr>\n      <th>203</th>\n      <td>1.836599</td>\n      <td>1.553643</td>\n      <td>1.537172</td>\n      <td>1.511132</td>\n      <td>1.505355</td>\n      <td>1.621809</td>\n      <td>1.667752</td>\n      <td>1.57092</td>\n      <td>1.517324</td>\n    </tr>\n    <tr>\n      <th>608</th>\n      <td>1.836599</td>\n      <td>1.904396</td>\n      <td>1.739688</td>\n      <td>1.479289</td>\n      <td>1.468096</td>\n      <td>2.586062</td>\n      <td>2.024942</td>\n      <td>1.57092</td>\n      <td>1.517324</td>\n    </tr>\n    <tr>\n      <th>314</th>\n      <td>1.579056</td>\n      <td>1.553643</td>\n      <td>1.537172</td>\n      <td>1.511132</td>\n      <td>1.510013</td>\n      <td>1.621809</td>\n      <td>1.616725</td>\n      <td>1.57092</td>\n      <td>1.517324</td>\n    </tr>\n    <tr>\n      <th>477</th>\n      <td>1.772213</td>\n      <td>1.553643</td>\n      <td>1.537172</td>\n      <td>1.511132</td>\n      <td>1.505355</td>\n      <td>1.621809</td>\n      <td>1.565697</td>\n      <td>1.57092</td>\n      <td>1.517324</td>\n    </tr>\n    <tr>\n      <th>70</th>\n      <td>1.836599</td>\n      <td>1.553643</td>\n      <td>1.582176</td>\n      <td>1.511132</td>\n      <td>1.505355</td>\n      <td>1.621809</td>\n      <td>1.616725</td>\n      <td>1.57092</td>\n      <td>1.517324</td>\n    </tr>\n    <tr>\n      <th>...</th>\n      <td>...</td>\n      <td>...</td>\n      <td>...</td>\n      <td>...</td>\n      <td>...</td>\n      <td>...</td>\n      <td>...</td>\n      <td>...</td>\n      <td>...</td>\n    </tr>\n    <tr>\n      <th>176</th>\n      <td>1.643442</td>\n      <td>1.553643</td>\n      <td>1.537172</td>\n      <td>1.511132</td>\n      <td>1.505355</td>\n      <td>1.621809</td>\n      <td>1.667752</td>\n      <td>1.57092</td>\n      <td>1.517324</td>\n    </tr>\n    <tr>\n      <th>258</th>\n      <td>1.707827</td>\n      <td>1.553643</td>\n      <td>1.537172</td>\n      <td>1.511132</td>\n      <td>1.505355</td>\n      <td>1.621809</td>\n      <td>1.667752</td>\n      <td>1.57092</td>\n      <td>1.517324</td>\n    </tr>\n    <tr>\n      <th>32</th>\n      <td>2.158528</td>\n      <td>1.787478</td>\n      <td>1.672183</td>\n      <td>1.504056</td>\n      <td>1.477411</td>\n      <td>2.050366</td>\n      <td>1.871861</td>\n      <td>1.73967</td>\n      <td>1.522632</td>\n    </tr>\n    <tr>\n      <th>553</th>\n      <td>1.772213</td>\n      <td>1.670560</td>\n      <td>1.559674</td>\n      <td>1.511132</td>\n      <td>1.505355</td>\n      <td>2.050366</td>\n      <td>1.616725</td>\n      <td>1.57092</td>\n      <td>1.519978</td>\n    </tr>\n    <tr>\n      <th>399</th>\n      <td>1.579056</td>\n      <td>1.592615</td>\n      <td>1.582176</td>\n      <td>1.511132</td>\n      <td>1.505355</td>\n      <td>1.621809</td>\n      <td>1.565697</td>\n      <td>1.57092</td>\n      <td>1.517324</td>\n    </tr>\n  </tbody>\n</table>\n<p>419 rows × 9 columns</p>\n</div>"
     },
     "execution_count": 46,
     "metadata": {},
     "output_type": "execute_result"
    }
   ],
   "source": [
    "[ 0.06438575,  0.03897254,  0.02250181, -0.0035381,  -0.00465739,  0.10713917,\n",
    "  0.05102723,  0.05624999,  0.0026541 ]*X_train + 1.51467011"
   ],
   "metadata": {
    "collapsed": false,
    "ExecuteTime": {
     "end_time": "2024-02-23T13:55:06.415037600Z",
     "start_time": "2024-02-23T13:55:06.363487700Z"
    }
   },
   "id": "abd6fa498bd59595",
   "execution_count": 46
  },
  {
   "cell_type": "code",
   "outputs": [
    {
     "data": {
      "text/plain": "array([[2.20434527],\n       [4.00995555],\n       [1.90043244],\n       [2.03790506],\n       [2.19832166],\n       [2.22684708],\n       [2.390299  ],\n       [1.97351931],\n       [2.09521462],\n       [2.34048099],\n       [2.08893229],\n       [2.74974853],\n       [3.49593562],\n       [2.17581985],\n       [4.30043732],\n       [1.9781767 ],\n       [4.49647992],\n       [4.1820246 ],\n       [2.00291422],\n       [3.70556976],\n       [1.83767163],\n       [1.9601608 ],\n       [4.46663454],\n       [1.84474782],\n       [2.02997012],\n       [2.19620951],\n       [4.45545386],\n       [3.86296936],\n       [2.02454654],\n       [3.44045896],\n       [1.88975144],\n       [3.55153889],\n       [2.09521462],\n       [2.20956803],\n       [1.89577505],\n       [1.84474782],\n       [2.13995952],\n       [2.1980803 ],\n       [1.97975121],\n       [3.12504329],\n       [3.90354947],\n       [1.90043244],\n       [1.94680228],\n       [1.84940521],\n       [4.2966941 ],\n       [2.88487917],\n       [3.5329296 ],\n       [2.02454654],\n       [1.84940521],\n       [4.39590783],\n       [2.3754082 ],\n       [3.71873184],\n       [2.15443733],\n       [3.78490027],\n       [1.95145967],\n       [2.03790506],\n       [2.01118803],\n       [2.29274493],\n       [4.1281097 ],\n       [2.15331804],\n       [4.04031816],\n       [4.53718232],\n       [4.32512287],\n       [2.02454654],\n       [1.93289416],\n       [3.53180536],\n       [2.07557377],\n       [1.84474782],\n       [1.94680228],\n       [2.92103627],\n       [2.12479262],\n       [3.16107654],\n       [3.86885531],\n       [2.09521462],\n       [1.97351931],\n       [2.26045721],\n       [3.41720882],\n       [2.56321888],\n       [3.5270614 ],\n       [2.14126335],\n       [2.05194996],\n       [3.83546194],\n       [1.84940521],\n       [2.34425027],\n       [2.15331804],\n       [2.08893229],\n       [3.70802048],\n       [2.24934889],\n       [2.32044842],\n       [4.2590758 ],\n       [3.93450763],\n       [2.6547231 ],\n       [1.97351931],\n       [1.96190519],\n       [2.00764993],\n       [2.25065271],\n       [2.30334868],\n       [1.94543606],\n       [2.04102474],\n       [2.01118803],\n       [2.05146439],\n       [1.89842915],\n       [2.51507017],\n       [3.63076788],\n       [1.94680228],\n       [1.94680228],\n       [2.19852087],\n       [3.96747087],\n       [2.42773925],\n       [1.97351931],\n       [3.5345464 ],\n       [2.00305227],\n       [2.13393591],\n       [2.51646987],\n       [1.84474782],\n       [3.64319735],\n       [1.90913357],\n       [4.05284082],\n       [1.97351931],\n       [4.19172408],\n       [2.02454654],\n       [2.02454654],\n       [4.72799226],\n       [2.01747035],\n       [4.05629039],\n       [3.99279339],\n       [2.86885483],\n       [2.01118803],\n       [3.68724491],\n       [2.66457573],\n       [3.49683942],\n       [2.20956803],\n       [2.03790506],\n       [1.93283011],\n       [1.94680228],\n       [2.21523599],\n       [2.18372048],\n       [4.00140375],\n       [2.88123637],\n       [2.01988915],\n       [2.04704835],\n       [1.9601608 ],\n       [2.02454654],\n       [2.20434527],\n       [1.94680228],\n       [2.03790506],\n       [3.64543171],\n       [2.29493682],\n       [2.08893229],\n       [1.94680228],\n       [4.05213025],\n       [2.24331781],\n       [2.10541049],\n       [1.95145967],\n       [1.95145967],\n       [2.03324767],\n       [3.84065306],\n       [4.55523572],\n       [2.60618491],\n       [2.17133395],\n       [1.89577505],\n       [1.84474782],\n       [2.02454654],\n       [1.94680228],\n       [3.86146082],\n       [2.47456838],\n       [2.12479262],\n       [3.67772026],\n       [3.68023482],\n       [2.03077844],\n       [2.10229081],\n       [3.93181002],\n       [4.06848297],\n       [2.13097017],\n       [4.4527489 ],\n       [3.90363425],\n       [3.58674336],\n       [2.06552486],\n       [1.88975144],\n       [3.40369204],\n       [4.06123091],\n       [3.38248111],\n       [2.14729443],\n       [2.18472179],\n       [4.07668733],\n       [1.84474782],\n       [2.16108062],\n       [2.75427331],\n       [2.08893229],\n       [2.13288333],\n       [1.94680228],\n       [3.69702056],\n       [1.89577505],\n       [3.47794334],\n       [1.94077867],\n       [3.95731844],\n       [1.97351931],\n       [2.02454654],\n       [2.07607006],\n       [2.02920393],\n       [2.12732891],\n       [2.03368984],\n       [2.07600109],\n       [1.84474782],\n       [1.9601608 ],\n       [1.91974997],\n       [2.02454654],\n       [2.01118803],\n       [3.88604869],\n       [3.89716056],\n       [3.80177376],\n       [1.84474782],\n       [1.89577505],\n       [4.290397  ],\n       [2.16288116],\n       [3.85834525],\n       [1.90913357],\n       [2.15960037],\n       [4.21677332],\n       [2.03790506],\n       [2.26750428],\n       [1.88975144],\n       [3.72524558],\n       [2.68446995],\n       [2.02454654],\n       [2.03082887],\n       [2.10229081],\n       [3.90744499],\n       [2.11976907],\n       [2.02454654],\n       [4.16326962],\n       [3.39214731],\n       [2.11100822],\n       [1.97351931],\n       [2.02454654],\n       [2.68384037],\n       [3.87479176],\n       [2.40207599],\n       [2.13995952],\n       [1.84474782],\n       [3.5231602 ],\n       [4.63836096],\n       [2.95734844],\n       [4.10823615],\n       [2.66268176],\n       [1.84474782],\n       [2.15040664],\n       [1.97351931],\n       [3.28524867],\n       [3.88231437],\n       [1.90622217],\n       [2.08893229],\n       [2.21770379],\n       [4.50242366],\n       [2.01118803],\n       [1.94680228],\n       [2.29098445],\n       [2.22684708],\n       [3.49512711],\n       [2.33769024],\n       [2.07557377],\n       [2.20434527],\n       [3.16696044],\n       [2.15040664],\n       [1.84474782],\n       [2.9110548 ],\n       [2.59295109],\n       [4.75187918],\n       [1.95145967],\n       [3.79316481],\n       [3.68887546],\n       [3.71261546],\n       [2.31204981],\n       [3.60542223],\n       [4.77374845],\n       [3.50131005],\n       [3.75702725],\n       [3.66819449],\n       [2.32657179],\n       [3.57935514],\n       [2.20434527],\n       [4.00490109],\n       [2.09415505],\n       [3.93713533],\n       [4.06932189],\n       [3.78443498],\n       [1.89223695],\n       [1.89577505],\n       [2.16616532],\n       [2.06955016],\n       [2.13288333],\n       [3.84037243],\n       [3.33599884],\n       [4.22286108],\n       [3.46986273],\n       [1.90913357],\n       [1.96328048],\n       [3.7902247 ],\n       [2.15960037],\n       [3.80237057],\n       [1.89577505],\n       [2.02920393],\n       [3.7263813 ],\n       [1.89577505],\n       [3.72469517],\n       [2.20900266],\n       [2.30794634],\n       [1.84474782],\n       [4.26193952],\n       [3.59442788],\n       [1.94077867],\n       [1.89577505],\n       [3.95153157],\n       [3.85779107],\n       [3.64945443],\n       [1.90559547],\n       [1.97351931],\n       [2.1114341 ],\n       [2.13995952],\n       [3.99781274],\n       [2.02454654],\n       [2.01118803],\n       [3.48715455],\n       [3.95748312],\n       [2.08079653],\n       [4.37083899],\n       [2.00764993],\n       [2.15331804],\n       [2.04704835],\n       [1.9601608 ],\n       [2.42120947],\n       [2.12479262],\n       [3.8656517 ],\n       [2.01641079],\n       [2.06040687],\n       [2.03790506],\n       [1.94680228],\n       [1.90043244],\n       [1.84474782],\n       [4.7242111 ],\n       [2.19832166],\n       [1.90913357],\n       [2.15331804],\n       [2.1114341 ],\n       [4.30960806],\n       [2.13995952],\n       [4.31597429],\n       [1.95145967],\n       [4.27304372],\n       [2.02454654],\n       [2.15331804],\n       [3.15048865],\n       [2.27330449],\n       [2.20434527],\n       [2.10229081],\n       [3.66133032],\n       [2.28142869],\n       [2.05660736],\n       [2.31909848],\n       [1.84474782],\n       [2.03810587],\n       [1.96998122],\n       [1.84940521],\n       [2.13995952],\n       [1.94680228],\n       [2.1430792 ],\n       [1.86259224],\n       [3.3412809 ],\n       [2.01988915],\n       [2.07557377],\n       [3.30884482],\n       [2.15331804],\n       [3.55209782],\n       [1.94680228],\n       [2.31373464],\n       [1.90043244],\n       [1.89577505],\n       [4.64573597],\n       [2.20434527],\n       [2.26806965],\n       [4.70698698],\n       [2.18023589],\n       [3.27855194],\n       [2.26873102],\n       [4.6438657 ],\n       [1.95550341],\n       [2.41088461],\n       [1.97351931],\n       [1.89577505],\n       [2.20434527],\n       [4.14925908],\n       [1.84474782],\n       [2.07994294],\n       [1.84474782],\n       [3.70417534],\n       [3.78896146],\n       [4.33548371],\n       [1.94680228],\n       [2.10229081],\n       [4.15803824],\n       [4.42257479],\n       [2.22684708],\n       [1.84474782],\n       [1.91827686],\n       [1.99248303],\n       [3.89998191],\n       [2.07583249],\n       [2.02920393],\n       [2.33528305],\n       [3.49250483],\n       [3.68297902],\n       [2.03790506],\n       [3.7841627 ],\n       [1.90043244],\n       [2.01118803],\n       [2.07557377],\n       [3.66682333],\n       [2.65956249],\n       [1.92872397]])"
     },
     "execution_count": 47,
     "metadata": {},
     "output_type": "execute_result"
    }
   ],
   "source": [
    "y_train_predict = model.predict(X_train)  # ทำนาย training set ให้ผลลัพธ์เหมือนการคำนวณจากสมการโดยตรง\n",
    "y_train_predict"
   ],
   "metadata": {
    "collapsed": false,
    "ExecuteTime": {
     "end_time": "2024-02-23T13:55:51.318911Z",
     "start_time": "2024-02-23T13:55:51.286276Z"
    }
   },
   "id": "d713117f2d2260e9",
   "execution_count": 47
  },
  {
   "cell_type": "code",
   "outputs": [
    {
     "data": {
      "text/plain": "     Clump_thickness  Uniformity_of_cell_size  Uniformity_of_cell_shape  \\\n203                5                        1                         1   \n608                5                       10                        10   \n314                1                        1                         1   \n477                4                        1                         1   \n70                 5                        1                         3   \n..               ...                      ...                       ...   \n176                2                        1                         1   \n258                3                        1                         1   \n32                10                        7                         7   \n553                4                        4                         2   \n399                1                        2                         3   \n\n     Marginal_adhesion  Single_epithelial_cell_size  Bare_nuclei  \\\n203                  1                            2          1.0   \n608                 10                           10         10.0   \n314                  1                            1          1.0   \n477                  1                            2          1.0   \n70                   1                            2          1.0   \n..                 ...                          ...          ...   \n176                  1                            2          1.0   \n258                  1                            2          1.0   \n32                   3                            8          5.0   \n553                  1                            2          5.0   \n399                  1                            2          1.0   \n\n     Bland_chromatin  Normal_nucleoli  Mitoses  class  class_predict  \n203                3                1        1      2       2.204345  \n608               10                1        1      4       4.009956  \n314                2                1        1      2       1.900432  \n477                1                1        1      2       2.037905  \n70                 2                1        1      2       2.198322  \n..               ...              ...      ...    ...            ...  \n176                3                1        1      2       2.011188  \n258                3                1        1      2       2.075574  \n32                 7                4        3      4       3.666823  \n553                2                1        2      2       2.659562  \n399                1                1        1      2       1.928724  \n\n[419 rows x 11 columns]",
      "text/html": "<div>\n<style scoped>\n    .dataframe tbody tr th:only-of-type {\n        vertical-align: middle;\n    }\n\n    .dataframe tbody tr th {\n        vertical-align: top;\n    }\n\n    .dataframe thead th {\n        text-align: right;\n    }\n</style>\n<table border=\"1\" class=\"dataframe\">\n  <thead>\n    <tr style=\"text-align: right;\">\n      <th></th>\n      <th>Clump_thickness</th>\n      <th>Uniformity_of_cell_size</th>\n      <th>Uniformity_of_cell_shape</th>\n      <th>Marginal_adhesion</th>\n      <th>Single_epithelial_cell_size</th>\n      <th>Bare_nuclei</th>\n      <th>Bland_chromatin</th>\n      <th>Normal_nucleoli</th>\n      <th>Mitoses</th>\n      <th>class</th>\n      <th>class_predict</th>\n    </tr>\n  </thead>\n  <tbody>\n    <tr>\n      <th>203</th>\n      <td>5</td>\n      <td>1</td>\n      <td>1</td>\n      <td>1</td>\n      <td>2</td>\n      <td>1.0</td>\n      <td>3</td>\n      <td>1</td>\n      <td>1</td>\n      <td>2</td>\n      <td>2.204345</td>\n    </tr>\n    <tr>\n      <th>608</th>\n      <td>5</td>\n      <td>10</td>\n      <td>10</td>\n      <td>10</td>\n      <td>10</td>\n      <td>10.0</td>\n      <td>10</td>\n      <td>1</td>\n      <td>1</td>\n      <td>4</td>\n      <td>4.009956</td>\n    </tr>\n    <tr>\n      <th>314</th>\n      <td>1</td>\n      <td>1</td>\n      <td>1</td>\n      <td>1</td>\n      <td>1</td>\n      <td>1.0</td>\n      <td>2</td>\n      <td>1</td>\n      <td>1</td>\n      <td>2</td>\n      <td>1.900432</td>\n    </tr>\n    <tr>\n      <th>477</th>\n      <td>4</td>\n      <td>1</td>\n      <td>1</td>\n      <td>1</td>\n      <td>2</td>\n      <td>1.0</td>\n      <td>1</td>\n      <td>1</td>\n      <td>1</td>\n      <td>2</td>\n      <td>2.037905</td>\n    </tr>\n    <tr>\n      <th>70</th>\n      <td>5</td>\n      <td>1</td>\n      <td>3</td>\n      <td>1</td>\n      <td>2</td>\n      <td>1.0</td>\n      <td>2</td>\n      <td>1</td>\n      <td>1</td>\n      <td>2</td>\n      <td>2.198322</td>\n    </tr>\n    <tr>\n      <th>...</th>\n      <td>...</td>\n      <td>...</td>\n      <td>...</td>\n      <td>...</td>\n      <td>...</td>\n      <td>...</td>\n      <td>...</td>\n      <td>...</td>\n      <td>...</td>\n      <td>...</td>\n      <td>...</td>\n    </tr>\n    <tr>\n      <th>176</th>\n      <td>2</td>\n      <td>1</td>\n      <td>1</td>\n      <td>1</td>\n      <td>2</td>\n      <td>1.0</td>\n      <td>3</td>\n      <td>1</td>\n      <td>1</td>\n      <td>2</td>\n      <td>2.011188</td>\n    </tr>\n    <tr>\n      <th>258</th>\n      <td>3</td>\n      <td>1</td>\n      <td>1</td>\n      <td>1</td>\n      <td>2</td>\n      <td>1.0</td>\n      <td>3</td>\n      <td>1</td>\n      <td>1</td>\n      <td>2</td>\n      <td>2.075574</td>\n    </tr>\n    <tr>\n      <th>32</th>\n      <td>10</td>\n      <td>7</td>\n      <td>7</td>\n      <td>3</td>\n      <td>8</td>\n      <td>5.0</td>\n      <td>7</td>\n      <td>4</td>\n      <td>3</td>\n      <td>4</td>\n      <td>3.666823</td>\n    </tr>\n    <tr>\n      <th>553</th>\n      <td>4</td>\n      <td>4</td>\n      <td>2</td>\n      <td>1</td>\n      <td>2</td>\n      <td>5.0</td>\n      <td>2</td>\n      <td>1</td>\n      <td>2</td>\n      <td>2</td>\n      <td>2.659562</td>\n    </tr>\n    <tr>\n      <th>399</th>\n      <td>1</td>\n      <td>2</td>\n      <td>3</td>\n      <td>1</td>\n      <td>2</td>\n      <td>1.0</td>\n      <td>1</td>\n      <td>1</td>\n      <td>1</td>\n      <td>2</td>\n      <td>1.928724</td>\n    </tr>\n  </tbody>\n</table>\n<p>419 rows × 11 columns</p>\n</div>"
     },
     "execution_count": 48,
     "metadata": {},
     "output_type": "execute_result"
    }
   ],
   "source": [
    "# สร้าง copy ใหม่ของ X_train เพราะไม่ต้องการยุ่งกับ X_train ต้นฉบับ เพื่อป้องกันกรณีที่เผลอแก้ค่าใน comparison แล้วค่าใน X_train เปลี่ยนตาม\n",
    "comparison = X_train.copy()\n",
    "\n",
    "# เพิ่มคอลัมน์ sepal length ที่เป็นค่าตัวแปรตามที่แท้จริงเข้าไป\n",
    "# Note: ทำได้ เพราะ X_train กับ y_train มี index เหมือนกันเป๊ะ\n",
    "comparison['class'] = y_train\n",
    "\n",
    "# เพิ่มคอลัมน์ผลการทำนาย\n",
    "# Note: ทำได้ไม่ผิด เพราะแม้ว่า y_train_predict จะเป็น Numpy array ที่ไม่มี index เดิมของ y_train\n",
    "#       แต่ตอนทำนายด้วย model.predict() นั้น ไม่ได้มีการสลับลำดับแถว\n",
    "comparison['class_predict'] = y_train_predict\n",
    "\n",
    "comparison"
   ],
   "metadata": {
    "collapsed": false,
    "ExecuteTime": {
     "end_time": "2024-02-23T13:57:07.858039200Z",
     "start_time": "2024-02-23T13:57:07.793413900Z"
    }
   },
   "id": "1d17607f9bc00bb7",
   "execution_count": 48
  },
  {
   "cell_type": "code",
   "outputs": [
    {
     "name": "stdout",
     "output_type": "stream",
     "text": [
      "MSE จากการคำนวณเอง = 0.11551525645194319\n"
     ]
    }
   ],
   "source": [
    "# คำนวณผลต่างของการทำนาย ยกกำลังสอง\n",
    "comparison['Error^2'] = (comparison['class'] - comparison['class_predict'])**2  # Error ยกกำลังสอง\n",
    "# comparison.head()\n",
    "\n",
    "mse = comparison['Error^2'].mean()\n",
    "print(f'MSE จากการคำนวณเอง = {mse}')"
   ],
   "metadata": {
    "collapsed": false,
    "ExecuteTime": {
     "end_time": "2024-02-23T14:00:04.196982700Z",
     "start_time": "2024-02-23T14:00:04.167249800Z"
    }
   },
   "id": "1f55cb2d93f5553b",
   "execution_count": 53
  },
  {
   "cell_type": "markdown",
   "source": [
    "# Build My Neural Network"
   ],
   "metadata": {
    "collapsed": false
   },
   "id": "73e5390ab1b63380"
  },
  {
   "cell_type": "code",
   "outputs": [],
   "source": [
    "import numpy as np\n",
    "import random\n",
    "import matplotlib.pyplot as plt\n",
    "from NNfunctions import *"
   ],
   "metadata": {
    "collapsed": false,
    "ExecuteTime": {
     "end_time": "2024-02-26T12:16:54.998440Z",
     "start_time": "2024-02-26T12:16:54.153225800Z"
    }
   },
   "id": "f4efa8b238734dd8",
   "execution_count": 1
  },
  {
   "cell_type": "code",
   "outputs": [
    {
     "data": {
      "text/plain": "array([[ 0.86920406,  0.39844743, -0.87833134,  0.69477238, -0.79129415,\n         0.81484246, -0.95601168,  0.96467863,  0.29271968],\n       [ 0.14414362,  0.70678219, -0.96458802, -0.57609761,  0.01909605,\n        -0.09432903, -0.20559896,  0.77539725,  0.70841047]])"
     },
     "execution_count": 3,
     "metadata": {},
     "output_type": "execute_result"
    }
   ],
   "source": [
    "Eplt = []\n",
    "W = np.zeros((2, 9)) # pre-allocate matrix for inserting weight\n",
    "\n",
    "for i in range(0, 2):\n",
    "    for j in range(0, 9):\n",
    "        n = random.uniform(-1, 1)\n",
    "        W[i, j] = n"
   ],
   "metadata": {
    "collapsed": false,
    "ExecuteTime": {
     "end_time": "2024-02-26T12:20:14.640780400Z",
     "start_time": "2024-02-26T12:20:14.547779700Z"
    }
   },
   "id": "b106d2d6f2e95c5d",
   "execution_count": 3
  },
  {
   "cell_type": "code",
   "outputs": [],
   "source": [
    "import torch\n",
    "\n",
    "def sigmoid(z):\n",
    "    return 1 / (1 + np.exp(-z))\n",
    "\n",
    "class LogisticRegression:\n",
    "    def __init__(self, learning_rate=0.01, n_epochs=1000):\n",
    "        self.learning_rate = learning_rate\n",
    "        self.n_epochs = n_epochs\n",
    "        self.w = None\n",
    "        self.b = 0\n",
    "        \n",
    "    def forward_propagation(self, X):\n",
    "        n_samples, n_features = X.shape\n",
    "        x = np.zeros((n_samples, n_features))\n",
    "        self.w = torch.from_numpy(x)\n",
    "        self.b = 0\n",
    "        \n",
    "        z = torch.matmul(self.w.T, X) + self.b\n",
    "        a = sigmoid(z)\n",
    "        return  a\n",
    "    \n",
    "    def backward_propagation(self, a, X, y):\n",
    "        linear_pred = torch.matmul(self.w.T, X) + self.b\n",
    "        n_samples, n_features = X.shape\n",
    "        \n",
    "        dw = (1/n_samples) * np.dot(X.T, torch.sub(a, y))\n",
    "        db = (1/n_samples) * np.sum(torch.sub(a, y))\n",
    "        return dw, db"
   ],
   "metadata": {
    "collapsed": false
   },
   "id": "ab93b71be6c6ca63"
  }
 ],
 "metadata": {
  "kernelspec": {
   "display_name": "Python 3",
   "language": "python",
   "name": "python3"
  },
  "language_info": {
   "codemirror_mode": {
    "name": "ipython",
    "version": 2
   },
   "file_extension": ".py",
   "mimetype": "text/x-python",
   "name": "python",
   "nbconvert_exporter": "python",
   "pygments_lexer": "ipython2",
   "version": "2.7.6"
  }
 },
 "nbformat": 4,
 "nbformat_minor": 5
}
