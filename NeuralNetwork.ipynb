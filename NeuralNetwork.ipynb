{
 "cells": [
  {
   "cell_type": "code",
   "execution_count": 1,
   "id": "initial_id",
   "metadata": {
    "collapsed": true,
    "ExecuteTime": {
     "end_time": "2024-03-09T19:21:58.034682600Z",
     "start_time": "2024-03-09T19:21:54.307479100Z"
    }
   },
   "outputs": [],
   "source": [
    "import numpy as np\n",
    "import pandas as pd\n",
    "import matplotlib.pyplot as plt\n",
    "import scipy.stats as stats\n",
    "from ucimlrepo import fetch_ucirepo\n",
    "from sklearn.model_selection import train_test_split\n",
    "\n",
    "from DataMining.NeuralN import NNfunctions"
   ]
  },
  {
   "cell_type": "code",
   "outputs": [],
   "source": [
    "# fetch dataset \n",
    "breast_cancer_wisconsin_original = fetch_ucirepo(id=15)\n",
    "\n",
    "# data (as pandas dataframes) \n",
    "X = breast_cancer_wisconsin_original.data.features\n",
    "y = breast_cancer_wisconsin_original.data.targets\n",
    "\n",
    "# metadata \n",
    "# print(breast_cancer_wisconsin_original.metadata)"
   ],
   "metadata": {
    "collapsed": false,
    "ExecuteTime": {
     "end_time": "2024-03-09T19:22:45.915970Z",
     "start_time": "2024-03-09T19:22:44.123284300Z"
    }
   },
   "id": "e9f9eea7c246c39",
   "execution_count": 7
  },
  {
   "cell_type": "code",
   "outputs": [
    {
     "name": "stdout",
     "output_type": "stream",
     "text": [
      "                           name     role         type demographic  \\\n",
      "0            Sample_code_number       ID  Categorical        None   \n",
      "1               Clump_thickness  Feature      Integer        None   \n",
      "2       Uniformity_of_cell_size  Feature      Integer        None   \n",
      "3      Uniformity_of_cell_shape  Feature      Integer        None   \n",
      "4             Marginal_adhesion  Feature      Integer        None   \n",
      "5   Single_epithelial_cell_size  Feature      Integer        None   \n",
      "6                   Bare_nuclei  Feature      Integer        None   \n",
      "7               Bland_chromatin  Feature      Integer        None   \n",
      "8               Normal_nucleoli  Feature      Integer        None   \n",
      "9                       Mitoses  Feature      Integer        None   \n",
      "10                        Class   Target       Binary        None   \n",
      "\n",
      "                  description units missing_values  \n",
      "0                        None  None             no  \n",
      "1                        None  None             no  \n",
      "2                        None  None             no  \n",
      "3                        None  None             no  \n",
      "4                        None  None             no  \n",
      "5                        None  None             no  \n",
      "6                        None  None            yes  \n",
      "7                        None  None             no  \n",
      "8                        None  None             no  \n",
      "9                        None  None             no  \n",
      "10  2 = benign, 4 = malignant  None             no  \n"
     ]
    }
   ],
   "source": [
    "# variable information \n",
    "print(breast_cancer_wisconsin_original.variables)"
   ],
   "metadata": {
    "collapsed": false,
    "ExecuteTime": {
     "end_time": "2024-02-28T13:58:21.451269400Z",
     "start_time": "2024-02-28T13:58:21.433694800Z"
    }
   },
   "id": "322505af55c51cd0",
   "execution_count": 4
  },
  {
   "cell_type": "code",
   "outputs": [
    {
     "data": {
      "text/plain": "Index(['Clump_thickness', 'Uniformity_of_cell_size',\n       'Uniformity_of_cell_shape', 'Marginal_adhesion',\n       'Single_epithelial_cell_size', 'Bare_nuclei', 'Bland_chromatin',\n       'Normal_nucleoli', 'Mitoses'],\n      dtype='object')"
     },
     "execution_count": 13,
     "metadata": {},
     "output_type": "execute_result"
    }
   ],
   "source": [
    "X.columns"
   ],
   "metadata": {
    "collapsed": false,
    "ExecuteTime": {
     "end_time": "2024-03-04T13:25:15.599758Z",
     "start_time": "2024-03-04T13:25:15.559817900Z"
    }
   },
   "id": "f244fa79e4472f98",
   "execution_count": 13
  },
  {
   "cell_type": "markdown",
   "source": [
    "# Data preprocessing"
   ],
   "metadata": {
    "collapsed": false
   },
   "id": "a455283f74de893f"
  },
  {
   "cell_type": "code",
   "outputs": [
    {
     "data": {
      "text/plain": "mean       3.544656\nmedian     1.000000\nstd        3.643857\nmax       10.000000\nmin        1.000000\nName: Bare_nuclei, dtype: float64"
     },
     "execution_count": 5,
     "metadata": {},
     "output_type": "execute_result"
    }
   ],
   "source": [
    "X.Bare_nuclei.agg(['mean', 'median', 'std', 'max', 'min'])"
   ],
   "metadata": {
    "collapsed": false,
    "ExecuteTime": {
     "end_time": "2024-02-28T13:59:19.818772700Z",
     "start_time": "2024-02-28T13:59:19.803378800Z"
    }
   },
   "id": "ce09c684d5576fbd",
   "execution_count": 5
  },
  {
   "cell_type": "code",
   "outputs": [
    {
     "data": {
      "text/plain": "<Axes: xlabel='Bare_nuclei'>"
     },
     "execution_count": 6,
     "metadata": {},
     "output_type": "execute_result"
    },
    {
     "data": {
      "text/plain": "<Figure size 640x480 with 1 Axes>",
      "image/png": "[encoded data removed]"
     },
     "metadata": {},
     "output_type": "display_data"
    }
   ],
   "source": [
    "X.Bare_nuclei.value_counts().plot(kind='bar')"
   ],
   "metadata": {
    "collapsed": false,
    "ExecuteTime": {
     "end_time": "2024-02-28T13:59:23.653300100Z",
     "start_time": "2024-02-28T13:59:23.190902500Z"
    }
   },
   "id": "c7d23d4e75ecbba5",
   "execution_count": 6
  },
  {
   "cell_type": "markdown",
   "source": [
    "## Filling missing value with mode of the attribute"
   ],
   "metadata": {
    "collapsed": false
   },
   "id": "943e0454bad88f97"
  },
  {
   "cell_type": "code",
   "outputs": [],
   "source": [
    "flags = (X['Bare_nuclei'].isna())\n",
    "X.loc[flags, 'Bare_nuclei'] = 1"
   ],
   "metadata": {
    "collapsed": false,
    "ExecuteTime": {
     "end_time": "2024-03-09T19:22:03.800668500Z",
     "start_time": "2024-03-09T19:22:03.792656400Z"
    }
   },
   "id": "8029080d4c144b4d",
   "execution_count": 3
  },
  {
   "cell_type": "code",
   "outputs": [
    {
     "data": {
      "text/plain": "     Clump_thickness  Uniformity_of_cell_size  Uniformity_of_cell_shape  \\\n0                  5                        1                         1   \n1                  5                        4                         4   \n2                  3                        1                         1   \n3                  6                        8                         8   \n4                  4                        1                         1   \n..               ...                      ...                       ...   \n694                3                        1                         1   \n695                2                        1                         1   \n696                5                       10                        10   \n697                4                        8                         6   \n698                4                        8                         8   \n\n     Marginal_adhesion  Single_epithelial_cell_size  Bare_nuclei  \\\n0                    1                            2          1.0   \n1                    5                            7         10.0   \n2                    1                            2          2.0   \n3                    1                            3          4.0   \n4                    3                            2          1.0   \n..                 ...                          ...          ...   \n694                  1                            3          2.0   \n695                  1                            2          1.0   \n696                  3                            7          3.0   \n697                  4                            3          4.0   \n698                  5                            4          5.0   \n\n     Bland_chromatin  Normal_nucleoli  Mitoses  \n0                  3                1        1  \n1                  3                2        1  \n2                  3                1        1  \n3                  3                7        1  \n4                  3                1        1  \n..               ...              ...      ...  \n694                1                1        1  \n695                1                1        1  \n696                8               10        2  \n697               10                6        1  \n698               10                4        1  \n\n[683 rows x 9 columns]",
      "text/html": "<div>\n<style scoped>\n    .dataframe tbody tr th:only-of-type {\n        vertical-align: middle;\n    }\n\n    .dataframe tbody tr th {\n        vertical-align: top;\n    }\n\n    .dataframe thead th {\n        text-align: right;\n    }\n</style>\n<table border=\"1\" class=\"dataframe\">\n  <thead>\n    <tr style=\"text-align: right;\">\n      <th></th>\n      <th>Clump_thickness</th>\n      <th>Uniformity_of_cell_size</th>\n      <th>Uniformity_of_cell_shape</th>\n      <th>Marginal_adhesion</th>\n      <th>Single_epithelial_cell_size</th>\n      <th>Bare_nuclei</th>\n      <th>Bland_chromatin</th>\n      <th>Normal_nucleoli</th>\n      <th>Mitoses</th>\n    </tr>\n  </thead>\n  <tbody>\n    <tr>\n      <th>0</th>\n      <td>5</td>\n      <td>1</td>\n      <td>1</td>\n      <td>1</td>\n      <td>2</td>\n      <td>1.0</td>\n      <td>3</td>\n      <td>1</td>\n      <td>1</td>\n    </tr>\n    <tr>\n      <th>1</th>\n      <td>5</td>\n      <td>4</td>\n      <td>4</td>\n      <td>5</td>\n      <td>7</td>\n      <td>10.0</td>\n      <td>3</td>\n      <td>2</td>\n      <td>1</td>\n    </tr>\n    <tr>\n      <th>2</th>\n      <td>3</td>\n      <td>1</td>\n      <td>1</td>\n      <td>1</td>\n      <td>2</td>\n      <td>2.0</td>\n      <td>3</td>\n      <td>1</td>\n      <td>1</td>\n    </tr>\n    <tr>\n      <th>3</th>\n      <td>6</td>\n      <td>8</td>\n      <td>8</td>\n      <td>1</td>\n      <td>3</td>\n      <td>4.0</td>\n      <td>3</td>\n      <td>7</td>\n      <td>1</td>\n    </tr>\n    <tr>\n      <th>4</th>\n      <td>4</td>\n      <td>1</td>\n      <td>1</td>\n      <td>3</td>\n      <td>2</td>\n      <td>1.0</td>\n      <td>3</td>\n      <td>1</td>\n      <td>1</td>\n    </tr>\n    <tr>\n      <th>...</th>\n      <td>...</td>\n      <td>...</td>\n      <td>...</td>\n      <td>...</td>\n      <td>...</td>\n      <td>...</td>\n      <td>...</td>\n      <td>...</td>\n      <td>...</td>\n    </tr>\n    <tr>\n      <th>694</th>\n      <td>3</td>\n      <td>1</td>\n      <td>1</td>\n      <td>1</td>\n      <td>3</td>\n      <td>2.0</td>\n      <td>1</td>\n      <td>1</td>\n      <td>1</td>\n    </tr>\n    <tr>\n      <th>695</th>\n      <td>2</td>\n      <td>1</td>\n      <td>1</td>\n      <td>1</td>\n      <td>2</td>\n      <td>1.0</td>\n      <td>1</td>\n      <td>1</td>\n      <td>1</td>\n    </tr>\n    <tr>\n      <th>696</th>\n      <td>5</td>\n      <td>10</td>\n      <td>10</td>\n      <td>3</td>\n      <td>7</td>\n      <td>3.0</td>\n      <td>8</td>\n      <td>10</td>\n      <td>2</td>\n    </tr>\n    <tr>\n      <th>697</th>\n      <td>4</td>\n      <td>8</td>\n      <td>6</td>\n      <td>4</td>\n      <td>3</td>\n      <td>4.0</td>\n      <td>10</td>\n      <td>6</td>\n      <td>1</td>\n    </tr>\n    <tr>\n      <th>698</th>\n      <td>4</td>\n      <td>8</td>\n      <td>8</td>\n      <td>5</td>\n      <td>4</td>\n      <td>5.0</td>\n      <td>10</td>\n      <td>4</td>\n      <td>1</td>\n    </tr>\n  </tbody>\n</table>\n<p>683 rows × 9 columns</p>\n</div>"
     },
     "execution_count": 9,
     "metadata": {},
     "output_type": "execute_result"
    }
   ],
   "source": [
    "X.dropna()"
   ],
   "metadata": {
    "collapsed": false,
    "ExecuteTime": {
     "end_time": "2024-03-09T19:23:00.180924200Z",
     "start_time": "2024-03-09T19:23:00.153882300Z"
    }
   },
   "id": "4d9b786ee22528e7",
   "execution_count": 9
  },
  {
   "cell_type": "markdown",
   "source": [
    "## Define normalization function for the data"
   ],
   "metadata": {
    "collapsed": false
   },
   "id": "250092305d2ee1ec"
  },
  {
   "cell_type": "code",
   "outputs": [],
   "source": [
    "# นิยามฟังก์ชันที่เองชื่อ normalize\n",
    "def normalize(col):\n",
    "    # ตัวแปรชื่อ col ที่รับมาจาก apply จะเป็นเพียงคอลัมน์ ๆ หนึ่งของ X_train\n",
    "    return (col - col.mean())/col.std(ddof=0) # Standardization"
   ],
   "metadata": {
    "collapsed": false,
    "ExecuteTime": {
     "end_time": "2024-03-09T19:22:06.188335100Z",
     "start_time": "2024-03-09T19:22:06.173265Z"
    }
   },
   "id": "db03b6254c9b5d28",
   "execution_count": 4
  },
  {
   "cell_type": "markdown",
   "source": [
    "# Split test and train data"
   ],
   "metadata": {
    "collapsed": false
   },
   "id": "89ed573c5ed6e2e6"
  },
  {
   "cell_type": "code",
   "outputs": [
    {
     "name": "stdout",
     "output_type": "stream",
     "text": [
      "Training records: 419\n",
      "Test records: 280\n"
     ]
    }
   ],
   "source": [
    "labels = y['Class']\n",
    "\n",
    "X_train, X_test, y_train, y_test = train_test_split(X, y,\n",
    "                                                    train_size=0.6,\n",
    "                                                    random_state=123,\n",
    "                                                    stratify=labels)\n",
    "# X_train.count(), X_test.count()\n",
    "print(f\"Training records: {X_train.shape[0]}\")\n",
    "print(f\"Test records: {X_test.shape[0]}\")"
   ],
   "metadata": {
    "collapsed": false,
    "ExecuteTime": {
     "end_time": "2024-03-09T19:22:08.128142800Z",
     "start_time": "2024-03-09T19:22:08.090608200Z"
    }
   },
   "id": "630a8ce9b1bd55c8",
   "execution_count": 5
  },
  {
   "cell_type": "markdown",
   "source": [
    "## Before normalization"
   ],
   "metadata": {
    "collapsed": false
   },
   "id": "1b0c9eb113f7aeaf"
  },
  {
   "cell_type": "code",
   "outputs": [
    {
     "data": {
      "text/plain": "   Clump_thickness  Uniformity_of_cell_size  Uniformity_of_cell_shape  \\\n0                5                        1                         1   \n1                5                        4                         4   \n2                3                        1                         1   \n3                6                        8                         8   \n4                4                        1                         1   \n5                8                       10                        10   \n6                1                        1                         1   \n7                2                        1                         2   \n8                2                        1                         1   \n9                4                        2                         1   \n\n   Marginal_adhesion  Single_epithelial_cell_size  Bare_nuclei  \\\n0                  1                            2          1.0   \n1                  5                            7         10.0   \n2                  1                            2          2.0   \n3                  1                            3          4.0   \n4                  3                            2          1.0   \n5                  8                            7         10.0   \n6                  1                            2         10.0   \n7                  1                            2          1.0   \n8                  1                            2          1.0   \n9                  1                            2          1.0   \n\n   Bland_chromatin  Normal_nucleoli  Mitoses  \n0                3                1        1  \n1                3                2        1  \n2                3                1        1  \n3                3                7        1  \n4                3                1        1  \n5                9                7        1  \n6                3                1        1  \n7                3                1        1  \n8                1                1        5  \n9                2                1        1  ",
      "text/html": "<div>\n<style scoped>\n    .dataframe tbody tr th:only-of-type {\n        vertical-align: middle;\n    }\n\n    .dataframe tbody tr th {\n        vertical-align: top;\n    }\n\n    .dataframe thead th {\n        text-align: right;\n    }\n</style>\n<table border=\"1\" class=\"dataframe\">\n  <thead>\n    <tr style=\"text-align: right;\">\n      <th></th>\n      <th>Clump_thickness</th>\n      <th>Uniformity_of_cell_size</th>\n      <th>Uniformity_of_cell_shape</th>\n      <th>Marginal_adhesion</th>\n      <th>Single_epithelial_cell_size</th>\n      <th>Bare_nuclei</th>\n      <th>Bland_chromatin</th>\n      <th>Normal_nucleoli</th>\n      <th>Mitoses</th>\n    </tr>\n  </thead>\n  <tbody>\n    <tr>\n      <th>0</th>\n      <td>5</td>\n      <td>1</td>\n      <td>1</td>\n      <td>1</td>\n      <td>2</td>\n      <td>1.0</td>\n      <td>3</td>\n      <td>1</td>\n      <td>1</td>\n    </tr>\n    <tr>\n      <th>1</th>\n      <td>5</td>\n      <td>4</td>\n      <td>4</td>\n      <td>5</td>\n      <td>7</td>\n      <td>10.0</td>\n      <td>3</td>\n      <td>2</td>\n      <td>1</td>\n    </tr>\n    <tr>\n      <th>2</th>\n      <td>3</td>\n      <td>1</td>\n      <td>1</td>\n      <td>1</td>\n      <td>2</td>\n      <td>2.0</td>\n      <td>3</td>\n      <td>1</td>\n      <td>1</td>\n    </tr>\n    <tr>\n      <th>3</th>\n      <td>6</td>\n      <td>8</td>\n      <td>8</td>\n      <td>1</td>\n      <td>3</td>\n      <td>4.0</td>\n      <td>3</td>\n      <td>7</td>\n      <td>1</td>\n    </tr>\n    <tr>\n      <th>4</th>\n      <td>4</td>\n      <td>1</td>\n      <td>1</td>\n      <td>3</td>\n      <td>2</td>\n      <td>1.0</td>\n      <td>3</td>\n      <td>1</td>\n      <td>1</td>\n    </tr>\n    <tr>\n      <th>5</th>\n      <td>8</td>\n      <td>10</td>\n      <td>10</td>\n      <td>8</td>\n      <td>7</td>\n      <td>10.0</td>\n      <td>9</td>\n      <td>7</td>\n      <td>1</td>\n    </tr>\n    <tr>\n      <th>6</th>\n      <td>1</td>\n      <td>1</td>\n      <td>1</td>\n      <td>1</td>\n      <td>2</td>\n      <td>10.0</td>\n      <td>3</td>\n      <td>1</td>\n      <td>1</td>\n    </tr>\n    <tr>\n      <th>7</th>\n      <td>2</td>\n      <td>1</td>\n      <td>2</td>\n      <td>1</td>\n      <td>2</td>\n      <td>1.0</td>\n      <td>3</td>\n      <td>1</td>\n      <td>1</td>\n    </tr>\n    <tr>\n      <th>8</th>\n      <td>2</td>\n      <td>1</td>\n      <td>1</td>\n      <td>1</td>\n      <td>2</td>\n      <td>1.0</td>\n      <td>1</td>\n      <td>1</td>\n      <td>5</td>\n    </tr>\n    <tr>\n      <th>9</th>\n      <td>4</td>\n      <td>2</td>\n      <td>1</td>\n      <td>1</td>\n      <td>2</td>\n      <td>1.0</td>\n      <td>2</td>\n      <td>1</td>\n      <td>1</td>\n    </tr>\n  </tbody>\n</table>\n</div>"
     },
     "execution_count": 49,
     "metadata": {},
     "output_type": "execute_result"
    }
   ],
   "source": [
    "X.head(10)"
   ],
   "metadata": {
    "collapsed": false,
    "ExecuteTime": {
     "end_time": "2024-03-04T14:16:56.278265Z",
     "start_time": "2024-03-04T14:16:56.226323900Z"
    }
   },
   "id": "7b76e9c2b6a8074b",
   "execution_count": 49
  },
  {
   "cell_type": "code",
   "outputs": [
    {
     "data": {
      "text/plain": "       Clump_thickness  Uniformity_of_cell_size  Uniformity_of_cell_shape  \\\ncount       699.000000               699.000000                699.000000   \nmean          4.417740                 3.134478                  3.207439   \nstd           2.815741                 3.051459                  2.971913   \nmin           1.000000                 1.000000                  1.000000   \n25%           2.000000                 1.000000                  1.000000   \n50%           4.000000                 1.000000                  1.000000   \n75%           6.000000                 5.000000                  5.000000   \nmax          10.000000                10.000000                 10.000000   \n\n       Marginal_adhesion  Single_epithelial_cell_size  Bare_nuclei  \\\ncount         699.000000                   699.000000   699.000000   \nmean            2.806867                     3.216023     3.486409   \nstd             2.855379                     2.214300     3.621929   \nmin             1.000000                     1.000000     1.000000   \n25%             1.000000                     2.000000     1.000000   \n50%             1.000000                     2.000000     1.000000   \n75%             4.000000                     4.000000     5.000000   \nmax            10.000000                    10.000000    10.000000   \n\n       Bland_chromatin  Normal_nucleoli     Mitoses  \ncount       699.000000       699.000000  699.000000  \nmean          3.437768         2.866953    1.589413  \nstd           2.438364         3.053634    1.715078  \nmin           1.000000         1.000000    1.000000  \n25%           2.000000         1.000000    1.000000  \n50%           3.000000         1.000000    1.000000  \n75%           5.000000         4.000000    1.000000  \nmax          10.000000        10.000000   10.000000  ",
      "text/html": "<div>\n<style scoped>\n    .dataframe tbody tr th:only-of-type {\n        vertical-align: middle;\n    }\n\n    .dataframe tbody tr th {\n        vertical-align: top;\n    }\n\n    .dataframe thead th {\n        text-align: right;\n    }\n</style>\n<table border=\"1\" class=\"dataframe\">\n  <thead>\n    <tr style=\"text-align: right;\">\n      <th></th>\n      <th>Clump_thickness</th>\n      <th>Uniformity_of_cell_size</th>\n      <th>Uniformity_of_cell_shape</th>\n      <th>Marginal_adhesion</th>\n      <th>Single_epithelial_cell_size</th>\n      <th>Bare_nuclei</th>\n      <th>Bland_chromatin</th>\n      <th>Normal_nucleoli</th>\n      <th>Mitoses</th>\n    </tr>\n  </thead>\n  <tbody>\n    <tr>\n      <th>count</th>\n      <td>699.000000</td>\n      <td>699.000000</td>\n      <td>699.000000</td>\n      <td>699.000000</td>\n      <td>699.000000</td>\n      <td>699.000000</td>\n      <td>699.000000</td>\n      <td>699.000000</td>\n      <td>699.000000</td>\n    </tr>\n    <tr>\n      <th>mean</th>\n      <td>4.417740</td>\n      <td>3.134478</td>\n      <td>3.207439</td>\n      <td>2.806867</td>\n      <td>3.216023</td>\n      <td>3.486409</td>\n      <td>3.437768</td>\n      <td>2.866953</td>\n      <td>1.589413</td>\n    </tr>\n    <tr>\n      <th>std</th>\n      <td>2.815741</td>\n      <td>3.051459</td>\n      <td>2.971913</td>\n      <td>2.855379</td>\n      <td>2.214300</td>\n      <td>3.621929</td>\n      <td>2.438364</td>\n      <td>3.053634</td>\n      <td>1.715078</td>\n    </tr>\n    <tr>\n      <th>min</th>\n      <td>1.000000</td>\n      <td>1.000000</td>\n      <td>1.000000</td>\n      <td>1.000000</td>\n      <td>1.000000</td>\n      <td>1.000000</td>\n      <td>1.000000</td>\n      <td>1.000000</td>\n      <td>1.000000</td>\n    </tr>\n    <tr>\n      <th>25%</th>\n      <td>2.000000</td>\n      <td>1.000000</td>\n      <td>1.000000</td>\n      <td>1.000000</td>\n      <td>2.000000</td>\n      <td>1.000000</td>\n      <td>2.000000</td>\n      <td>1.000000</td>\n      <td>1.000000</td>\n    </tr>\n    <tr>\n      <th>50%</th>\n      <td>4.000000</td>\n      <td>1.000000</td>\n      <td>1.000000</td>\n      <td>1.000000</td>\n      <td>2.000000</td>\n      <td>1.000000</td>\n      <td>3.000000</td>\n      <td>1.000000</td>\n      <td>1.000000</td>\n    </tr>\n    <tr>\n      <th>75%</th>\n      <td>6.000000</td>\n      <td>5.000000</td>\n      <td>5.000000</td>\n      <td>4.000000</td>\n      <td>4.000000</td>\n      <td>5.000000</td>\n      <td>5.000000</td>\n      <td>4.000000</td>\n      <td>1.000000</td>\n    </tr>\n    <tr>\n      <th>max</th>\n      <td>10.000000</td>\n      <td>10.000000</td>\n      <td>10.000000</td>\n      <td>10.000000</td>\n      <td>10.000000</td>\n      <td>10.000000</td>\n      <td>10.000000</td>\n      <td>10.000000</td>\n      <td>10.000000</td>\n    </tr>\n  </tbody>\n</table>\n</div>"
     },
     "execution_count": 9,
     "metadata": {},
     "output_type": "execute_result"
    }
   ],
   "source": [
    "X.describe()"
   ],
   "metadata": {
    "collapsed": false,
    "ExecuteTime": {
     "end_time": "2024-03-04T13:15:16.262544Z",
     "start_time": "2024-03-04T13:15:16.203694100Z"
    }
   },
   "id": "d9f407a08c72b5fd",
   "execution_count": 9
  },
  {
   "cell_type": "markdown",
   "source": [
    "## Applying normalization"
   ],
   "metadata": {
    "collapsed": false
   },
   "id": "b2a136ab43b72994"
  },
  {
   "cell_type": "code",
   "outputs": [
    {
     "data": {
      "text/plain": "     Clump_thickness  Uniformity_of_cell_size  Uniformity_of_cell_shape  \\\n203         0.217267                -0.692210                 -0.752721   \n608         0.217267                 2.204929                  2.250995   \n314        -1.222019                -0.692210                 -0.752721   \n477        -0.142555                -0.692210                 -0.752721   \n70          0.217267                -0.692210                 -0.085229   \n..               ...                      ...                       ...   \n176        -0.862197                -0.692210                 -0.752721   \n258        -0.502376                -0.692210                 -0.752721   \n32          2.016374                 1.239216                  1.249756   \n553        -0.142555                 0.273503                 -0.418975   \n399        -1.222019                -0.370305                 -0.085229   \n\n     Marginal_adhesion  Single_epithelial_cell_size  Bare_nuclei  \\\n203          -0.629560                    -0.530089    -0.699026   \n608           2.402457                     3.088768     1.785449   \n314          -0.629560                    -0.982446    -0.699026   \n477          -0.629560                    -0.530089    -0.699026   \n70           -0.629560                    -0.530089    -0.699026   \n..                 ...                          ...          ...   \n176          -0.629560                    -0.530089    -0.699026   \n258          -0.629560                    -0.530089    -0.699026   \n32            0.044222                     2.184054     0.405185   \n553          -0.629560                    -0.530089     0.405185   \n399          -0.629560                    -0.530089    -0.699026   \n\n     Bland_chromatin  Normal_nucleoli   Mitoses  \n203        -0.157888        -0.614245 -0.349261  \n608         2.736402        -0.614245 -0.349261  \n314        -0.571358        -0.614245 -0.349261  \n477        -0.984828        -0.614245 -0.349261  \n70         -0.571358        -0.614245 -0.349261  \n..               ...              ...       ...  \n176        -0.157888        -0.614245 -0.349261  \n258        -0.157888        -0.614245 -0.349261  \n32          1.495992         0.353306  0.901511  \n553        -0.571358        -0.614245  0.276125  \n399        -0.984828        -0.614245 -0.349261  \n\n[419 rows x 9 columns]",
      "text/html": "<div>\n<style scoped>\n    .dataframe tbody tr th:only-of-type {\n        vertical-align: middle;\n    }\n\n    .dataframe tbody tr th {\n        vertical-align: top;\n    }\n\n    .dataframe thead th {\n        text-align: right;\n    }\n</style>\n<table border=\"1\" class=\"dataframe\">\n  <thead>\n    <tr style=\"text-align: right;\">\n      <th></th>\n      <th>Clump_thickness</th>\n      <th>Uniformity_of_cell_size</th>\n      <th>Uniformity_of_cell_shape</th>\n      <th>Marginal_adhesion</th>\n      <th>Single_epithelial_cell_size</th>\n      <th>Bare_nuclei</th>\n      <th>Bland_chromatin</th>\n      <th>Normal_nucleoli</th>\n      <th>Mitoses</th>\n    </tr>\n  </thead>\n  <tbody>\n    <tr>\n      <th>203</th>\n      <td>0.217267</td>\n      <td>-0.692210</td>\n      <td>-0.752721</td>\n      <td>-0.629560</td>\n      <td>-0.530089</td>\n      <td>-0.699026</td>\n      <td>-0.157888</td>\n      <td>-0.614245</td>\n      <td>-0.349261</td>\n    </tr>\n    <tr>\n      <th>608</th>\n      <td>0.217267</td>\n      <td>2.204929</td>\n      <td>2.250995</td>\n      <td>2.402457</td>\n      <td>3.088768</td>\n      <td>1.785449</td>\n      <td>2.736402</td>\n      <td>-0.614245</td>\n      <td>-0.349261</td>\n    </tr>\n    <tr>\n      <th>314</th>\n      <td>-1.222019</td>\n      <td>-0.692210</td>\n      <td>-0.752721</td>\n      <td>-0.629560</td>\n      <td>-0.982446</td>\n      <td>-0.699026</td>\n      <td>-0.571358</td>\n      <td>-0.614245</td>\n      <td>-0.349261</td>\n    </tr>\n    <tr>\n      <th>477</th>\n      <td>-0.142555</td>\n      <td>-0.692210</td>\n      <td>-0.752721</td>\n      <td>-0.629560</td>\n      <td>-0.530089</td>\n      <td>-0.699026</td>\n      <td>-0.984828</td>\n      <td>-0.614245</td>\n      <td>-0.349261</td>\n    </tr>\n    <tr>\n      <th>70</th>\n      <td>0.217267</td>\n      <td>-0.692210</td>\n      <td>-0.085229</td>\n      <td>-0.629560</td>\n      <td>-0.530089</td>\n      <td>-0.699026</td>\n      <td>-0.571358</td>\n      <td>-0.614245</td>\n      <td>-0.349261</td>\n    </tr>\n    <tr>\n      <th>...</th>\n      <td>...</td>\n      <td>...</td>\n      <td>...</td>\n      <td>...</td>\n      <td>...</td>\n      <td>...</td>\n      <td>...</td>\n      <td>...</td>\n      <td>...</td>\n    </tr>\n    <tr>\n      <th>176</th>\n      <td>-0.862197</td>\n      <td>-0.692210</td>\n      <td>-0.752721</td>\n      <td>-0.629560</td>\n      <td>-0.530089</td>\n      <td>-0.699026</td>\n      <td>-0.157888</td>\n      <td>-0.614245</td>\n      <td>-0.349261</td>\n    </tr>\n    <tr>\n      <th>258</th>\n      <td>-0.502376</td>\n      <td>-0.692210</td>\n      <td>-0.752721</td>\n      <td>-0.629560</td>\n      <td>-0.530089</td>\n      <td>-0.699026</td>\n      <td>-0.157888</td>\n      <td>-0.614245</td>\n      <td>-0.349261</td>\n    </tr>\n    <tr>\n      <th>32</th>\n      <td>2.016374</td>\n      <td>1.239216</td>\n      <td>1.249756</td>\n      <td>0.044222</td>\n      <td>2.184054</td>\n      <td>0.405185</td>\n      <td>1.495992</td>\n      <td>0.353306</td>\n      <td>0.901511</td>\n    </tr>\n    <tr>\n      <th>553</th>\n      <td>-0.142555</td>\n      <td>0.273503</td>\n      <td>-0.418975</td>\n      <td>-0.629560</td>\n      <td>-0.530089</td>\n      <td>0.405185</td>\n      <td>-0.571358</td>\n      <td>-0.614245</td>\n      <td>0.276125</td>\n    </tr>\n    <tr>\n      <th>399</th>\n      <td>-1.222019</td>\n      <td>-0.370305</td>\n      <td>-0.085229</td>\n      <td>-0.629560</td>\n      <td>-0.530089</td>\n      <td>-0.699026</td>\n      <td>-0.984828</td>\n      <td>-0.614245</td>\n      <td>-0.349261</td>\n    </tr>\n  </tbody>\n</table>\n<p>419 rows × 9 columns</p>\n</div>"
     },
     "execution_count": 8,
     "metadata": {},
     "output_type": "execute_result"
    }
   ],
   "source": [
    "# new_X_train = X_train.apply(normalize)\n",
    "\n",
    "# new_X_test = X_test.apply(normalize)\n",
    "\n",
    "import random\n",
    "\n",
    "# bias = [random.uniform(-1, 1) for _ in range(len(X_train))]\n",
    "\n",
    "new_X_train = X_train.apply(lambda x: normalize(x))\n",
    "# new_X_train['bias'] = X_train.apply(lambda x: random.uniform(-1, 1))\n",
    "# new_X_train['bias'] = bias\n",
    "\n",
    "\n",
    "# bias = [random.uniform(-1, 1) for _ in range(len(X_test))]\n",
    "new_X_test = X_test.apply(lambda x: normalize(x))\n",
    "# new_X_test['bias'] = X_test.apply(lambda x: random.uniform(-1,1))\n",
    "# new_X_test['bias'] = bias\n",
    "\n",
    "new_X_train"
   ],
   "metadata": {
    "collapsed": false,
    "ExecuteTime": {
     "end_time": "2024-03-05T18:01:34.215304700Z",
     "start_time": "2024-03-05T18:01:34.120928500Z"
    }
   },
   "id": "5b1278e997f57b7d",
   "execution_count": 8
  },
  {
   "cell_type": "code",
   "outputs": [
    {
     "data": {
      "text/plain": "     Class\n203      2\n608      4\n314      2\n477      2\n70       2\n..     ...\n176      2\n258      2\n32       4\n553      2\n399      2\n\n[419 rows x 1 columns]",
      "text/html": "<div>\n<style scoped>\n    .dataframe tbody tr th:only-of-type {\n        vertical-align: middle;\n    }\n\n    .dataframe tbody tr th {\n        vertical-align: top;\n    }\n\n    .dataframe thead th {\n        text-align: right;\n    }\n</style>\n<table border=\"1\" class=\"dataframe\">\n  <thead>\n    <tr style=\"text-align: right;\">\n      <th></th>\n      <th>Class</th>\n    </tr>\n  </thead>\n  <tbody>\n    <tr>\n      <th>203</th>\n      <td>2</td>\n    </tr>\n    <tr>\n      <th>608</th>\n      <td>4</td>\n    </tr>\n    <tr>\n      <th>314</th>\n      <td>2</td>\n    </tr>\n    <tr>\n      <th>477</th>\n      <td>2</td>\n    </tr>\n    <tr>\n      <th>70</th>\n      <td>2</td>\n    </tr>\n    <tr>\n      <th>...</th>\n      <td>...</td>\n    </tr>\n    <tr>\n      <th>176</th>\n      <td>2</td>\n    </tr>\n    <tr>\n      <th>258</th>\n      <td>2</td>\n    </tr>\n    <tr>\n      <th>32</th>\n      <td>4</td>\n    </tr>\n    <tr>\n      <th>553</th>\n      <td>2</td>\n    </tr>\n    <tr>\n      <th>399</th>\n      <td>2</td>\n    </tr>\n  </tbody>\n</table>\n<p>419 rows × 1 columns</p>\n</div>"
     },
     "execution_count": 12,
     "metadata": {},
     "output_type": "execute_result"
    }
   ],
   "source": [
    "y_train"
   ],
   "metadata": {
    "collapsed": false,
    "ExecuteTime": {
     "end_time": "2024-03-04T17:46:20.542701100Z",
     "start_time": "2024-03-04T17:46:20.431395200Z"
    }
   },
   "id": "1dcd42e2062e1e72",
   "execution_count": 12
  },
  {
   "cell_type": "code",
   "outputs": [],
   "source": [
    "new_X_train.to_csv('X_train.csv', index=False)\n",
    "y_train.to_csv('y_train.csv', index=False)\n",
    "\n",
    "new_X_test.to_csv('X_test.csv', index=False)\n",
    "y_test.to_csv('y_test.csv', index=False)"
   ],
   "metadata": {
    "collapsed": false,
    "ExecuteTime": {
     "end_time": "2024-03-05T15:15:22.324743600Z",
     "start_time": "2024-03-05T15:15:22.291143500Z"
    }
   },
   "id": "c7e179021f292bf7",
   "execution_count": 210
  },
  {
   "cell_type": "markdown",
   "source": [
    "# Build and define neural network"
   ],
   "metadata": {
    "collapsed": false
   },
   "id": "9f4490155af10a04"
  },
  {
   "cell_type": "code",
   "outputs": [
    {
     "data": {
      "text/plain": "-0.34926073374496597"
     },
     "execution_count": 44,
     "metadata": {},
     "output_type": "execute_result"
    }
   ],
   "source": [
    "new_X_train.iloc[0][8]"
   ],
   "metadata": {
    "collapsed": false,
    "ExecuteTime": {
     "end_time": "2024-02-28T21:15:40.594707300Z",
     "start_time": "2024-02-28T21:15:40.577381200Z"
    }
   },
   "id": "547a2ece75e47379",
   "execution_count": 44
  },
  {
   "cell_type": "code",
   "outputs": [
    {
     "data": {
      "text/plain": "2"
     },
     "execution_count": 45,
     "metadata": {},
     "output_type": "execute_result"
    }
   ],
   "source": [
    "y.iloc[0][0]"
   ],
   "metadata": {
    "collapsed": false,
    "ExecuteTime": {
     "end_time": "2024-02-28T21:15:42.845225800Z",
     "start_time": "2024-02-28T21:15:42.837744600Z"
    }
   },
   "id": "da99679eccfb2270",
   "execution_count": 45
  },
  {
   "cell_type": "code",
   "outputs": [
    {
     "data": {
      "text/plain": "array([[8, 7],\n       [6, 4]])"
     },
     "execution_count": 8,
     "metadata": {},
     "output_type": "execute_result"
    }
   ],
   "source": [
    "x1 = [[1, 1], [2, 1]]\n",
    "x2 = [[8, 7], [3, 4]]\n",
    "\n",
    "np.multiply(x1, x2)"
   ],
   "metadata": {
    "collapsed": false,
    "ExecuteTime": {
     "end_time": "2024-03-01T14:07:48.439460Z",
     "start_time": "2024-03-01T14:07:48.302190900Z"
    }
   },
   "id": "32455f7117d1972b",
   "execution_count": 8
  },
  {
   "cell_type": "code",
   "outputs": [
    {
     "data": {
      "text/plain": "<419x89 sparse matrix of type '<class 'numpy.float64'>'\n\twith 3771 stored elements in Compressed Sparse Row format>"
     },
     "execution_count": 24,
     "metadata": {},
     "output_type": "execute_result"
    }
   ],
   "source": [
    "from sklearn.preprocessing import OneHotEncoder\n",
    "one = OneHotEncoder()   # สร้างตัวแปลงเปล่า ๆ ขึ้นมา\n",
    "# y_train.reset_index(drop=True, inplace=True)\n",
    "one.fit(X_train)               # ส่งข้อมูลให้ตัวแปลงเพื่อประเมิน\n",
    "y_train_onehot = one.transform(X_train) # หรือใช้ X_new = one.fit_transform(X) จบในตัวเดียว\n",
    "\n",
    "y_train_onehot"
   ],
   "metadata": {
    "collapsed": false,
    "ExecuteTime": {
     "end_time": "2024-03-04T17:50:36.686497700Z",
     "start_time": "2024-03-04T17:50:36.566424100Z"
    }
   },
   "id": "cef3db6e6c068ee1",
   "execution_count": 24
  },
  {
   "cell_type": "code",
   "outputs": [
    {
     "name": "stdout",
     "output_type": "stream",
     "text": [
      "[[<1x89 sparse matrix of type '<class 'numpy.float64'>'\n",
      "\twith 9 stored elements in Compressed Sparse Row format>], [<1x89 sparse matrix of type '<class 'numpy.float64'>'\n",
      "\twith 9 stored elements in Compressed Sparse Row format>], [<1x89 sparse matrix of type '<class 'numpy.float64'>'\n",
      "\twith 9 stored elements in Compressed Sparse Row format>], [<1x89 sparse matrix of type '<class 'numpy.float64'>'\n",
      "\twith 9 stored elements in Compressed Sparse Row format>], [<1x89 sparse matrix of type '<class 'numpy.float64'>'\n",
      "\twith 9 stored elements in Compressed Sparse Row format>], [<1x89 sparse matrix of type '<class 'numpy.float64'>'\n",
      "\twith 9 stored elements in Compressed Sparse Row format>], [<1x89 sparse matrix of type '<class 'numpy.float64'>'\n",
      "\twith 9 stored elements in Compressed Sparse Row format>], [<1x89 sparse matrix of type '<class 'numpy.float64'>'\n",
      "\twith 9 stored elements in Compressed Sparse Row format>], [<1x89 sparse matrix of type '<class 'numpy.float64'>'\n",
      "\twith 9 stored elements in Compressed Sparse Row format>], [<1x89 sparse matrix of type '<class 'numpy.float64'>'\n",
      "\twith 9 stored elements in Compressed Sparse Row format>], [<1x89 sparse matrix of type '<class 'numpy.float64'>'\n",
      "\twith 9 stored elements in Compressed Sparse Row format>], [<1x89 sparse matrix of type '<class 'numpy.float64'>'\n",
      "\twith 9 stored elements in Compressed Sparse Row format>], [<1x89 sparse matrix of type '<class 'numpy.float64'>'\n",
      "\twith 9 stored elements in Compressed Sparse Row format>], [<1x89 sparse matrix of type '<class 'numpy.float64'>'\n",
      "\twith 9 stored elements in Compressed Sparse Row format>], [<1x89 sparse matrix of type '<class 'numpy.float64'>'\n",
      "\twith 9 stored elements in Compressed Sparse Row format>], [<1x89 sparse matrix of type '<class 'numpy.float64'>'\n",
      "\twith 9 stored elements in Compressed Sparse Row format>], [<1x89 sparse matrix of type '<class 'numpy.float64'>'\n",
      "\twith 9 stored elements in Compressed Sparse Row format>], [<1x89 sparse matrix of type '<class 'numpy.float64'>'\n",
      "\twith 9 stored elements in Compressed Sparse Row format>], [<1x89 sparse matrix of type '<class 'numpy.float64'>'\n",
      "\twith 9 stored elements in Compressed Sparse Row format>], [<1x89 sparse matrix of type '<class 'numpy.float64'>'\n",
      "\twith 9 stored elements in Compressed Sparse Row format>], [<1x89 sparse matrix of type '<class 'numpy.float64'>'\n",
      "\twith 9 stored elements in Compressed Sparse Row format>], [<1x89 sparse matrix of type '<class 'numpy.float64'>'\n",
      "\twith 9 stored elements in Compressed Sparse Row format>], [<1x89 sparse matrix of type '<class 'numpy.float64'>'\n",
      "\twith 9 stored elements in Compressed Sparse Row format>], [<1x89 sparse matrix of type '<class 'numpy.float64'>'\n",
      "\twith 9 stored elements in Compressed Sparse Row format>], [<1x89 sparse matrix of type '<class 'numpy.float64'>'\n",
      "\twith 9 stored elements in Compressed Sparse Row format>], [<1x89 sparse matrix of type '<class 'numpy.float64'>'\n",
      "\twith 9 stored elements in Compressed Sparse Row format>], [<1x89 sparse matrix of type '<class 'numpy.float64'>'\n",
      "\twith 9 stored elements in Compressed Sparse Row format>], [<1x89 sparse matrix of type '<class 'numpy.float64'>'\n",
      "\twith 9 stored elements in Compressed Sparse Row format>], [<1x89 sparse matrix of type '<class 'numpy.float64'>'\n",
      "\twith 9 stored elements in Compressed Sparse Row format>], [<1x89 sparse matrix of type '<class 'numpy.float64'>'\n",
      "\twith 9 stored elements in Compressed Sparse Row format>], [<1x89 sparse matrix of type '<class 'numpy.float64'>'\n",
      "\twith 9 stored elements in Compressed Sparse Row format>], [<1x89 sparse matrix of type '<class 'numpy.float64'>'\n",
      "\twith 9 stored elements in Compressed Sparse Row format>], [<1x89 sparse matrix of type '<class 'numpy.float64'>'\n",
      "\twith 9 stored elements in Compressed Sparse Row format>], [<1x89 sparse matrix of type '<class 'numpy.float64'>'\n",
      "\twith 9 stored elements in Compressed Sparse Row format>], [<1x89 sparse matrix of type '<class 'numpy.float64'>'\n",
      "\twith 9 stored elements in Compressed Sparse Row format>], [<1x89 sparse matrix of type '<class 'numpy.float64'>'\n",
      "\twith 9 stored elements in Compressed Sparse Row format>], [<1x89 sparse matrix of type '<class 'numpy.float64'>'\n",
      "\twith 9 stored elements in Compressed Sparse Row format>], [<1x89 sparse matrix of type '<class 'numpy.float64'>'\n",
      "\twith 9 stored elements in Compressed Sparse Row format>], [<1x89 sparse matrix of type '<class 'numpy.float64'>'\n",
      "\twith 9 stored elements in Compressed Sparse Row format>], [<1x89 sparse matrix of type '<class 'numpy.float64'>'\n",
      "\twith 9 stored elements in Compressed Sparse Row format>], [<1x89 sparse matrix of type '<class 'numpy.float64'>'\n",
      "\twith 9 stored elements in Compressed Sparse Row format>], [<1x89 sparse matrix of type '<class 'numpy.float64'>'\n",
      "\twith 9 stored elements in Compressed Sparse Row format>], [<1x89 sparse matrix of type '<class 'numpy.float64'>'\n",
      "\twith 9 stored elements in Compressed Sparse Row format>], [<1x89 sparse matrix of type '<class 'numpy.float64'>'\n",
      "\twith 9 stored elements in Compressed Sparse Row format>], [<1x89 sparse matrix of type '<class 'numpy.float64'>'\n",
      "\twith 9 stored elements in Compressed Sparse Row format>], [<1x89 sparse matrix of type '<class 'numpy.float64'>'\n",
      "\twith 9 stored elements in Compressed Sparse Row format>], [<1x89 sparse matrix of type '<class 'numpy.float64'>'\n",
      "\twith 9 stored elements in Compressed Sparse Row format>], [<1x89 sparse matrix of type '<class 'numpy.float64'>'\n",
      "\twith 9 stored elements in Compressed Sparse Row format>], [<1x89 sparse matrix of type '<class 'numpy.float64'>'\n",
      "\twith 9 stored elements in Compressed Sparse Row format>], [<1x89 sparse matrix of type '<class 'numpy.float64'>'\n",
      "\twith 9 stored elements in Compressed Sparse Row format>], [<1x89 sparse matrix of type '<class 'numpy.float64'>'\n",
      "\twith 9 stored elements in Compressed Sparse Row format>], [<1x89 sparse matrix of type '<class 'numpy.float64'>'\n",
      "\twith 9 stored elements in Compressed Sparse Row format>], [<1x89 sparse matrix of type '<class 'numpy.float64'>'\n",
      "\twith 9 stored elements in Compressed Sparse Row format>], [<1x89 sparse matrix of type '<class 'numpy.float64'>'\n",
      "\twith 9 stored elements in Compressed Sparse Row format>], [<1x89 sparse matrix of type '<class 'numpy.float64'>'\n",
      "\twith 9 stored elements in Compressed Sparse Row format>], [<1x89 sparse matrix of type '<class 'numpy.float64'>'\n",
      "\twith 9 stored elements in Compressed Sparse Row format>], [<1x89 sparse matrix of type '<class 'numpy.float64'>'\n",
      "\twith 9 stored elements in Compressed Sparse Row format>], [<1x89 sparse matrix of type '<class 'numpy.float64'>'\n",
      "\twith 9 stored elements in Compressed Sparse Row format>], [<1x89 sparse matrix of type '<class 'numpy.float64'>'\n",
      "\twith 9 stored elements in Compressed Sparse Row format>], [<1x89 sparse matrix of type '<class 'numpy.float64'>'\n",
      "\twith 9 stored elements in Compressed Sparse Row format>], [<1x89 sparse matrix of type '<class 'numpy.float64'>'\n",
      "\twith 9 stored elements in Compressed Sparse Row format>], [<1x89 sparse matrix of type '<class 'numpy.float64'>'\n",
      "\twith 9 stored elements in Compressed Sparse Row format>], [<1x89 sparse matrix of type '<class 'numpy.float64'>'\n",
      "\twith 9 stored elements in Compressed Sparse Row format>], [<1x89 sparse matrix of type '<class 'numpy.float64'>'\n",
      "\twith 9 stored elements in Compressed Sparse Row format>], [<1x89 sparse matrix of type '<class 'numpy.float64'>'\n",
      "\twith 9 stored elements in Compressed Sparse Row format>], [<1x89 sparse matrix of type '<class 'numpy.float64'>'\n",
      "\twith 9 stored elements in Compressed Sparse Row format>], [<1x89 sparse matrix of type '<class 'numpy.float64'>'\n",
      "\twith 9 stored elements in Compressed Sparse Row format>], [<1x89 sparse matrix of type '<class 'numpy.float64'>'\n",
      "\twith 9 stored elements in Compressed Sparse Row format>], [<1x89 sparse matrix of type '<class 'numpy.float64'>'\n",
      "\twith 9 stored elements in Compressed Sparse Row format>], [<1x89 sparse matrix of type '<class 'numpy.float64'>'\n",
      "\twith 9 stored elements in Compressed Sparse Row format>], [<1x89 sparse matrix of type '<class 'numpy.float64'>'\n",
      "\twith 9 stored elements in Compressed Sparse Row format>], [<1x89 sparse matrix of type '<class 'numpy.float64'>'\n",
      "\twith 9 stored elements in Compressed Sparse Row format>], [<1x89 sparse matrix of type '<class 'numpy.float64'>'\n",
      "\twith 9 stored elements in Compressed Sparse Row format>], [<1x89 sparse matrix of type '<class 'numpy.float64'>'\n",
      "\twith 9 stored elements in Compressed Sparse Row format>], [<1x89 sparse matrix of type '<class 'numpy.float64'>'\n",
      "\twith 9 stored elements in Compressed Sparse Row format>], [<1x89 sparse matrix of type '<class 'numpy.float64'>'\n",
      "\twith 9 stored elements in Compressed Sparse Row format>], [<1x89 sparse matrix of type '<class 'numpy.float64'>'\n",
      "\twith 9 stored elements in Compressed Sparse Row format>], [<1x89 sparse matrix of type '<class 'numpy.float64'>'\n",
      "\twith 9 stored elements in Compressed Sparse Row format>], [<1x89 sparse matrix of type '<class 'numpy.float64'>'\n",
      "\twith 9 stored elements in Compressed Sparse Row format>], [<1x89 sparse matrix of type '<class 'numpy.float64'>'\n",
      "\twith 9 stored elements in Compressed Sparse Row format>], [<1x89 sparse matrix of type '<class 'numpy.float64'>'\n",
      "\twith 9 stored elements in Compressed Sparse Row format>], [<1x89 sparse matrix of type '<class 'numpy.float64'>'\n",
      "\twith 9 stored elements in Compressed Sparse Row format>], [<1x89 sparse matrix of type '<class 'numpy.float64'>'\n",
      "\twith 9 stored elements in Compressed Sparse Row format>], [<1x89 sparse matrix of type '<class 'numpy.float64'>'\n",
      "\twith 9 stored elements in Compressed Sparse Row format>], [<1x89 sparse matrix of type '<class 'numpy.float64'>'\n",
      "\twith 9 stored elements in Compressed Sparse Row format>], [<1x89 sparse matrix of type '<class 'numpy.float64'>'\n",
      "\twith 9 stored elements in Compressed Sparse Row format>], [<1x89 sparse matrix of type '<class 'numpy.float64'>'\n",
      "\twith 9 stored elements in Compressed Sparse Row format>], [<1x89 sparse matrix of type '<class 'numpy.float64'>'\n",
      "\twith 9 stored elements in Compressed Sparse Row format>], [<1x89 sparse matrix of type '<class 'numpy.float64'>'\n",
      "\twith 9 stored elements in Compressed Sparse Row format>], [<1x89 sparse matrix of type '<class 'numpy.float64'>'\n",
      "\twith 9 stored elements in Compressed Sparse Row format>], [<1x89 sparse matrix of type '<class 'numpy.float64'>'\n",
      "\twith 9 stored elements in Compressed Sparse Row format>], [<1x89 sparse matrix of type '<class 'numpy.float64'>'\n",
      "\twith 9 stored elements in Compressed Sparse Row format>], [<1x89 sparse matrix of type '<class 'numpy.float64'>'\n",
      "\twith 9 stored elements in Compressed Sparse Row format>], [<1x89 sparse matrix of type '<class 'numpy.float64'>'\n",
      "\twith 9 stored elements in Compressed Sparse Row format>], [<1x89 sparse matrix of type '<class 'numpy.float64'>'\n",
      "\twith 9 stored elements in Compressed Sparse Row format>], [<1x89 sparse matrix of type '<class 'numpy.float64'>'\n",
      "\twith 9 stored elements in Compressed Sparse Row format>], [<1x89 sparse matrix of type '<class 'numpy.float64'>'\n",
      "\twith 9 stored elements in Compressed Sparse Row format>], [<1x89 sparse matrix of type '<class 'numpy.float64'>'\n",
      "\twith 9 stored elements in Compressed Sparse Row format>], [<1x89 sparse matrix of type '<class 'numpy.float64'>'\n",
      "\twith 9 stored elements in Compressed Sparse Row format>], [<1x89 sparse matrix of type '<class 'numpy.float64'>'\n",
      "\twith 9 stored elements in Compressed Sparse Row format>], [<1x89 sparse matrix of type '<class 'numpy.float64'>'\n",
      "\twith 9 stored elements in Compressed Sparse Row format>], [<1x89 sparse matrix of type '<class 'numpy.float64'>'\n",
      "\twith 9 stored elements in Compressed Sparse Row format>], [<1x89 sparse matrix of type '<class 'numpy.float64'>'\n",
      "\twith 9 stored elements in Compressed Sparse Row format>], [<1x89 sparse matrix of type '<class 'numpy.float64'>'\n",
      "\twith 9 stored elements in Compressed Sparse Row format>], [<1x89 sparse matrix of type '<class 'numpy.float64'>'\n",
      "\twith 9 stored elements in Compressed Sparse Row format>], [<1x89 sparse matrix of type '<class 'numpy.float64'>'\n",
      "\twith 9 stored elements in Compressed Sparse Row format>], [<1x89 sparse matrix of type '<class 'numpy.float64'>'\n",
      "\twith 9 stored elements in Compressed Sparse Row format>], [<1x89 sparse matrix of type '<class 'numpy.float64'>'\n",
      "\twith 9 stored elements in Compressed Sparse Row format>], [<1x89 sparse matrix of type '<class 'numpy.float64'>'\n",
      "\twith 9 stored elements in Compressed Sparse Row format>], [<1x89 sparse matrix of type '<class 'numpy.float64'>'\n",
      "\twith 9 stored elements in Compressed Sparse Row format>], [<1x89 sparse matrix of type '<class 'numpy.float64'>'\n",
      "\twith 9 stored elements in Compressed Sparse Row format>], [<1x89 sparse matrix of type '<class 'numpy.float64'>'\n",
      "\twith 9 stored elements in Compressed Sparse Row format>], [<1x89 sparse matrix of type '<class 'numpy.float64'>'\n",
      "\twith 9 stored elements in Compressed Sparse Row format>], [<1x89 sparse matrix of type '<class 'numpy.float64'>'\n",
      "\twith 9 stored elements in Compressed Sparse Row format>], [<1x89 sparse matrix of type '<class 'numpy.float64'>'\n",
      "\twith 9 stored elements in Compressed Sparse Row format>], [<1x89 sparse matrix of type '<class 'numpy.float64'>'\n",
      "\twith 9 stored elements in Compressed Sparse Row format>], [<1x89 sparse matrix of type '<class 'numpy.float64'>'\n",
      "\twith 9 stored elements in Compressed Sparse Row format>], [<1x89 sparse matrix of type '<class 'numpy.float64'>'\n",
      "\twith 9 stored elements in Compressed Sparse Row format>], [<1x89 sparse matrix of type '<class 'numpy.float64'>'\n",
      "\twith 9 stored elements in Compressed Sparse Row format>], [<1x89 sparse matrix of type '<class 'numpy.float64'>'\n",
      "\twith 9 stored elements in Compressed Sparse Row format>], [<1x89 sparse matrix of type '<class 'numpy.float64'>'\n",
      "\twith 9 stored elements in Compressed Sparse Row format>], [<1x89 sparse matrix of type '<class 'numpy.float64'>'\n",
      "\twith 9 stored elements in Compressed Sparse Row format>], [<1x89 sparse matrix of type '<class 'numpy.float64'>'\n",
      "\twith 9 stored elements in Compressed Sparse Row format>], [<1x89 sparse matrix of type '<class 'numpy.float64'>'\n",
      "\twith 9 stored elements in Compressed Sparse Row format>], [<1x89 sparse matrix of type '<class 'numpy.float64'>'\n",
      "\twith 9 stored elements in Compressed Sparse Row format>], [<1x89 sparse matrix of type '<class 'numpy.float64'>'\n",
      "\twith 9 stored elements in Compressed Sparse Row format>], [<1x89 sparse matrix of type '<class 'numpy.float64'>'\n",
      "\twith 9 stored elements in Compressed Sparse Row format>], [<1x89 sparse matrix of type '<class 'numpy.float64'>'\n",
      "\twith 9 stored elements in Compressed Sparse Row format>], [<1x89 sparse matrix of type '<class 'numpy.float64'>'\n",
      "\twith 9 stored elements in Compressed Sparse Row format>], [<1x89 sparse matrix of type '<class 'numpy.float64'>'\n",
      "\twith 9 stored elements in Compressed Sparse Row format>], [<1x89 sparse matrix of type '<class 'numpy.float64'>'\n",
      "\twith 9 stored elements in Compressed Sparse Row format>], [<1x89 sparse matrix of type '<class 'numpy.float64'>'\n",
      "\twith 9 stored elements in Compressed Sparse Row format>], [<1x89 sparse matrix of type '<class 'numpy.float64'>'\n",
      "\twith 9 stored elements in Compressed Sparse Row format>], [<1x89 sparse matrix of type '<class 'numpy.float64'>'\n",
      "\twith 9 stored elements in Compressed Sparse Row format>], [<1x89 sparse matrix of type '<class 'numpy.float64'>'\n",
      "\twith 9 stored elements in Compressed Sparse Row format>], [<1x89 sparse matrix of type '<class 'numpy.float64'>'\n",
      "\twith 9 stored elements in Compressed Sparse Row format>], [<1x89 sparse matrix of type '<class 'numpy.float64'>'\n",
      "\twith 9 stored elements in Compressed Sparse Row format>], [<1x89 sparse matrix of type '<class 'numpy.float64'>'\n",
      "\twith 9 stored elements in Compressed Sparse Row format>], [<1x89 sparse matrix of type '<class 'numpy.float64'>'\n",
      "\twith 9 stored elements in Compressed Sparse Row format>], [<1x89 sparse matrix of type '<class 'numpy.float64'>'\n",
      "\twith 9 stored elements in Compressed Sparse Row format>], [<1x89 sparse matrix of type '<class 'numpy.float64'>'\n",
      "\twith 9 stored elements in Compressed Sparse Row format>], [<1x89 sparse matrix of type '<class 'numpy.float64'>'\n",
      "\twith 9 stored elements in Compressed Sparse Row format>], [<1x89 sparse matrix of type '<class 'numpy.float64'>'\n",
      "\twith 9 stored elements in Compressed Sparse Row format>], [<1x89 sparse matrix of type '<class 'numpy.float64'>'\n",
      "\twith 9 stored elements in Compressed Sparse Row format>], [<1x89 sparse matrix of type '<class 'numpy.float64'>'\n",
      "\twith 9 stored elements in Compressed Sparse Row format>], [<1x89 sparse matrix of type '<class 'numpy.float64'>'\n",
      "\twith 9 stored elements in Compressed Sparse Row format>], [<1x89 sparse matrix of type '<class 'numpy.float64'>'\n",
      "\twith 9 stored elements in Compressed Sparse Row format>], [<1x89 sparse matrix of type '<class 'numpy.float64'>'\n",
      "\twith 9 stored elements in Compressed Sparse Row format>], [<1x89 sparse matrix of type '<class 'numpy.float64'>'\n",
      "\twith 9 stored elements in Compressed Sparse Row format>], [<1x89 sparse matrix of type '<class 'numpy.float64'>'\n",
      "\twith 9 stored elements in Compressed Sparse Row format>], [<1x89 sparse matrix of type '<class 'numpy.float64'>'\n",
      "\twith 9 stored elements in Compressed Sparse Row format>], [<1x89 sparse matrix of type '<class 'numpy.float64'>'\n",
      "\twith 9 stored elements in Compressed Sparse Row format>], [<1x89 sparse matrix of type '<class 'numpy.float64'>'\n",
      "\twith 9 stored elements in Compressed Sparse Row format>], [<1x89 sparse matrix of type '<class 'numpy.float64'>'\n",
      "\twith 9 stored elements in Compressed Sparse Row format>], [<1x89 sparse matrix of type '<class 'numpy.float64'>'\n",
      "\twith 9 stored elements in Compressed Sparse Row format>], [<1x89 sparse matrix of type '<class 'numpy.float64'>'\n",
      "\twith 9 stored elements in Compressed Sparse Row format>], [<1x89 sparse matrix of type '<class 'numpy.float64'>'\n",
      "\twith 9 stored elements in Compressed Sparse Row format>], [<1x89 sparse matrix of type '<class 'numpy.float64'>'\n",
      "\twith 9 stored elements in Compressed Sparse Row format>], [<1x89 sparse matrix of type '<class 'numpy.float64'>'\n",
      "\twith 9 stored elements in Compressed Sparse Row format>], [<1x89 sparse matrix of type '<class 'numpy.float64'>'\n",
      "\twith 9 stored elements in Compressed Sparse Row format>], [<1x89 sparse matrix of type '<class 'numpy.float64'>'\n",
      "\twith 9 stored elements in Compressed Sparse Row format>], [<1x89 sparse matrix of type '<class 'numpy.float64'>'\n",
      "\twith 9 stored elements in Compressed Sparse Row format>], [<1x89 sparse matrix of type '<class 'numpy.float64'>'\n",
      "\twith 9 stored elements in Compressed Sparse Row format>], [<1x89 sparse matrix of type '<class 'numpy.float64'>'\n",
      "\twith 9 stored elements in Compressed Sparse Row format>], [<1x89 sparse matrix of type '<class 'numpy.float64'>'\n",
      "\twith 9 stored elements in Compressed Sparse Row format>], [<1x89 sparse matrix of type '<class 'numpy.float64'>'\n",
      "\twith 9 stored elements in Compressed Sparse Row format>], [<1x89 sparse matrix of type '<class 'numpy.float64'>'\n",
      "\twith 9 stored elements in Compressed Sparse Row format>], [<1x89 sparse matrix of type '<class 'numpy.float64'>'\n",
      "\twith 9 stored elements in Compressed Sparse Row format>], [<1x89 sparse matrix of type '<class 'numpy.float64'>'\n",
      "\twith 9 stored elements in Compressed Sparse Row format>], [<1x89 sparse matrix of type '<class 'numpy.float64'>'\n",
      "\twith 9 stored elements in Compressed Sparse Row format>], [<1x89 sparse matrix of type '<class 'numpy.float64'>'\n",
      "\twith 9 stored elements in Compressed Sparse Row format>], [<1x89 sparse matrix of type '<class 'numpy.float64'>'\n",
      "\twith 9 stored elements in Compressed Sparse Row format>], [<1x89 sparse matrix of type '<class 'numpy.float64'>'\n",
      "\twith 9 stored elements in Compressed Sparse Row format>], [<1x89 sparse matrix of type '<class 'numpy.float64'>'\n",
      "\twith 9 stored elements in Compressed Sparse Row format>], [<1x89 sparse matrix of type '<class 'numpy.float64'>'\n",
      "\twith 9 stored elements in Compressed Sparse Row format>], [<1x89 sparse matrix of type '<class 'numpy.float64'>'\n",
      "\twith 9 stored elements in Compressed Sparse Row format>], [<1x89 sparse matrix of type '<class 'numpy.float64'>'\n",
      "\twith 9 stored elements in Compressed Sparse Row format>], [<1x89 sparse matrix of type '<class 'numpy.float64'>'\n",
      "\twith 9 stored elements in Compressed Sparse Row format>], [<1x89 sparse matrix of type '<class 'numpy.float64'>'\n",
      "\twith 9 stored elements in Compressed Sparse Row format>], [<1x89 sparse matrix of type '<class 'numpy.float64'>'\n",
      "\twith 9 stored elements in Compressed Sparse Row format>], [<1x89 sparse matrix of type '<class 'numpy.float64'>'\n",
      "\twith 9 stored elements in Compressed Sparse Row format>], [<1x89 sparse matrix of type '<class 'numpy.float64'>'\n",
      "\twith 9 stored elements in Compressed Sparse Row format>], [<1x89 sparse matrix of type '<class 'numpy.float64'>'\n",
      "\twith 9 stored elements in Compressed Sparse Row format>], [<1x89 sparse matrix of type '<class 'numpy.float64'>'\n",
      "\twith 9 stored elements in Compressed Sparse Row format>], [<1x89 sparse matrix of type '<class 'numpy.float64'>'\n",
      "\twith 9 stored elements in Compressed Sparse Row format>], [<1x89 sparse matrix of type '<class 'numpy.float64'>'\n",
      "\twith 9 stored elements in Compressed Sparse Row format>], [<1x89 sparse matrix of type '<class 'numpy.float64'>'\n",
      "\twith 9 stored elements in Compressed Sparse Row format>], [<1x89 sparse matrix of type '<class 'numpy.float64'>'\n",
      "\twith 9 stored elements in Compressed Sparse Row format>], [<1x89 sparse matrix of type '<class 'numpy.float64'>'\n",
      "\twith 9 stored elements in Compressed Sparse Row format>], [<1x89 sparse matrix of type '<class 'numpy.float64'>'\n",
      "\twith 9 stored elements in Compressed Sparse Row format>], [<1x89 sparse matrix of type '<class 'numpy.float64'>'\n",
      "\twith 9 stored elements in Compressed Sparse Row format>], [<1x89 sparse matrix of type '<class 'numpy.float64'>'\n",
      "\twith 9 stored elements in Compressed Sparse Row format>], [<1x89 sparse matrix of type '<class 'numpy.float64'>'\n",
      "\twith 9 stored elements in Compressed Sparse Row format>], [<1x89 sparse matrix of type '<class 'numpy.float64'>'\n",
      "\twith 9 stored elements in Compressed Sparse Row format>], [<1x89 sparse matrix of type '<class 'numpy.float64'>'\n",
      "\twith 9 stored elements in Compressed Sparse Row format>], [<1x89 sparse matrix of type '<class 'numpy.float64'>'\n",
      "\twith 9 stored elements in Compressed Sparse Row format>], [<1x89 sparse matrix of type '<class 'numpy.float64'>'\n",
      "\twith 9 stored elements in Compressed Sparse Row format>], [<1x89 sparse matrix of type '<class 'numpy.float64'>'\n",
      "\twith 9 stored elements in Compressed Sparse Row format>], [<1x89 sparse matrix of type '<class 'numpy.float64'>'\n",
      "\twith 9 stored elements in Compressed Sparse Row format>], [<1x89 sparse matrix of type '<class 'numpy.float64'>'\n",
      "\twith 9 stored elements in Compressed Sparse Row format>], [<1x89 sparse matrix of type '<class 'numpy.float64'>'\n",
      "\twith 9 stored elements in Compressed Sparse Row format>], [<1x89 sparse matrix of type '<class 'numpy.float64'>'\n",
      "\twith 9 stored elements in Compressed Sparse Row format>], [<1x89 sparse matrix of type '<class 'numpy.float64'>'\n",
      "\twith 9 stored elements in Compressed Sparse Row format>], [<1x89 sparse matrix of type '<class 'numpy.float64'>'\n",
      "\twith 9 stored elements in Compressed Sparse Row format>], [<1x89 sparse matrix of type '<class 'numpy.float64'>'\n",
      "\twith 9 stored elements in Compressed Sparse Row format>], [<1x89 sparse matrix of type '<class 'numpy.float64'>'\n",
      "\twith 9 stored elements in Compressed Sparse Row format>], [<1x89 sparse matrix of type '<class 'numpy.float64'>'\n",
      "\twith 9 stored elements in Compressed Sparse Row format>], [<1x89 sparse matrix of type '<class 'numpy.float64'>'\n",
      "\twith 9 stored elements in Compressed Sparse Row format>], [<1x89 sparse matrix of type '<class 'numpy.float64'>'\n",
      "\twith 9 stored elements in Compressed Sparse Row format>], [<1x89 sparse matrix of type '<class 'numpy.float64'>'\n",
      "\twith 9 stored elements in Compressed Sparse Row format>], [<1x89 sparse matrix of type '<class 'numpy.float64'>'\n",
      "\twith 9 stored elements in Compressed Sparse Row format>], [<1x89 sparse matrix of type '<class 'numpy.float64'>'\n",
      "\twith 9 stored elements in Compressed Sparse Row format>], [<1x89 sparse matrix of type '<class 'numpy.float64'>'\n",
      "\twith 9 stored elements in Compressed Sparse Row format>], [<1x89 sparse matrix of type '<class 'numpy.float64'>'\n",
      "\twith 9 stored elements in Compressed Sparse Row format>], [<1x89 sparse matrix of type '<class 'numpy.float64'>'\n",
      "\twith 9 stored elements in Compressed Sparse Row format>], [<1x89 sparse matrix of type '<class 'numpy.float64'>'\n",
      "\twith 9 stored elements in Compressed Sparse Row format>], [<1x89 sparse matrix of type '<class 'numpy.float64'>'\n",
      "\twith 9 stored elements in Compressed Sparse Row format>], [<1x89 sparse matrix of type '<class 'numpy.float64'>'\n",
      "\twith 9 stored elements in Compressed Sparse Row format>], [<1x89 sparse matrix of type '<class 'numpy.float64'>'\n",
      "\twith 9 stored elements in Compressed Sparse Row format>], [<1x89 sparse matrix of type '<class 'numpy.float64'>'\n",
      "\twith 9 stored elements in Compressed Sparse Row format>], [<1x89 sparse matrix of type '<class 'numpy.float64'>'\n",
      "\twith 9 stored elements in Compressed Sparse Row format>], [<1x89 sparse matrix of type '<class 'numpy.float64'>'\n",
      "\twith 9 stored elements in Compressed Sparse Row format>], [<1x89 sparse matrix of type '<class 'numpy.float64'>'\n",
      "\twith 9 stored elements in Compressed Sparse Row format>], [<1x89 sparse matrix of type '<class 'numpy.float64'>'\n",
      "\twith 9 stored elements in Compressed Sparse Row format>], [<1x89 sparse matrix of type '<class 'numpy.float64'>'\n",
      "\twith 9 stored elements in Compressed Sparse Row format>], [<1x89 sparse matrix of type '<class 'numpy.float64'>'\n",
      "\twith 9 stored elements in Compressed Sparse Row format>], [<1x89 sparse matrix of type '<class 'numpy.float64'>'\n",
      "\twith 9 stored elements in Compressed Sparse Row format>], [<1x89 sparse matrix of type '<class 'numpy.float64'>'\n",
      "\twith 9 stored elements in Compressed Sparse Row format>], [<1x89 sparse matrix of type '<class 'numpy.float64'>'\n",
      "\twith 9 stored elements in Compressed Sparse Row format>], [<1x89 sparse matrix of type '<class 'numpy.float64'>'\n",
      "\twith 9 stored elements in Compressed Sparse Row format>], [<1x89 sparse matrix of type '<class 'numpy.float64'>'\n",
      "\twith 9 stored elements in Compressed Sparse Row format>], [<1x89 sparse matrix of type '<class 'numpy.float64'>'\n",
      "\twith 9 stored elements in Compressed Sparse Row format>], [<1x89 sparse matrix of type '<class 'numpy.float64'>'\n",
      "\twith 9 stored elements in Compressed Sparse Row format>], [<1x89 sparse matrix of type '<class 'numpy.float64'>'\n",
      "\twith 9 stored elements in Compressed Sparse Row format>], [<1x89 sparse matrix of type '<class 'numpy.float64'>'\n",
      "\twith 9 stored elements in Compressed Sparse Row format>], [<1x89 sparse matrix of type '<class 'numpy.float64'>'\n",
      "\twith 9 stored elements in Compressed Sparse Row format>], [<1x89 sparse matrix of type '<class 'numpy.float64'>'\n",
      "\twith 9 stored elements in Compressed Sparse Row format>], [<1x89 sparse matrix of type '<class 'numpy.float64'>'\n",
      "\twith 9 stored elements in Compressed Sparse Row format>], [<1x89 sparse matrix of type '<class 'numpy.float64'>'\n",
      "\twith 9 stored elements in Compressed Sparse Row format>], [<1x89 sparse matrix of type '<class 'numpy.float64'>'\n",
      "\twith 9 stored elements in Compressed Sparse Row format>], [<1x89 sparse matrix of type '<class 'numpy.float64'>'\n",
      "\twith 9 stored elements in Compressed Sparse Row format>], [<1x89 sparse matrix of type '<class 'numpy.float64'>'\n",
      "\twith 9 stored elements in Compressed Sparse Row format>], [<1x89 sparse matrix of type '<class 'numpy.float64'>'\n",
      "\twith 9 stored elements in Compressed Sparse Row format>], [<1x89 sparse matrix of type '<class 'numpy.float64'>'\n",
      "\twith 9 stored elements in Compressed Sparse Row format>], [<1x89 sparse matrix of type '<class 'numpy.float64'>'\n",
      "\twith 9 stored elements in Compressed Sparse Row format>], [<1x89 sparse matrix of type '<class 'numpy.float64'>'\n",
      "\twith 9 stored elements in Compressed Sparse Row format>], [<1x89 sparse matrix of type '<class 'numpy.float64'>'\n",
      "\twith 9 stored elements in Compressed Sparse Row format>], [<1x89 sparse matrix of type '<class 'numpy.float64'>'\n",
      "\twith 9 stored elements in Compressed Sparse Row format>], [<1x89 sparse matrix of type '<class 'numpy.float64'>'\n",
      "\twith 9 stored elements in Compressed Sparse Row format>], [<1x89 sparse matrix of type '<class 'numpy.float64'>'\n",
      "\twith 9 stored elements in Compressed Sparse Row format>], [<1x89 sparse matrix of type '<class 'numpy.float64'>'\n",
      "\twith 9 stored elements in Compressed Sparse Row format>], [<1x89 sparse matrix of type '<class 'numpy.float64'>'\n",
      "\twith 9 stored elements in Compressed Sparse Row format>], [<1x89 sparse matrix of type '<class 'numpy.float64'>'\n",
      "\twith 9 stored elements in Compressed Sparse Row format>], [<1x89 sparse matrix of type '<class 'numpy.float64'>'\n",
      "\twith 9 stored elements in Compressed Sparse Row format>], [<1x89 sparse matrix of type '<class 'numpy.float64'>'\n",
      "\twith 9 stored elements in Compressed Sparse Row format>], [<1x89 sparse matrix of type '<class 'numpy.float64'>'\n",
      "\twith 9 stored elements in Compressed Sparse Row format>], [<1x89 sparse matrix of type '<class 'numpy.float64'>'\n",
      "\twith 9 stored elements in Compressed Sparse Row format>], [<1x89 sparse matrix of type '<class 'numpy.float64'>'\n",
      "\twith 9 stored elements in Compressed Sparse Row format>], [<1x89 sparse matrix of type '<class 'numpy.float64'>'\n",
      "\twith 9 stored elements in Compressed Sparse Row format>], [<1x89 sparse matrix of type '<class 'numpy.float64'>'\n",
      "\twith 9 stored elements in Compressed Sparse Row format>], [<1x89 sparse matrix of type '<class 'numpy.float64'>'\n",
      "\twith 9 stored elements in Compressed Sparse Row format>], [<1x89 sparse matrix of type '<class 'numpy.float64'>'\n",
      "\twith 9 stored elements in Compressed Sparse Row format>], [<1x89 sparse matrix of type '<class 'numpy.float64'>'\n",
      "\twith 9 stored elements in Compressed Sparse Row format>], [<1x89 sparse matrix of type '<class 'numpy.float64'>'\n",
      "\twith 9 stored elements in Compressed Sparse Row format>], [<1x89 sparse matrix of type '<class 'numpy.float64'>'\n",
      "\twith 9 stored elements in Compressed Sparse Row format>], [<1x89 sparse matrix of type '<class 'numpy.float64'>'\n",
      "\twith 9 stored elements in Compressed Sparse Row format>], [<1x89 sparse matrix of type '<class 'numpy.float64'>'\n",
      "\twith 9 stored elements in Compressed Sparse Row format>], [<1x89 sparse matrix of type '<class 'numpy.float64'>'\n",
      "\twith 9 stored elements in Compressed Sparse Row format>], [<1x89 sparse matrix of type '<class 'numpy.float64'>'\n",
      "\twith 9 stored elements in Compressed Sparse Row format>], [<1x89 sparse matrix of type '<class 'numpy.float64'>'\n",
      "\twith 9 stored elements in Compressed Sparse Row format>], [<1x89 sparse matrix of type '<class 'numpy.float64'>'\n",
      "\twith 9 stored elements in Compressed Sparse Row format>], [<1x89 sparse matrix of type '<class 'numpy.float64'>'\n",
      "\twith 9 stored elements in Compressed Sparse Row format>], [<1x89 sparse matrix of type '<class 'numpy.float64'>'\n",
      "\twith 9 stored elements in Compressed Sparse Row format>], [<1x89 sparse matrix of type '<class 'numpy.float64'>'\n",
      "\twith 9 stored elements in Compressed Sparse Row format>], [<1x89 sparse matrix of type '<class 'numpy.float64'>'\n",
      "\twith 9 stored elements in Compressed Sparse Row format>], [<1x89 sparse matrix of type '<class 'numpy.float64'>'\n",
      "\twith 9 stored elements in Compressed Sparse Row format>], [<1x89 sparse matrix of type '<class 'numpy.float64'>'\n",
      "\twith 9 stored elements in Compressed Sparse Row format>], [<1x89 sparse matrix of type '<class 'numpy.float64'>'\n",
      "\twith 9 stored elements in Compressed Sparse Row format>], [<1x89 sparse matrix of type '<class 'numpy.float64'>'\n",
      "\twith 9 stored elements in Compressed Sparse Row format>], [<1x89 sparse matrix of type '<class 'numpy.float64'>'\n",
      "\twith 9 stored elements in Compressed Sparse Row format>], [<1x89 sparse matrix of type '<class 'numpy.float64'>'\n",
      "\twith 9 stored elements in Compressed Sparse Row format>], [<1x89 sparse matrix of type '<class 'numpy.float64'>'\n",
      "\twith 9 stored elements in Compressed Sparse Row format>], [<1x89 sparse matrix of type '<class 'numpy.float64'>'\n",
      "\twith 9 stored elements in Compressed Sparse Row format>], [<1x89 sparse matrix of type '<class 'numpy.float64'>'\n",
      "\twith 9 stored elements in Compressed Sparse Row format>], [<1x89 sparse matrix of type '<class 'numpy.float64'>'\n",
      "\twith 9 stored elements in Compressed Sparse Row format>], [<1x89 sparse matrix of type '<class 'numpy.float64'>'\n",
      "\twith 9 stored elements in Compressed Sparse Row format>], [<1x89 sparse matrix of type '<class 'numpy.float64'>'\n",
      "\twith 9 stored elements in Compressed Sparse Row format>], [<1x89 sparse matrix of type '<class 'numpy.float64'>'\n",
      "\twith 9 stored elements in Compressed Sparse Row format>], [<1x89 sparse matrix of type '<class 'numpy.float64'>'\n",
      "\twith 9 stored elements in Compressed Sparse Row format>], [<1x89 sparse matrix of type '<class 'numpy.float64'>'\n",
      "\twith 9 stored elements in Compressed Sparse Row format>], [<1x89 sparse matrix of type '<class 'numpy.float64'>'\n",
      "\twith 9 stored elements in Compressed Sparse Row format>], [<1x89 sparse matrix of type '<class 'numpy.float64'>'\n",
      "\twith 9 stored elements in Compressed Sparse Row format>], [<1x89 sparse matrix of type '<class 'numpy.float64'>'\n",
      "\twith 9 stored elements in Compressed Sparse Row format>], [<1x89 sparse matrix of type '<class 'numpy.float64'>'\n",
      "\twith 9 stored elements in Compressed Sparse Row format>], [<1x89 sparse matrix of type '<class 'numpy.float64'>'\n",
      "\twith 9 stored elements in Compressed Sparse Row format>], [<1x89 sparse matrix of type '<class 'numpy.float64'>'\n",
      "\twith 9 stored elements in Compressed Sparse Row format>], [<1x89 sparse matrix of type '<class 'numpy.float64'>'\n",
      "\twith 9 stored elements in Compressed Sparse Row format>], [<1x89 sparse matrix of type '<class 'numpy.float64'>'\n",
      "\twith 9 stored elements in Compressed Sparse Row format>], [<1x89 sparse matrix of type '<class 'numpy.float64'>'\n",
      "\twith 9 stored elements in Compressed Sparse Row format>], [<1x89 sparse matrix of type '<class 'numpy.float64'>'\n",
      "\twith 9 stored elements in Compressed Sparse Row format>], [<1x89 sparse matrix of type '<class 'numpy.float64'>'\n",
      "\twith 9 stored elements in Compressed Sparse Row format>], [<1x89 sparse matrix of type '<class 'numpy.float64'>'\n",
      "\twith 9 stored elements in Compressed Sparse Row format>], [<1x89 sparse matrix of type '<class 'numpy.float64'>'\n",
      "\twith 9 stored elements in Compressed Sparse Row format>], [<1x89 sparse matrix of type '<class 'numpy.float64'>'\n",
      "\twith 9 stored elements in Compressed Sparse Row format>], [<1x89 sparse matrix of type '<class 'numpy.float64'>'\n",
      "\twith 9 stored elements in Compressed Sparse Row format>], [<1x89 sparse matrix of type '<class 'numpy.float64'>'\n",
      "\twith 9 stored elements in Compressed Sparse Row format>], [<1x89 sparse matrix of type '<class 'numpy.float64'>'\n",
      "\twith 9 stored elements in Compressed Sparse Row format>], [<1x89 sparse matrix of type '<class 'numpy.float64'>'\n",
      "\twith 9 stored elements in Compressed Sparse Row format>], [<1x89 sparse matrix of type '<class 'numpy.float64'>'\n",
      "\twith 9 stored elements in Compressed Sparse Row format>], [<1x89 sparse matrix of type '<class 'numpy.float64'>'\n",
      "\twith 9 stored elements in Compressed Sparse Row format>], [<1x89 sparse matrix of type '<class 'numpy.float64'>'\n",
      "\twith 9 stored elements in Compressed Sparse Row format>], [<1x89 sparse matrix of type '<class 'numpy.float64'>'\n",
      "\twith 9 stored elements in Compressed Sparse Row format>], [<1x89 sparse matrix of type '<class 'numpy.float64'>'\n",
      "\twith 9 stored elements in Compressed Sparse Row format>], [<1x89 sparse matrix of type '<class 'numpy.float64'>'\n",
      "\twith 9 stored elements in Compressed Sparse Row format>], [<1x89 sparse matrix of type '<class 'numpy.float64'>'\n",
      "\twith 9 stored elements in Compressed Sparse Row format>], [<1x89 sparse matrix of type '<class 'numpy.float64'>'\n",
      "\twith 9 stored elements in Compressed Sparse Row format>], [<1x89 sparse matrix of type '<class 'numpy.float64'>'\n",
      "\twith 9 stored elements in Compressed Sparse Row format>], [<1x89 sparse matrix of type '<class 'numpy.float64'>'\n",
      "\twith 9 stored elements in Compressed Sparse Row format>], [<1x89 sparse matrix of type '<class 'numpy.float64'>'\n",
      "\twith 9 stored elements in Compressed Sparse Row format>], [<1x89 sparse matrix of type '<class 'numpy.float64'>'\n",
      "\twith 9 stored elements in Compressed Sparse Row format>], [<1x89 sparse matrix of type '<class 'numpy.float64'>'\n",
      "\twith 9 stored elements in Compressed Sparse Row format>], [<1x89 sparse matrix of type '<class 'numpy.float64'>'\n",
      "\twith 9 stored elements in Compressed Sparse Row format>], [<1x89 sparse matrix of type '<class 'numpy.float64'>'\n",
      "\twith 9 stored elements in Compressed Sparse Row format>], [<1x89 sparse matrix of type '<class 'numpy.float64'>'\n",
      "\twith 9 stored elements in Compressed Sparse Row format>], [<1x89 sparse matrix of type '<class 'numpy.float64'>'\n",
      "\twith 9 stored elements in Compressed Sparse Row format>], [<1x89 sparse matrix of type '<class 'numpy.float64'>'\n",
      "\twith 9 stored elements in Compressed Sparse Row format>], [<1x89 sparse matrix of type '<class 'numpy.float64'>'\n",
      "\twith 9 stored elements in Compressed Sparse Row format>], [<1x89 sparse matrix of type '<class 'numpy.float64'>'\n",
      "\twith 9 stored elements in Compressed Sparse Row format>], [<1x89 sparse matrix of type '<class 'numpy.float64'>'\n",
      "\twith 9 stored elements in Compressed Sparse Row format>], [<1x89 sparse matrix of type '<class 'numpy.float64'>'\n",
      "\twith 9 stored elements in Compressed Sparse Row format>], [<1x89 sparse matrix of type '<class 'numpy.float64'>'\n",
      "\twith 9 stored elements in Compressed Sparse Row format>], [<1x89 sparse matrix of type '<class 'numpy.float64'>'\n",
      "\twith 9 stored elements in Compressed Sparse Row format>], [<1x89 sparse matrix of type '<class 'numpy.float64'>'\n",
      "\twith 9 stored elements in Compressed Sparse Row format>], [<1x89 sparse matrix of type '<class 'numpy.float64'>'\n",
      "\twith 9 stored elements in Compressed Sparse Row format>], [<1x89 sparse matrix of type '<class 'numpy.float64'>'\n",
      "\twith 9 stored elements in Compressed Sparse Row format>], [<1x89 sparse matrix of type '<class 'numpy.float64'>'\n",
      "\twith 9 stored elements in Compressed Sparse Row format>], [<1x89 sparse matrix of type '<class 'numpy.float64'>'\n",
      "\twith 9 stored elements in Compressed Sparse Row format>], [<1x89 sparse matrix of type '<class 'numpy.float64'>'\n",
      "\twith 9 stored elements in Compressed Sparse Row format>], [<1x89 sparse matrix of type '<class 'numpy.float64'>'\n",
      "\twith 9 stored elements in Compressed Sparse Row format>], [<1x89 sparse matrix of type '<class 'numpy.float64'>'\n",
      "\twith 9 stored elements in Compressed Sparse Row format>], [<1x89 sparse matrix of type '<class 'numpy.float64'>'\n",
      "\twith 9 stored elements in Compressed Sparse Row format>], [<1x89 sparse matrix of type '<class 'numpy.float64'>'\n",
      "\twith 9 stored elements in Compressed Sparse Row format>], [<1x89 sparse matrix of type '<class 'numpy.float64'>'\n",
      "\twith 9 stored elements in Compressed Sparse Row format>], [<1x89 sparse matrix of type '<class 'numpy.float64'>'\n",
      "\twith 9 stored elements in Compressed Sparse Row format>], [<1x89 sparse matrix of type '<class 'numpy.float64'>'\n",
      "\twith 9 stored elements in Compressed Sparse Row format>], [<1x89 sparse matrix of type '<class 'numpy.float64'>'\n",
      "\twith 9 stored elements in Compressed Sparse Row format>], [<1x89 sparse matrix of type '<class 'numpy.float64'>'\n",
      "\twith 9 stored elements in Compressed Sparse Row format>], [<1x89 sparse matrix of type '<class 'numpy.float64'>'\n",
      "\twith 9 stored elements in Compressed Sparse Row format>], [<1x89 sparse matrix of type '<class 'numpy.float64'>'\n",
      "\twith 9 stored elements in Compressed Sparse Row format>], [<1x89 sparse matrix of type '<class 'numpy.float64'>'\n",
      "\twith 9 stored elements in Compressed Sparse Row format>], [<1x89 sparse matrix of type '<class 'numpy.float64'>'\n",
      "\twith 9 stored elements in Compressed Sparse Row format>], [<1x89 sparse matrix of type '<class 'numpy.float64'>'\n",
      "\twith 9 stored elements in Compressed Sparse Row format>], [<1x89 sparse matrix of type '<class 'numpy.float64'>'\n",
      "\twith 9 stored elements in Compressed Sparse Row format>], [<1x89 sparse matrix of type '<class 'numpy.float64'>'\n",
      "\twith 9 stored elements in Compressed Sparse Row format>], [<1x89 sparse matrix of type '<class 'numpy.float64'>'\n",
      "\twith 9 stored elements in Compressed Sparse Row format>], [<1x89 sparse matrix of type '<class 'numpy.float64'>'\n",
      "\twith 9 stored elements in Compressed Sparse Row format>], [<1x89 sparse matrix of type '<class 'numpy.float64'>'\n",
      "\twith 9 stored elements in Compressed Sparse Row format>], [<1x89 sparse matrix of type '<class 'numpy.float64'>'\n",
      "\twith 9 stored elements in Compressed Sparse Row format>], [<1x89 sparse matrix of type '<class 'numpy.float64'>'\n",
      "\twith 9 stored elements in Compressed Sparse Row format>], [<1x89 sparse matrix of type '<class 'numpy.float64'>'\n",
      "\twith 9 stored elements in Compressed Sparse Row format>], [<1x89 sparse matrix of type '<class 'numpy.float64'>'\n",
      "\twith 9 stored elements in Compressed Sparse Row format>], [<1x89 sparse matrix of type '<class 'numpy.float64'>'\n",
      "\twith 9 stored elements in Compressed Sparse Row format>], [<1x89 sparse matrix of type '<class 'numpy.float64'>'\n",
      "\twith 9 stored elements in Compressed Sparse Row format>], [<1x89 sparse matrix of type '<class 'numpy.float64'>'\n",
      "\twith 9 stored elements in Compressed Sparse Row format>], [<1x89 sparse matrix of type '<class 'numpy.float64'>'\n",
      "\twith 9 stored elements in Compressed Sparse Row format>], [<1x89 sparse matrix of type '<class 'numpy.float64'>'\n",
      "\twith 9 stored elements in Compressed Sparse Row format>], [<1x89 sparse matrix of type '<class 'numpy.float64'>'\n",
      "\twith 9 stored elements in Compressed Sparse Row format>], [<1x89 sparse matrix of type '<class 'numpy.float64'>'\n",
      "\twith 9 stored elements in Compressed Sparse Row format>], [<1x89 sparse matrix of type '<class 'numpy.float64'>'\n",
      "\twith 9 stored elements in Compressed Sparse Row format>], [<1x89 sparse matrix of type '<class 'numpy.float64'>'\n",
      "\twith 9 stored elements in Compressed Sparse Row format>], [<1x89 sparse matrix of type '<class 'numpy.float64'>'\n",
      "\twith 9 stored elements in Compressed Sparse Row format>], [<1x89 sparse matrix of type '<class 'numpy.float64'>'\n",
      "\twith 9 stored elements in Compressed Sparse Row format>], [<1x89 sparse matrix of type '<class 'numpy.float64'>'\n",
      "\twith 9 stored elements in Compressed Sparse Row format>], [<1x89 sparse matrix of type '<class 'numpy.float64'>'\n",
      "\twith 9 stored elements in Compressed Sparse Row format>], [<1x89 sparse matrix of type '<class 'numpy.float64'>'\n",
      "\twith 9 stored elements in Compressed Sparse Row format>], [<1x89 sparse matrix of type '<class 'numpy.float64'>'\n",
      "\twith 9 stored elements in Compressed Sparse Row format>], [<1x89 sparse matrix of type '<class 'numpy.float64'>'\n",
      "\twith 9 stored elements in Compressed Sparse Row format>], [<1x89 sparse matrix of type '<class 'numpy.float64'>'\n",
      "\twith 9 stored elements in Compressed Sparse Row format>], [<1x89 sparse matrix of type '<class 'numpy.float64'>'\n",
      "\twith 9 stored elements in Compressed Sparse Row format>], [<1x89 sparse matrix of type '<class 'numpy.float64'>'\n",
      "\twith 9 stored elements in Compressed Sparse Row format>], [<1x89 sparse matrix of type '<class 'numpy.float64'>'\n",
      "\twith 9 stored elements in Compressed Sparse Row format>], [<1x89 sparse matrix of type '<class 'numpy.float64'>'\n",
      "\twith 9 stored elements in Compressed Sparse Row format>], [<1x89 sparse matrix of type '<class 'numpy.float64'>'\n",
      "\twith 9 stored elements in Compressed Sparse Row format>], [<1x89 sparse matrix of type '<class 'numpy.float64'>'\n",
      "\twith 9 stored elements in Compressed Sparse Row format>], [<1x89 sparse matrix of type '<class 'numpy.float64'>'\n",
      "\twith 9 stored elements in Compressed Sparse Row format>], [<1x89 sparse matrix of type '<class 'numpy.float64'>'\n",
      "\twith 9 stored elements in Compressed Sparse Row format>], [<1x89 sparse matrix of type '<class 'numpy.float64'>'\n",
      "\twith 9 stored elements in Compressed Sparse Row format>], [<1x89 sparse matrix of type '<class 'numpy.float64'>'\n",
      "\twith 9 stored elements in Compressed Sparse Row format>], [<1x89 sparse matrix of type '<class 'numpy.float64'>'\n",
      "\twith 9 stored elements in Compressed Sparse Row format>], [<1x89 sparse matrix of type '<class 'numpy.float64'>'\n",
      "\twith 9 stored elements in Compressed Sparse Row format>], [<1x89 sparse matrix of type '<class 'numpy.float64'>'\n",
      "\twith 9 stored elements in Compressed Sparse Row format>], [<1x89 sparse matrix of type '<class 'numpy.float64'>'\n",
      "\twith 9 stored elements in Compressed Sparse Row format>], [<1x89 sparse matrix of type '<class 'numpy.float64'>'\n",
      "\twith 9 stored elements in Compressed Sparse Row format>], [<1x89 sparse matrix of type '<class 'numpy.float64'>'\n",
      "\twith 9 stored elements in Compressed Sparse Row format>], [<1x89 sparse matrix of type '<class 'numpy.float64'>'\n",
      "\twith 9 stored elements in Compressed Sparse Row format>], [<1x89 sparse matrix of type '<class 'numpy.float64'>'\n",
      "\twith 9 stored elements in Compressed Sparse Row format>], [<1x89 sparse matrix of type '<class 'numpy.float64'>'\n",
      "\twith 9 stored elements in Compressed Sparse Row format>], [<1x89 sparse matrix of type '<class 'numpy.float64'>'\n",
      "\twith 9 stored elements in Compressed Sparse Row format>], [<1x89 sparse matrix of type '<class 'numpy.float64'>'\n",
      "\twith 9 stored elements in Compressed Sparse Row format>], [<1x89 sparse matrix of type '<class 'numpy.float64'>'\n",
      "\twith 9 stored elements in Compressed Sparse Row format>], [<1x89 sparse matrix of type '<class 'numpy.float64'>'\n",
      "\twith 9 stored elements in Compressed Sparse Row format>], [<1x89 sparse matrix of type '<class 'numpy.float64'>'\n",
      "\twith 9 stored elements in Compressed Sparse Row format>], [<1x89 sparse matrix of type '<class 'numpy.float64'>'\n",
      "\twith 9 stored elements in Compressed Sparse Row format>], [<1x89 sparse matrix of type '<class 'numpy.float64'>'\n",
      "\twith 9 stored elements in Compressed Sparse Row format>], [<1x89 sparse matrix of type '<class 'numpy.float64'>'\n",
      "\twith 9 stored elements in Compressed Sparse Row format>], [<1x89 sparse matrix of type '<class 'numpy.float64'>'\n",
      "\twith 9 stored elements in Compressed Sparse Row format>], [<1x89 sparse matrix of type '<class 'numpy.float64'>'\n",
      "\twith 9 stored elements in Compressed Sparse Row format>], [<1x89 sparse matrix of type '<class 'numpy.float64'>'\n",
      "\twith 9 stored elements in Compressed Sparse Row format>], [<1x89 sparse matrix of type '<class 'numpy.float64'>'\n",
      "\twith 9 stored elements in Compressed Sparse Row format>], [<1x89 sparse matrix of type '<class 'numpy.float64'>'\n",
      "\twith 9 stored elements in Compressed Sparse Row format>], [<1x89 sparse matrix of type '<class 'numpy.float64'>'\n",
      "\twith 9 stored elements in Compressed Sparse Row format>], [<1x89 sparse matrix of type '<class 'numpy.float64'>'\n",
      "\twith 9 stored elements in Compressed Sparse Row format>], [<1x89 sparse matrix of type '<class 'numpy.float64'>'\n",
      "\twith 9 stored elements in Compressed Sparse Row format>], [<1x89 sparse matrix of type '<class 'numpy.float64'>'\n",
      "\twith 9 stored elements in Compressed Sparse Row format>], [<1x89 sparse matrix of type '<class 'numpy.float64'>'\n",
      "\twith 9 stored elements in Compressed Sparse Row format>], [<1x89 sparse matrix of type '<class 'numpy.float64'>'\n",
      "\twith 9 stored elements in Compressed Sparse Row format>], [<1x89 sparse matrix of type '<class 'numpy.float64'>'\n",
      "\twith 9 stored elements in Compressed Sparse Row format>], [<1x89 sparse matrix of type '<class 'numpy.float64'>'\n",
      "\twith 9 stored elements in Compressed Sparse Row format>], [<1x89 sparse matrix of type '<class 'numpy.float64'>'\n",
      "\twith 9 stored elements in Compressed Sparse Row format>]]\n"
     ]
    }
   ],
   "source": [
    "print([[ i for i in x ] for x in y_train_onehot])"
   ],
   "metadata": {
    "collapsed": false,
    "ExecuteTime": {
     "end_time": "2024-03-04T17:52:24.824792400Z",
     "start_time": "2024-03-04T17:52:24.719017100Z"
    }
   },
   "id": "d0e5e0c864bc9e09",
   "execution_count": 28
  },
  {
   "cell_type": "markdown",
   "source": [
    "## Work for one instance now has to implement more so that it can loop for entire dataset"
   ],
   "metadata": {
    "collapsed": false
   },
   "id": "205321c7783c11df"
  },
  {
   "cell_type": "code",
   "outputs": [
    {
     "ename": "AttributeError",
     "evalue": "'NoneType' object has no attribute 'reset_index'",
     "output_type": "error",
     "traceback": [
      "\u001B[1;31m---------------------------------------------------------------------------\u001B[0m",
      "\u001B[1;31mAttributeError\u001B[0m                            Traceback (most recent call last)",
      "Cell \u001B[1;32mIn[20], line 113\u001B[0m\n\u001B[0;32m    111\u001B[0m \u001B[38;5;28;01mfrom\u001B[39;00m \u001B[38;5;21;01msklearn\u001B[39;00m\u001B[38;5;21;01m.\u001B[39;00m\u001B[38;5;21;01mpreprocessing\u001B[39;00m \u001B[38;5;28;01mimport\u001B[39;00m OneHotEncoder\n\u001B[0;32m    112\u001B[0m one \u001B[38;5;241m=\u001B[39m OneHotEncoder()   \u001B[38;5;66;03m# สร้างตัวแปลงเปล่า ๆ ขึ้นมา\u001B[39;00m\n\u001B[1;32m--> 113\u001B[0m y_train\u001B[38;5;241m.\u001B[39mreset_index(drop\u001B[38;5;241m=\u001B[39m\u001B[38;5;28;01mTrue\u001B[39;00m, inplace\u001B[38;5;241m=\u001B[39m\u001B[38;5;28;01mTrue\u001B[39;00m)\n\u001B[0;32m    114\u001B[0m one\u001B[38;5;241m.\u001B[39mfit(y_train)               \u001B[38;5;66;03m# ส่งข้อมูลให้ตัวแปลงเพื่อประเมิน\u001B[39;00m\n\u001B[0;32m    115\u001B[0m y_train_onehot \u001B[38;5;241m=\u001B[39m one\u001B[38;5;241m.\u001B[39mtransform(y_train) \u001B[38;5;66;03m# หรือใช้ X_new = one.fit_transform(X) จบในตัวเดียว\u001B[39;00m\n",
      "\u001B[1;31mAttributeError\u001B[0m: 'NoneType' object has no attribute 'reset_index'"
     ]
    }
   ],
   "source": [
    "from sklearn.metrics import accuracy_score\n",
    "from NNfunctions import *\n",
    "from LinearAlgebra import *\n",
    "import numpy as np\n",
    "from abc import ABC\n",
    "\n",
    "# def binary_crossentropy_loss(a, y):\n",
    "#     # return (-(y * np.log(a) - (1-y) * np.log(1-a))).mean()\n",
    "#     m, n = a.shape\n",
    "#     sum_loss = 0\n",
    "# \n",
    "#     for i in range(m) :\n",
    "#         sum_loss += (-y[i] * np.log(a[i])) - ((1-y[i]) * np.log(1-a[i]))\n",
    "# \n",
    "#     result = (1/m) * sum_loss\n",
    "#     # print(sum_loss)\n",
    "#     return result\n",
    "\n",
    "def calculate_mse(actual, predicted):\n",
    "    return (actual - predicted) ** 2\n",
    "\n",
    "class NeuralNetwork:\n",
    "    def __init__(self, X_data, y_data, epochs, batch_size=32, eta=0.1, lmbd=0.0, n_hidden_neurons=50, n_categories=2):\n",
    "        self.X_data_full = X_data\n",
    "        self.y_data_full = y_data\n",
    "        self.n_hidden_neurons = n_hidden_neurons\n",
    "        self.n_inputs = X_data.shape[0]\n",
    "        self.n_features = X_data.shape[1]\n",
    "        self.n_categories = n_categories # Class\n",
    "        self.epochs = epochs\n",
    "        self.batch_size = batch_size\n",
    "        self.iterations = self.n_inputs // self.batch_size\n",
    "        self.eta = eta\n",
    "        self.lmdb = lmbd\n",
    "\n",
    "    def create_biases_and_weights(self):\n",
    "        self.hidden_weights = np.random.randn(self.n_features, self.n_hidden_neurons)\n",
    "        self.hidden_bias = np.zeros(self.n_hidden_neurons) + 0.01\n",
    "\n",
    "        self.output_weights = np.random.randn(self.n_hidden_neurons, self.n_categories)\n",
    "        self.output_bias = np.zeros(self.n_categories) + 0.01\n",
    "\n",
    "    def feed_forward(self):\n",
    "        # feed-forward for training\n",
    "        self.z_h = np.matmul(self.X_data, self.hidden_weights) + self.hidden_bias\n",
    "        self.a_h = sigmoid(self.z_h)\n",
    "\n",
    "        self.z_o = np.matmul(self.a_h, self.output_weights) + self.output_bias\n",
    "\n",
    "        exp_term = np.exp(self.z_o)\n",
    "        self.probabilities = exp_term / np.sum(exp_term, axis=1, keepdims=True)\n",
    "\n",
    "    def feed_forward_out(self, X):\n",
    "        # feed-forward for output\n",
    "        z_h = np.matmul(X, self.hidden_weights) + self.hidden_bias\n",
    "        a_h = sigmoid(z_h)\n",
    "\n",
    "        z_o = np.matmul(a_h, self.output_weights) + self.output_bias\n",
    "\n",
    "        exp_term = np.exp(z_o)\n",
    "        probabilities = exp_term / np.sum(exp_term, axis=1, keepdims=True)\n",
    "        return probabilities\n",
    "\n",
    "    def backpropagation(self):\n",
    "        error_output = self.probabilities - self.Y_data\n",
    "        error_hidden = np.matmul(error_output, self.output_weights.T) * self.a_h * (1 - self.a_h)\n",
    "\n",
    "        self.output_weights_gradient = np.matmul(self.a_h.T, error_output)\n",
    "        self.output_bias_gradient = np.sum(error_output, axis=0)\n",
    "\n",
    "        self.hidden_weights_gradient = np.matmul(self.X_data.T, error_hidden)\n",
    "        self.hidden_bias_gradient = np.sum(error_hidden, axis=0)\n",
    "\n",
    "        if self.lmbd > 0.0:\n",
    "            self.output_weights_gradient += self.lmbd * self.output_weights\n",
    "            self.hidden_weights_gradient += self.lmbd * self.hidden_weights\n",
    "\n",
    "        self.output_weights -= self.eta * self.output_weights_gradient\n",
    "        self.output_bias -= self.eta * self.output_bias_gradient\n",
    "        self.hidden_weights -= self.eta * self.hidden_weights_gradient\n",
    "        self.hidden_bias -= self.eta * self.hidden_bias_gradient\n",
    "\n",
    "    def predict(self, X):\n",
    "        probabilities = self.feed_forward_out(X)\n",
    "        return np.argmax(probabilities, axis=1)\n",
    "\n",
    "    def predict_probabilities(self, X):\n",
    "        probabilities = self.feed_forward_out(X)\n",
    "        return probabilities\n",
    "\n",
    "    def train(self):\n",
    "        data_indices = np.arange(self.n_inputs)\n",
    "\n",
    "        for i in range(self.epochs):\n",
    "            for j in range(self.iterations):\n",
    "                # pick datapoints with replacement\n",
    "                chosen_datapoints = np.random.choice(\n",
    "                    data_indices, size=self.batch_size, replace=False\n",
    "                )\n",
    "\n",
    "                # minibatch training data\n",
    "                self.X_data = self.X_data_full[chosen_datapoints]\n",
    "                self.Y_data = self.y_data_full[chosen_datapoints]\n",
    "\n",
    "                self.feed_forward()\n",
    "                self.backpropagation()\n",
    "\n",
    "epochs = 100\n",
    "batch_size = 16\n",
    "\n",
    "from sklearn.preprocessing import OneHotEncoder\n",
    "one = OneHotEncoder()   # สร้างตัวแปลงเปล่า ๆ ขึ้นมา\n",
    "y_train.reset_index(drop=True, inplace=True)\n",
    "one.fit(y_train)               # ส่งข้อมูลให้ตัวแปลงเพื่อประเมิน\n",
    "y_train_onehot = one.transform(y_train) # หรือใช้ X_new = one.fit_transform(X) จบในตัวเดียว\n",
    "\n",
    "new_X_train.reset_index(drop=True, inplace=True)\n",
    "dnn = NeuralNetwork(new_X_train, y_train_onehot, epochs=30, batch_size=batch_size)\n",
    "dnn.train()\n",
    "test_predict = dnn.predict(X_test)\n",
    "\n",
    "# accuracy score from scikit library\n",
    "print(\"Accuracy score on test set: \", accuracy_score(y_test, test_predict))\n",
    "\n",
    "# equivalent in numpy\n",
    "def accuracy_score_numpy(Y_test, Y_pred):\n",
    "    return np.sum(Y_test == Y_pred) / len(Y_test)\n",
    "\n",
    "print(\"Accuracy score on test set: \", accuracy_score_numpy(y_test, test_predict))"
   ],
   "metadata": {
    "collapsed": false,
    "ExecuteTime": {
     "end_time": "2024-03-04T17:49:01.994746100Z",
     "start_time": "2024-03-04T17:49:01.907410500Z"
    }
   },
   "id": "80fb2d7a2a7dceac",
   "execution_count": 20
  },
  {
   "cell_type": "code",
   "outputs": [
    {
     "data": {
      "text/plain": "     Clump_thickness  Uniformity_of_cell_size  Uniformity_of_cell_shape  \\\n203         0.217267                -0.692210                 -0.752721   \n608         0.217267                 2.204929                  2.250995   \n314        -1.222019                -0.692210                 -0.752721   \n477        -0.142555                -0.692210                 -0.752721   \n70          0.217267                -0.692210                 -0.085229   \n..               ...                      ...                       ...   \n176        -0.862197                -0.692210                 -0.752721   \n258        -0.502376                -0.692210                 -0.752721   \n32          2.016374                 1.239216                  1.249756   \n553        -0.142555                 0.273503                 -0.418975   \n399        -1.222019                -0.370305                 -0.085229   \n\n     Marginal_adhesion  Single_epithelial_cell_size  Bare_nuclei  \\\n203          -0.629560                    -0.530089    -0.699026   \n608           2.402457                     3.088768     1.785449   \n314          -0.629560                    -0.982446    -0.699026   \n477          -0.629560                    -0.530089    -0.699026   \n70           -0.629560                    -0.530089    -0.699026   \n..                 ...                          ...          ...   \n176          -0.629560                    -0.530089    -0.699026   \n258          -0.629560                    -0.530089    -0.699026   \n32            0.044222                     2.184054     0.405185   \n553          -0.629560                    -0.530089     0.405185   \n399          -0.629560                    -0.530089    -0.699026   \n\n     Bland_chromatin  Normal_nucleoli   Mitoses      bias  \n203        -0.157888        -0.614245 -0.349261 -0.086755  \n608         2.736402        -0.614245 -0.349261 -0.086755  \n314        -0.571358        -0.614245 -0.349261 -0.086755  \n477        -0.984828        -0.614245 -0.349261 -0.086755  \n70         -0.571358        -0.614245 -0.349261 -0.086755  \n..               ...              ...       ...       ...  \n176        -0.157888        -0.614245 -0.349261 -0.086755  \n258        -0.157888        -0.614245 -0.349261 -0.086755  \n32          1.495992         0.353306  0.901511 -0.086755  \n553        -0.571358        -0.614245  0.276125 -0.086755  \n399        -0.984828        -0.614245 -0.349261 -0.086755  \n\n[419 rows x 10 columns]",
      "text/html": "<div>\n<style scoped>\n    .dataframe tbody tr th:only-of-type {\n        vertical-align: middle;\n    }\n\n    .dataframe tbody tr th {\n        vertical-align: top;\n    }\n\n    .dataframe thead th {\n        text-align: right;\n    }\n</style>\n<table border=\"1\" class=\"dataframe\">\n  <thead>\n    <tr style=\"text-align: right;\">\n      <th></th>\n      <th>Clump_thickness</th>\n      <th>Uniformity_of_cell_size</th>\n      <th>Uniformity_of_cell_shape</th>\n      <th>Marginal_adhesion</th>\n      <th>Single_epithelial_cell_size</th>\n      <th>Bare_nuclei</th>\n      <th>Bland_chromatin</th>\n      <th>Normal_nucleoli</th>\n      <th>Mitoses</th>\n      <th>bias</th>\n    </tr>\n  </thead>\n  <tbody>\n    <tr>\n      <th>203</th>\n      <td>0.217267</td>\n      <td>-0.692210</td>\n      <td>-0.752721</td>\n      <td>-0.629560</td>\n      <td>-0.530089</td>\n      <td>-0.699026</td>\n      <td>-0.157888</td>\n      <td>-0.614245</td>\n      <td>-0.349261</td>\n      <td>-0.086755</td>\n    </tr>\n    <tr>\n      <th>608</th>\n      <td>0.217267</td>\n      <td>2.204929</td>\n      <td>2.250995</td>\n      <td>2.402457</td>\n      <td>3.088768</td>\n      <td>1.785449</td>\n      <td>2.736402</td>\n      <td>-0.614245</td>\n      <td>-0.349261</td>\n      <td>-0.086755</td>\n    </tr>\n    <tr>\n      <th>314</th>\n      <td>-1.222019</td>\n      <td>-0.692210</td>\n      <td>-0.752721</td>\n      <td>-0.629560</td>\n      <td>-0.982446</td>\n      <td>-0.699026</td>\n      <td>-0.571358</td>\n      <td>-0.614245</td>\n      <td>-0.349261</td>\n      <td>-0.086755</td>\n    </tr>\n    <tr>\n      <th>477</th>\n      <td>-0.142555</td>\n      <td>-0.692210</td>\n      <td>-0.752721</td>\n      <td>-0.629560</td>\n      <td>-0.530089</td>\n      <td>-0.699026</td>\n      <td>-0.984828</td>\n      <td>-0.614245</td>\n      <td>-0.349261</td>\n      <td>-0.086755</td>\n    </tr>\n    <tr>\n      <th>70</th>\n      <td>0.217267</td>\n      <td>-0.692210</td>\n      <td>-0.085229</td>\n      <td>-0.629560</td>\n      <td>-0.530089</td>\n      <td>-0.699026</td>\n      <td>-0.571358</td>\n      <td>-0.614245</td>\n      <td>-0.349261</td>\n      <td>-0.086755</td>\n    </tr>\n    <tr>\n      <th>...</th>\n      <td>...</td>\n      <td>...</td>\n      <td>...</td>\n      <td>...</td>\n      <td>...</td>\n      <td>...</td>\n      <td>...</td>\n      <td>...</td>\n      <td>...</td>\n      <td>...</td>\n    </tr>\n    <tr>\n      <th>176</th>\n      <td>-0.862197</td>\n      <td>-0.692210</td>\n      <td>-0.752721</td>\n      <td>-0.629560</td>\n      <td>-0.530089</td>\n      <td>-0.699026</td>\n      <td>-0.157888</td>\n      <td>-0.614245</td>\n      <td>-0.349261</td>\n      <td>-0.086755</td>\n    </tr>\n    <tr>\n      <th>258</th>\n      <td>-0.502376</td>\n      <td>-0.692210</td>\n      <td>-0.752721</td>\n      <td>-0.629560</td>\n      <td>-0.530089</td>\n      <td>-0.699026</td>\n      <td>-0.157888</td>\n      <td>-0.614245</td>\n      <td>-0.349261</td>\n      <td>-0.086755</td>\n    </tr>\n    <tr>\n      <th>32</th>\n      <td>2.016374</td>\n      <td>1.239216</td>\n      <td>1.249756</td>\n      <td>0.044222</td>\n      <td>2.184054</td>\n      <td>0.405185</td>\n      <td>1.495992</td>\n      <td>0.353306</td>\n      <td>0.901511</td>\n      <td>-0.086755</td>\n    </tr>\n    <tr>\n      <th>553</th>\n      <td>-0.142555</td>\n      <td>0.273503</td>\n      <td>-0.418975</td>\n      <td>-0.629560</td>\n      <td>-0.530089</td>\n      <td>0.405185</td>\n      <td>-0.571358</td>\n      <td>-0.614245</td>\n      <td>0.276125</td>\n      <td>-0.086755</td>\n    </tr>\n    <tr>\n      <th>399</th>\n      <td>-1.222019</td>\n      <td>-0.370305</td>\n      <td>-0.085229</td>\n      <td>-0.629560</td>\n      <td>-0.530089</td>\n      <td>-0.699026</td>\n      <td>-0.984828</td>\n      <td>-0.614245</td>\n      <td>-0.349261</td>\n      <td>-0.086755</td>\n    </tr>\n  </tbody>\n</table>\n<p>419 rows × 10 columns</p>\n</div>"
     },
     "execution_count": 93,
     "metadata": {},
     "output_type": "execute_result"
    }
   ],
   "source": [
    "new_X_train"
   ],
   "metadata": {
    "collapsed": false,
    "ExecuteTime": {
     "end_time": "2024-03-04T16:30:32.581400100Z",
     "start_time": "2024-03-04T16:30:32.506857300Z"
    }
   },
   "id": "6d32a1ab466c2",
   "execution_count": 93
  },
  {
   "cell_type": "code",
   "outputs": [
    {
     "name": "stdout",
     "output_type": "stream",
     "text": [
      "['Clump_thickness', 'Uniformity_of_cell_size', 'Uniformity_of_cell_shape', 'Marginal_adhesion', 'Single_epithelial_cell_size', 'Bare_nuclei', 'Bland_chromatin', 'Normal_nucleoli', 'Mitoses', 'bias']\n"
     ]
    }
   ],
   "source": [
    "# for i in range(len(new_X_train)):\n",
    "#     print(new_X_train.iloc[i])\n",
    "    \n",
    "print([x for x in new_X_train])"
   ],
   "metadata": {
    "collapsed": false,
    "ExecuteTime": {
     "end_time": "2024-03-01T14:23:14.690968600Z",
     "start_time": "2024-03-01T14:23:14.640171400Z"
    }
   },
   "id": "7b8d9e6171ed7b8",
   "execution_count": 28
  },
  {
   "cell_type": "code",
   "outputs": [
    {
     "ename": "ValueError",
     "evalue": "too many values to unpack (expected 2)",
     "output_type": "error",
     "traceback": [
      "\u001B[1;31m---------------------------------------------------------------------------\u001B[0m",
      "\u001B[1;31mValueError\u001B[0m                                Traceback (most recent call last)",
      "Cell \u001B[1;32mIn[18], line 10\u001B[0m\n\u001B[0;32m      7\u001B[0m losses \u001B[38;5;241m=\u001B[39m []\n\u001B[0;32m      9\u001B[0m \u001B[38;5;28;01mfor\u001B[39;00m epoch \u001B[38;5;129;01min\u001B[39;00m \u001B[38;5;28mrange\u001B[39m(\u001B[38;5;241m300\u001B[39m):\n\u001B[1;32m---> 10\u001B[0m     \u001B[38;5;28;01mfor\u001B[39;00m xb, yb \u001B[38;5;129;01min\u001B[39;00m new_X_train, y_train: \u001B[38;5;66;03m# ป้อนข้อมูลเข้าโมเดลทีละ batch โดยดึงจาก Dataloader\u001B[39;00m\n\u001B[0;32m     11\u001B[0m         ab \u001B[38;5;241m=\u001B[39m model\u001B[38;5;241m.\u001B[39mforward_propagation(xb)     \u001B[38;5;66;03m# forward propatation\u001B[39;00m\n\u001B[0;32m     12\u001B[0m         loss \u001B[38;5;241m=\u001B[39m binary_crossentropy_loss(ab, yb)\n",
      "\u001B[1;31mValueError\u001B[0m: too many values to unpack (expected 2)"
     ]
    }
   ],
   "source": [
    "import matplotlib.pyplot as plt\n",
    "import torch\n",
    "\n",
    "model = LogisticRegression()\n",
    "\n",
    "lr = 0.02   # learning rate\n",
    "losses = []\n",
    "\n",
    "for epoch in range(300):\n",
    "    for xb, yb in new_X_train, y_train: # ป้อนข้อมูลเข้าโมเดลทีละ batch โดยดึงจาก Dataloader\n",
    "        ab = model.forward_propagation(xb)     # forward propatation\n",
    "        loss = binary_crossentropy_loss(ab, yb)\n",
    "        dw, db = model.backpropagation(xb, yb)  # backpropagation\n",
    "        model.w = model.w - lr*dw          # gradient update\n",
    "        model.b = model.b - lr*db          # gradient update\n",
    "        losses.append( loss )  # เก็บ loss แต่ละรอบเอาไว้วาดดูว่า เทรนแล้ว loss ลดลงไหม\n",
    "\n",
    "plt.figure()\n",
    "plt.plot(losses)\n",
    "plt.xlabel('Iteration')\n",
    "plt.ylabel('Cost');"
   ],
   "metadata": {
    "collapsed": false,
    "ExecuteTime": {
     "end_time": "2024-03-01T14:19:04.326630Z",
     "start_time": "2024-03-01T14:19:04.250738Z"
    }
   },
   "id": "959752c41b867949",
   "execution_count": 18
  },
  {
   "cell_type": "code",
   "outputs": [
    {
     "data": {
      "text/plain": "Clump_thickness                0.217267\nUniformity_of_cell_size       -0.692210\nUniformity_of_cell_shape      -0.752721\nMarginal_adhesion             -0.629560\nSingle_epithelial_cell_size   -0.530089\nBare_nuclei                   -0.699026\nBland_chromatin               -0.157888\nNormal_nucleoli               -0.614245\nMitoses                       -0.349261\nName: 203, dtype: float64"
     },
     "execution_count": 211,
     "metadata": {},
     "output_type": "execute_result"
    }
   ],
   "source": [
    "new_X_train.iloc[0]"
   ],
   "metadata": {
    "collapsed": false,
    "ExecuteTime": {
     "end_time": "2024-03-05T15:16:07.995771500Z",
     "start_time": "2024-03-05T15:16:07.969253700Z"
    }
   },
   "id": "cedcce78e33adeee",
   "execution_count": 211
  },
  {
   "cell_type": "code",
   "outputs": [],
   "source": [
    "def binary_crossentropy_loss(a, y):\n",
    "    # return -(y * np.log(a) - (1 - y) * np.log(1 - a))\n",
    "    m, n = a.shape\n",
    "    sum_loss = 0\n",
    "\n",
    "    for i in range(m) :\n",
    "        sum_loss += (-y[i] * np.log(a[i])) - ((1-y[i]) * np.log(1-a[i]))\n",
    "\n",
    "    result = (1/m) * sum_loss\n",
    "    # print(sum_loss)\n",
    "    return result"
   ],
   "metadata": {
    "collapsed": false,
    "ExecuteTime": {
     "end_time": "2024-03-05T18:10:40.008054500Z",
     "start_time": "2024-03-05T18:10:39.655899300Z"
    }
   },
   "id": "bb32e2ad7ffa90f1",
   "execution_count": 21
  },
  {
   "cell_type": "code",
   "outputs": [
    {
     "name": "stdout",
     "output_type": "stream",
     "text": [
      "\n",
      "<---- Round:1 ---->\n",
      "\n",
      "-----Forward pass-----> \n",
      "\n",
      "Sum(V) of node 10 is:   -0.129, Y from node 10 is:    0.468\n",
      "\n",
      "Sum(V) of node 11 is:   -1.274, Y from node 11 is:    0.219\n",
      "\n",
      "Sum(V) of node 12 is:    0.232, Y from node 12 is:    0.558\n",
      "\n",
      "<---- Predict:4 | Actual class:2 ---->\n"
     ]
    },
    {
     "ename": "ValueError",
     "evalue": "not enough values to unpack (expected 2, got 0)",
     "output_type": "error",
     "traceback": [
      "\u001B[1;31m---------------------------------------------------------------------------\u001B[0m",
      "\u001B[1;31mValueError\u001B[0m                                Traceback (most recent call last)",
      "Cell \u001B[1;32mIn[22], line 58\u001B[0m\n\u001B[0;32m     55\u001B[0m \u001B[38;5;28mprint\u001B[39m(\u001B[38;5;124mf\u001B[39m\u001B[38;5;124m\"\u001B[39m\u001B[38;5;130;01m\\n\u001B[39;00m\u001B[38;5;124m<---- Predict:\u001B[39m\u001B[38;5;132;01m{\u001B[39;00my_pred\u001B[38;5;132;01m}\u001B[39;00m\u001B[38;5;124m | Actual class:\u001B[39m\u001B[38;5;132;01m{\u001B[39;00my\u001B[38;5;132;01m}\u001B[39;00m\u001B[38;5;124m ---->\u001B[39m\u001B[38;5;124m\"\u001B[39m)\n\u001B[0;32m     56\u001B[0m \u001B[38;5;66;03m# Compute error\u001B[39;00m\n\u001B[0;32m     57\u001B[0m \u001B[38;5;66;03m# e: float = (y - y_pred)**2 # MSE loss compute\u001B[39;00m\n\u001B[1;32m---> 58\u001B[0m e:\u001B[38;5;28mfloat\u001B[39m \u001B[38;5;241m=\u001B[39m binary_crossentropy_loss(y, y_pred)\n\u001B[0;32m     59\u001B[0m totalError \u001B[38;5;241m+\u001B[39m\u001B[38;5;241m=\u001B[39m e\n\u001B[0;32m     60\u001B[0m \u001B[38;5;28mprint\u001B[39m(\u001B[38;5;124mf\u001B[39m\u001B[38;5;124m\"\u001B[39m\u001B[38;5;130;01m\\n\u001B[39;00m\u001B[38;5;124m<---- loss: \u001B[39m\u001B[38;5;132;01m{\u001B[39;00mtotalError\u001B[38;5;132;01m:\u001B[39;00m\u001B[38;5;124m.3f\u001B[39m\u001B[38;5;132;01m}\u001B[39;00m\u001B[38;5;124m\"\u001B[39m)\n",
      "Cell \u001B[1;32mIn[21], line 3\u001B[0m, in \u001B[0;36mbinary_crossentropy_loss\u001B[1;34m(a, y)\u001B[0m\n\u001B[0;32m      1\u001B[0m \u001B[38;5;28;01mdef\u001B[39;00m \u001B[38;5;21mbinary_crossentropy_loss\u001B[39m(a, y):\n\u001B[0;32m      2\u001B[0m     \u001B[38;5;66;03m# return -(y * np.log(a) - (1 - y) * np.log(1 - a))\u001B[39;00m\n\u001B[1;32m----> 3\u001B[0m     m, n \u001B[38;5;241m=\u001B[39m a\u001B[38;5;241m.\u001B[39mshape\n\u001B[0;32m      4\u001B[0m     sum_loss \u001B[38;5;241m=\u001B[39m \u001B[38;5;241m0\u001B[39m\n\u001B[0;32m      6\u001B[0m     \u001B[38;5;28;01mfor\u001B[39;00m i \u001B[38;5;129;01min\u001B[39;00m \u001B[38;5;28mrange\u001B[39m(m) :\n",
      "\u001B[1;31mValueError\u001B[0m: not enough values to unpack (expected 2, got 0)"
     ]
    }
   ],
   "source": [
    "from NNfunctions import * # ถ้า import * คือเอาทุก function ในไฟล์ NNfunction\n",
    "import random\n",
    "\n",
    "E: list[float] = []\n",
    "iterations: list[int] = []\n",
    "iter:int = 1\n",
    "error_list: list[float] = []\n",
    "# W10: list[float] = []\n",
    "# W11: list[float] = []\n",
    "\n",
    "W10: list[float]=[ random.uniform(-1,1) for _ in range(new_X_train.shape[1]) ] #weight ที่เกี่ยวข้องกับ node 10 [w1_10,w2_10,w3_10,w4_10,w5_10,w6_10,w7_10,w8_10,w9_10,bias10]\n",
    "W11: list[float]=[  random.uniform(-1,1) for _ in range(new_X_train.shape[1]) ] #weight ที่เกี่ยวข้องกับ node 11\n",
    "\n",
    "b12n = 1 # init input bias for node 12\n",
    "W12: list[float]=([ random.uniform(-1,1) for _ in range(3) ])\n",
    "\n",
    "# b13n = 1\n",
    "# W13: list[float]=([ random.uniform(-1,1) for _ in range(3) ])\n",
    "\n",
    "totalError = 0\n",
    "epochs = 10\n",
    "for _ in range(epochs):\n",
    "    for i in range(len(new_X_train)):\n",
    "        X=new_X_train.to_numpy()[i] # input X\n",
    "            \n",
    "        y=y_train.to_numpy()[i] #desire output\n",
    "            \n",
    "        l=-0.9 # learning rate\n",
    "\n",
    "        print(f\"\\n<---- Round:{iter} ---->\")\n",
    "        iterations.append(iter)\n",
    "        iter += 1\n",
    "            \n",
    "        print(\"\\n-----Forward pass-----> \")\n",
    "        o10=Nout(X, W10) #call NNfunction\n",
    "        y10=sigmoid(o10) #call NNfunction\n",
    "        print(\"\\nSum(V) of node 10 is: %8.3f, Y from node 10 is: %8.3f\" % (o10,y10))\n",
    "        #คำนวน y10\n",
    "        \n",
    "        o11=Nout(X, W11)\n",
    "        y11=sigmoid(o11)\n",
    "        #คำนวน y11\n",
    "        #print ผลลัพธ์\n",
    "        print(\"\\nSum(V) of node 11 is: %8.3f, Y from node 11 is: %8.3f\" % (o11,y11))\n",
    "        \n",
    "        X12 = ([y10, y11, 1])\n",
    "        o12 = Nout(X12, W12)\n",
    "        y12 = sigmoid(o12)\n",
    "        print(\"\\nSum(V) of node 12 is: %8.3f, Y from node 12 is: %8.3f\" % (o12,y12))\n",
    "        #node 12\n",
    "\n",
    "        # mapping output layer of these neurons to class number 2 & 4\n",
    "        y_pred: int = 2 if y12 < 0.5 else 4\n",
    "\n",
    "        print(f\"\\n<---- Predict:{y_pred} | Actual class:{y} ---->\")\n",
    "        # Compute error\n",
    "        # e: float = (y - y_pred)**2 # MSE loss compute\n",
    "        e:float = binary_crossentropy_loss(y, y_pred)\n",
    "        totalError += e\n",
    "        print(f\"\\n<---- loss: {totalError:.3f}\")\n",
    "        error_list.append(e)\n",
    "        \n",
    "        #backpropagation\n",
    "        print(\"\\n<---- Back propagation & calculate new Weights and Biases ----\")\n",
    "            \n",
    "        g12 = gradOut(e, y12) #call NNfunction\n",
    "        \n",
    "        dw10_12 = deltaWeight(l, g12, y10) #call NNfunction\n",
    "        w10_12n = W12[0]+dw10_12\n",
    "        dw11_12 = deltaWeight(l, g12, y11)\n",
    "        w11_12n = W12[1]+dw11_12\n",
    "        db12 = deltaWeight(l, g12, W12[2])\n",
    "        b12n = W12[2]+db12\n",
    "        \n",
    "        # Update weight & bias for node 12\n",
    "        W12 = [w10_12n, w11_12n, b12n]\n",
    "        print(\"\\nNew w10_12 is %8.3f, New w11_12 is:%8.3f, New bias 12 is %8.3f\"% (w10_12n, w11_12n, b12n))\n",
    "        \n",
    "            # g13 = gradOut(e, y13) #call NNfunction\n",
    "            # \n",
    "            # dw10_13 = deltaWeight(l, g13, y10) #call NNfunction\n",
    "            # w10_13n = W13[0]+dw10_13\n",
    "            # dw11_13 = deltaWeight(l, g13, y11)\n",
    "            # w11_13n = W13[1]+dw11_12\n",
    "            # db13 = deltaWeight(l, g13, W13[2])\n",
    "            # b13n = W13[2]+db13\n",
    "            # \n",
    "            # # Update weight & bias for node 13\n",
    "            # W13 = [w10_13n, w11_13n, b13n]\n",
    "            # print(\"\\nNew w10_13 is %8.3f, New w11_13 is:%8.3f, New bias 13 is %8.3f\"% (w10_13n, w11_13n, b13n))\n",
    "            \n",
    "        \n",
    "        #node10\n",
    "        #pre gradient10 = g12*w10_12 + g13*w10_13\n",
    "        # sumN10w = g12*(W12[0]) + g13*(W13[0])\n",
    "        sumN10w = g12*(W12[0])\n",
    "        g10 = gradHidden(y12, sumN10w)\n",
    "        \n",
    "        dw1_10 = deltaWeight(l, g10, new_X_train.iloc[i][0])\n",
    "        w1_10n = W10[0]+dw1_10\n",
    "        dw2_10 = deltaWeight(l, g10, new_X_train.iloc[i][1])\n",
    "        w2_10n = W10[1]+dw2_10\n",
    "        dw3_10 = deltaWeight(l, g10, new_X_train.iloc[i][2])\n",
    "        w3_10n = W10[2]+dw3_10\n",
    "        dw4_10 = deltaWeight(l, g10, new_X_train.iloc[i][3])\n",
    "        w4_10n = W10[3]+dw4_10\n",
    "        dw5_10 = deltaWeight(l, g10, new_X_train.iloc[i][4])\n",
    "        w5_10n = W10[4]+dw5_10\n",
    "        dw6_10 = deltaWeight(l, g10, new_X_train.iloc[i][5])\n",
    "        w6_10n = W10[5]+dw6_10\n",
    "        dw7_10 = deltaWeight(l, g10, new_X_train.iloc[i][6])\n",
    "        w7_10n =W10[6]+dw7_10\n",
    "        dw8_10 = deltaWeight(l, g10, new_X_train.iloc[i][7])\n",
    "        w8_10n = W10[7]+dw8_10\n",
    "        db10 = deltaWeight(l, g10, W10[8])\n",
    "        b10n = W10[8]+db10\n",
    "        \n",
    "        # # Update weight & bias\n",
    "        W10 = [w1_10n, w2_10n, w3_10n, w4_10n, w5_10n, w6_10n, w7_10n, w8_10n, b10n]\n",
    "        print(\"\\nNew w1_10 is %8.3f, New w2_10 is:%8.3f, New w3_10 is:%8.3f, New w4_10 is:%8.3f, New w5_10 is:%8.3f, New w6_10 is:%8.3f, New w7_10 is:%8.3f, New w8_10 is:%8.3f, , New bias 10 is %8.3f\"% (w1_10n, w2_10n, w3_10n, w4_10n, w5_10n, w6_10n, w7_10n, w8_10n, b10n))\n",
    "            \n",
    "        # node11\n",
    "        #pre gradient11=g12*w11_12 + g13*w11_13\n",
    "        # sumN11w = g12*(W12[1]) + g13*(W13[1])\n",
    "        sumN11w = g12*(W12[1])\n",
    "        g11 = gradHidden(y11, sumN11w)\n",
    "        \n",
    "        dw1_11 = deltaWeight(l, g11, new_X_train.iloc[i][0])\n",
    "        w1_11n = W11[0]+dw1_11\n",
    "        dw2_11 = deltaWeight(l, g11, new_X_train.iloc[i][1])\n",
    "        w2_11n = W11[1]+dw2_11\n",
    "        dw3_11 = deltaWeight(l, g11, new_X_train.iloc[i][2])\n",
    "        w3_11n = W11[2]+dw3_11\n",
    "        dw4_11 = deltaWeight(l, g11, new_X_train.iloc[i][3])\n",
    "        w4_11n = W11[3]+dw4_11\n",
    "        dw5_11 = deltaWeight(l, g11, new_X_train.iloc[i][4])\n",
    "        w5_11n = W11[4]+dw5_11\n",
    "        dw6_11 = deltaWeight(l, g11, new_X_train.iloc[i][5])\n",
    "        w6_11n = W11[5]+dw6_11\n",
    "        dw7_11 = deltaWeight(l, g11, new_X_train.iloc[i][6])\n",
    "        w7_11n = W11[6]+dw7_11\n",
    "        dw8_11 = deltaWeight(l, g11, new_X_train.iloc[i][7])\n",
    "        w8_11n = W11[7]+dw8_11    \n",
    "        db11 = deltaWeight(l, g11, W11[8])\n",
    "        b11n = W11[8]+db11\n",
    "            \n",
    "        # Update weight & bias\n",
    "        W11 = [w1_11n, w2_11n, w3_11n, w4_11n, w5_11n, w6_11n, w7_11n, w8_11n, b11n]\n",
    "        print(\"\\nNew w1_11 is %8.3f, New w2_11 is:%8.3f, New w3_11 is:%8.3f, New w4_11 is:%8.3f, New w5_11 is:%8.3f, New w6_11 is:%8.3f, New w7_11 is:%8.3f, New w8_11 is:%8.3f, New bias 11 is %8.3f\"% (w1_11n, w2_11n, w3_11n, w4_11n, w5_11n, w6_11n, w7_11n, w8_11n, b11n))\n",
    "            \n",
    "        print(f\"{e}\")"
   ],
   "metadata": {
    "collapsed": false,
    "ExecuteTime": {
     "end_time": "2024-03-05T18:10:41.329234500Z",
     "start_time": "2024-03-05T18:10:41.126442800Z"
    }
   },
   "id": "ff1893e6210900d",
   "execution_count": 22
  },
  {
   "cell_type": "markdown",
   "source": [
    "# Plotting loss"
   ],
   "metadata": {
    "collapsed": false
   },
   "id": "fa8a0d829d1b8543"
  },
  {
   "cell_type": "code",
   "outputs": [
    {
     "data": {
      "text/plain": "<Figure size 640x480 with 1 Axes>",
      "image/png": "[encoded data removed]"
     },
     "metadata": {},
     "output_type": "display_data"
    }
   ],
   "source": [
    "import matplotlib.pyplot as plt\n",
    "\n",
    "plt.plot(iterations, error_list)\n",
    "plt.xlabel(\"epochs\")\n",
    "plt.ylabel(\"loss\")\n",
    "plt.show()"
   ],
   "metadata": {
    "collapsed": false,
    "ExecuteTime": {
     "end_time": "2024-03-05T18:08:18.685623400Z",
     "start_time": "2024-03-05T18:08:18.461178100Z"
    }
   },
   "id": "6f21b824dce64da",
   "execution_count": 18
  },
  {
   "cell_type": "code",
   "outputs": [],
   "source": [
    "from NNfunctions import *\n",
    "from typing import List\n",
    "\n",
    "def forward_propagation(x: List[float], n: int, weights: List[float]) -> float:\n",
    "    o = Nout(x, weights)\n",
    "    y = sigmoid(o)\n",
    "    print(f\"\\nSum(V) of node {n} is: %8.3f, Y from node {n} is: %8.3f\" % (o, y))\n",
    "    return y\n",
    "\n",
    "\n",
    "def backpropagation(learning_rate: float, gradient: float, x: List[float], weights: List[float]) -> float:\n",
    "    b = []\n",
    "    for i in range(len(X)):\n",
    "        b.append(weights[i] + (deltaWeight(learning_rate, gradient, x[i])))\n",
    "    return b\n"
   ],
   "metadata": {
    "collapsed": false,
    "ExecuteTime": {
     "end_time": "2024-02-29T18:36:00.607611400Z",
     "start_time": "2024-02-29T18:36:00.549215900Z"
    }
   },
   "id": "99f954e1f2150c1d",
   "execution_count": 10
  },
  {
   "cell_type": "code",
   "outputs": [],
   "source": [
    "def approximate(x, w10, w11, w12, w13, w14, desire_output, learning_rate):\n",
    "    print(\"\\n-----Forward pass----->\")\n",
    "    # forward pass\n",
    "    y10 = forward_propagation(x, w10, 10)\n",
    "\n",
    "    y11 = forward_propagation(x, w11, 11)\n",
    "\n",
    "    y12 = forward_propagation(x, w12, 12)\n",
    "\n",
    "    z = [y10, y11, y12, 1]\n",
    "    y13 = forward_propagation(z, w13, 13)\n",
    "\n",
    "    y14 = forward_propagation(z, w14, 14)\n",
    "\n",
    "    e13 = desire_output - y13\n",
    "    e14 = desire_output - y14\n",
    "    print(\"\\nError of node 13 is: %8.3f, Error of node 14 is: %8.3f\" % (e13, e14))\n",
    "    e = (e13 + e14) / 2\n",
    "\n",
    "    if e != 0:\n",
    "        print(\"\\n-----Backward pass----->\")\n",
    "        g14 = gradOut(e, y14)\n",
    "        w14 = backpropagation(g14, learning_rate, z, w14)\n",
    "        print(\"\\nNew weights of node 14 are: %8.3f, %8.3f, %8.3f, %8.3f\" % (w14[0], w14[1], w14[2], w14[3]))\n",
    "\n",
    "        g13 = gradOut(e, y13)\n",
    "        w13 = backpropagation(g13, learning_rate, z, w13)\n",
    "        print(\"\\nNew weights of node 13 are: %8.3f, %8.3f, %8.3f, %8.3f\" % (w13[0], w13[1], w13[2], w13[3]))\n",
    "\n",
    "        g12 = gradHidden(y12, (g14 * w14[2]) + (g13 * w13[2]))\n",
    "        w12 = backpropagation(g12, learning_rate, x, w12)\n",
    "        print(\"\\nNew weights of node 12 are: %8.3f, %8.3f, %8.3f, %8.3f, %8.3f, %8.3f, %8.3f, %8.3f, %8.3f, %8.3f\" % (\n",
    "            w12[0], w12[1], w12[2], w12[3], w12[4], w12[5], w12[6], w12[7], w12[8], w12[9]))\n",
    "\n",
    "        g11 = gradHidden(y11, (g14 * w14[1]) + (g13 * w13[1]))\n",
    "        w11 = backpropagation(g11, learning_rate, x, w11)\n",
    "        print(\"\\nNew weights of node 11 are: %8.3f, %8.3f, %8.3f, %8.3f, %8.3f, %8.3f, %8.3f, %8.3f, %8.3f, %8.3f\" % (\n",
    "            w11[0], w11[1], w11[2], w11[3], w11[4], w11[5], w11[6], w11[7], w11[8], w11[9]))\n",
    "\n",
    "        g10 = gradHidden(y10, (g14 * w14[0]) + (g13 * w13[0]))\n",
    "        w10 = backpropagation(g10, learning_rate, x, w10)\n",
    "        print(\"\\nNew weights of node 10 are: %8.3f, %8.3f, %8.3f, %8.3f, %8.3f, %8.3f, %8.3f, %8.3f, %8.3f, %8.3f\" % (\n",
    "            w10[0], w10[1], w10[2], w10[3], w10[4], w10[5], w10[6], w10[7], w10[8], w10[9]))\n",
    "\n",
    "    return e, w10, w11, w12, w13, w14"
   ],
   "metadata": {
    "collapsed": false,
    "ExecuteTime": {
     "end_time": "2024-02-29T18:36:04.114250300Z",
     "start_time": "2024-02-29T18:36:04.078804700Z"
    }
   },
   "id": "5378ccc4f68609f4",
   "execution_count": 11
  },
  {
   "cell_type": "markdown",
   "source": [
    "# reset Variables"
   ],
   "metadata": {
    "collapsed": false
   },
   "id": "49d362090a2a1b6c"
  },
  {
   "cell_type": "code",
   "outputs": [],
   "source": [
    "%reset -f\n",
    "\n",
    "from ucimlrepo import fetch_ucirepo\n",
    "from sklearn.model_selection import train_test_split\n",
    "\n",
    "# fetch dataset \n",
    "breast_cancer_wisconsin_original = fetch_ucirepo(id=15)\n",
    "\n",
    "# data (as pandas dataframes) \n",
    "X = breast_cancer_wisconsin_original.data.features\n",
    "y = breast_cancer_wisconsin_original.data.targets\n",
    "\n",
    "flags = (X['Bare_nuclei'].isna())\n",
    "X.loc[flags, 'Bare_nuclei'] = 1\n",
    "\n",
    "# นิยามฟังก์ชันที่เองชื่อ normalize\n",
    "def normalize(col):\n",
    "    # ตัวแปรชื่อ col ที่รับมาจาก apply จะเป็นเพียงคอลัมน์ ๆ หนึ่งของ X_train\n",
    "    return (col - col.mean())/col.std(ddof=0) # Standardization\n",
    "\n",
    "labels = y['Class']\n",
    "\n",
    "X_train, X_test, y_train, y_test = train_test_split(X, y,\n",
    "                                                    train_size=0.6,\n",
    "                                                    random_state=123,\n",
    "                                                    stratify=labels)\n",
    "X_train.count(), X_test.count()\n",
    "\n",
    "new_X_train = X_train.apply(normalize)\n",
    "new_X_test = X_test.apply(normalize)"
   ],
   "metadata": {
    "collapsed": false,
    "ExecuteTime": {
     "end_time": "2024-03-05T09:56:48.544073800Z",
     "start_time": "2024-03-05T09:56:46.227701600Z"
    }
   },
   "id": "ae856f96f60547f1",
   "execution_count": 2
  },
  {
   "cell_type": "markdown",
   "source": [
    "# Training the Model"
   ],
   "metadata": {
    "collapsed": false
   },
   "id": "74108747f39a7e23"
  },
  {
   "cell_type": "code",
   "outputs": [
    {
     "data": {
      "text/plain": "419"
     },
     "execution_count": 6,
     "metadata": {},
     "output_type": "execute_result"
    }
   ],
   "source": [
    "new_X_train.shape[0]"
   ],
   "metadata": {
    "collapsed": false,
    "ExecuteTime": {
     "end_time": "2024-03-05T09:57:58.153411200Z",
     "start_time": "2024-03-05T09:57:58.040125Z"
    }
   },
   "id": "b5f4aca635955923",
   "execution_count": 6
  },
  {
   "cell_type": "code",
   "outputs": [
    {
     "data": {
      "text/plain": "array([ 0.2172669 ,  2.2049294 ,  2.25099477,  2.40245715,  3.08876843,\n        1.78544908,  2.73640183, -0.61424463, -0.34926073])"
     },
     "execution_count": 5,
     "metadata": {},
     "output_type": "execute_result"
    }
   ],
   "source": [
    "new_X_train.to_numpy()[1]"
   ],
   "metadata": {
    "collapsed": false,
    "ExecuteTime": {
     "end_time": "2024-03-05T09:57:36.087307100Z",
     "start_time": "2024-03-05T09:57:36.012430Z"
    }
   },
   "id": "22ec88d6b106f86f",
   "execution_count": 5
  },
  {
   "cell_type": "code",
   "outputs": [
    {
     "data": {
      "text/plain": "array([4], dtype=int64)"
     },
     "execution_count": 25,
     "metadata": {},
     "output_type": "execute_result"
    }
   ],
   "source": [
    "y_train.Class.to_numpy()[1]"
   ],
   "metadata": {
    "collapsed": false,
    "ExecuteTime": {
     "end_time": "2024-03-05T10:24:16.490412700Z",
     "start_time": "2024-03-05T10:24:16.341111300Z"
    }
   },
   "id": "fa145536f2d76efe",
   "execution_count": 25
  },
  {
   "cell_type": "code",
   "outputs": [
    {
     "data": {
      "text/plain": "array([ 0.69014287,  1.47333325,  0.45681172, -0.24341973,  0.47001923,\n        1.38122076,  1.2903517 ,  0.81384445, -0.39864201])"
     },
     "execution_count": 51,
     "metadata": {},
     "output_type": "execute_result"
    }
   ],
   "source": [
    "w1 = 2*np.random.rand(X_train.shape[1]) - 0.5\n",
    "w1"
   ],
   "metadata": {
    "collapsed": false,
    "ExecuteTime": {
     "end_time": "2024-03-04T14:17:32.641202200Z",
     "start_time": "2024-03-04T14:17:32.595304200Z"
    }
   },
   "id": "af3e87503b12fd4b",
   "execution_count": 51
  },
  {
   "cell_type": "code",
   "outputs": [
    {
     "name": "stdout",
     "output_type": "stream",
     "text": [
      "\n",
      "W1: [[ 0.22429076  0.37121549  1.03649954  0.76670221  1.23655141  1.09990957\n",
      "   0.426893    0.36780042  1.3479768 ]\n",
      " [ 0.95879595  0.87039874 -0.12524202  0.08971939  0.93241606 -0.0959043\n",
      "   1.48972424  0.6631825   0.77772205]\n",
      " [ 1.24384141 -0.41854689  0.341775   -0.49448278  0.39631833  0.53278757\n",
      "   0.55776137  0.47242158 -0.22024082]\n",
      " [ 0.81292711  0.24420765  1.2948854   1.43719897  0.01743576  0.4129389\n",
      "  -0.46664297  0.75571011  1.2898618 ]\n",
      " [ 0.67339385  0.71053072  0.37403946  0.7027977   0.11902197  1.26194043\n",
      "   0.36808397  0.63769376 -0.47536569]\n",
      " [ 1.16125262  0.41715772 -0.28671649 -0.33996113  1.04562531  0.47966603\n",
      "  -0.28027805 -0.43423778  0.85196456]\n",
      " [ 0.2219202   1.13585745  0.98461006 -0.25346185  1.43007333  0.57086022\n",
      "   0.59963268  1.36092456 -0.41260212]\n",
      " [-0.01075845  0.00792951 -0.46768032  0.81941692  0.56375759  0.18933239\n",
      "  -0.25667533 -0.28819334 -0.23874347]\n",
      " [-0.47227421  0.26411518  0.72783705  1.06762767 -0.47039     1.0201659\n",
      "   1.40295157  0.66670374  0.65259155]]\n",
      "W2: [[ 0.5430232   0.26340491  0.16348385  1.10101859 -0.25381054  1.45316135\n",
      "   0.11803813 -0.24306827  0.53590542]\n",
      " [ 1.38410058  0.06332748  0.6717934   0.88141661  0.06004346  0.92514664\n",
      "   0.96270398 -0.03290675  0.85534931]\n",
      " [ 0.20853604  0.39094523 -0.00211614  1.35129456  0.47646914  0.92268626\n",
      "   0.4861411   0.544976    1.3056844 ]\n",
      " [ 1.19105558  1.22017543  0.29328359  1.49774215  1.03672605  0.65965164\n",
      "  -0.0301522   0.64859053  0.99374262]\n",
      " [ 0.74501684  1.19293162  1.1412086  -0.38687997  1.12488444  1.35661927\n",
      "  -0.32831131  0.08181079  0.44019156]\n",
      " [-0.48197327  0.30275214  0.4593608   1.10419493  0.30088779  0.66369338\n",
      "   0.89312007  1.08660204  0.09750665]\n",
      " [ 1.34329166  0.60521893  1.49356708  0.82233613  1.29209401 -0.11055962\n",
      "   1.23862841 -0.32551996  1.35121905]\n",
      " [ 0.05609146 -0.31268589  0.3999904  -0.25614525  1.22628932  0.89591462\n",
      "   0.35776085  0.32718055  1.40830298]\n",
      " [ 1.3272406  -0.43221817  0.44049039 -0.10921288  0.62134884  0.98482216\n",
      "   1.01212142 -0.09210633  1.49068235]]\n",
      "W3: [-0.35454316]\n"
     ]
    },
    {
     "name": "stderr",
     "output_type": "stream",
     "text": [
      "C:\\Anda\\data\\DataMining\\NeuralN\\NNfunctions.py:18: RuntimeWarning: overflow encountered in exp\n",
      "  f = 1 / (1 + np.exp(-x))\n"
     ]
    },
    {
     "name": "stdout",
     "output_type": "stream",
     "text": [
      "\n",
      "W1_n: [[22.26208558  3.50360819  4.54606644 -1.81391391 -3.46615509 10.52473895\n",
      "   9.75186856 16.11054997 11.8312843 ]\n",
      " [19.81656479  6.01594364  1.04719147  6.39685094 -4.80502018 12.76734534\n",
      "   9.58334635 13.02046582 11.57076446]\n",
      " [19.39140914  5.62478935  1.64131156  6.34779806 -4.90176427 12.9711876\n",
      "   9.50608418 13.37323149 11.64067414]\n",
      " [28.749679    7.70196215  7.30981569  7.48973599 -2.68141321 15.55616629\n",
      "   8.20159524 19.0682722  13.94722738]\n",
      " [21.0918555   3.76442774  3.89787149 -1.93654968 -4.22282014 10.79729171\n",
      "   9.29439853 15.5910552  11.04144221]\n",
      " [32.7451492   4.36042375  6.16028227 10.95039491 -1.92291326 20.45443445\n",
      "  16.17660698 15.73813205 15.80986545]\n",
      " [30.37942904  8.9649487   4.89651675 12.24247241 -2.22966664 21.9910279\n",
      "  13.83774701 19.04306412 17.29900272]\n",
      " [19.60206666  5.87364853  1.77205465  6.19757197 -4.45193348 12.67469409\n",
      "   9.26455934 13.49781549 11.38521265]\n",
      " [18.56074357  8.50650874 14.01744242 10.03016018 30.36750397 37.1254187\n",
      "  16.80066781 13.64126314  0.44204917]]\n",
      "W2_n: [[ 19.39745319   5.59683486   0.94250317   6.42924944  -4.95773314\n",
      "   12.86700574   9.26409023  12.89859058  11.49291678]\n",
      " [ 19.08160615   6.0381899    3.22764165   5.6016494   -3.01680323\n",
      "   12.05717013   9.88433258  15.57048029  11.28632378]\n",
      " [ 26.60143904   9.9625142    8.39694599  22.6055013    4.39706939\n",
      "   24.88167483  16.68376186  15.56176107   0.07920772]\n",
      " [ 34.82895703   8.1063789    5.30148685   9.91834555  -2.96844962\n",
      "   27.6129193   12.86108373  16.09544622  14.81172885]\n",
      " [ 15.8200304    2.66144729   2.47538171  -1.19185514  -4.79025461\n",
      "    9.94685436   9.30117006  12.00381137   7.15334527]\n",
      " [ 21.18594306   6.01884837   2.42928403   6.57137459  -4.80763365\n",
      "   13.39863728   8.97289584  13.85271451  11.78316802]\n",
      " [ 33.68192108   3.53171773   3.78379938  -3.11115459 -11.71560158\n",
      "   25.89883832  20.01424389  19.15065241  22.14007767]\n",
      " [ 19.59676166   5.70705074   1.6313974    6.28663037  -4.53290833\n",
      "   12.81799034   9.24624991  13.63220388  11.48396506]\n",
      " [ 19.27622216   5.40736843   1.62993706   6.34505013  -4.52804364\n",
      "   12.62743972   9.50804997  13.43808064  11.52692064]]\n",
      "W3_n: [-5111.55403402]\n"
     ]
    },
    {
     "data": {
      "text/plain": "Text(0, 0.5, 'Cost')"
     },
     "execution_count": 203,
     "metadata": {},
     "output_type": "execute_result"
    },
    {
     "data": {
      "text/plain": "<Figure size 1000x600 with 1 Axes>",
      "image/png": "[encoded data removed]"
     },
     "metadata": {},
     "output_type": "display_data"
    }
   ],
   "source": [
    "import NNfunctions\n",
    "import importlib\n",
    "importlib.reload(NNfunctions)\n",
    "\n",
    "from NNfunctions import *\n",
    "import matplotlib.pyplot as plt\n",
    "\n",
    "# Set up the number of perceptron per each layer:\n",
    "p=9 # Layer 1\n",
    "# q=4 # Layer 2\n",
    "q=1 # Output Layer\n",
    "\n",
    "# Set up the Learning rate & epochs\n",
    "eta =  0.01\n",
    "epochs = 100\n",
    "\n",
    "# 0: Random initialize the relevant data \n",
    "w1 = 2*np.random.rand(p, new_X_train.shape[1]) - 0.5 # Layer 1\n",
    "# b1 = np.random.rand(p)\n",
    "\n",
    "w2 = 2*np.random.rand(p , new_X_train.shape[1]) - 0.5  # Layer 1\n",
    "# b2 = np.random.rand(q)\n",
    "\n",
    "wOut = 2*np.random.rand(q) - 0.5  # Output Layer\n",
    "# bOut = np.random.rand(1)\n",
    "\n",
    "print(f\"\\nW1: {w1}\\nW2: {w2}\\nW3: {wOut}\")\n",
    "\n",
    "mu = []\n",
    "vec_y = []\n",
    "losses = []\n",
    "\n",
    "# Start looping over the passengers, i.e. over I.\n",
    "for _ in range(epochs):\n",
    "    for I in range(0, X_train.shape[0]): #loop in all the passengers:\n",
    "        # 1: input the data \n",
    "        x = new_X_train.to_numpy()[I]\n",
    "        \n",
    "        # 2: Start the algorithm\n",
    "        \n",
    "        # 2.1: Feed forward\n",
    "        # z1 = ReLU_act(np.dot(w1, x)) # output layer 1 \n",
    "        # z2 = ReLU_act(np.dot(w2, x)) # output layer 2\n",
    "        z1 = sigmoid_act(np.dot(w1, x), der=False) # output layer 1\n",
    "        z2 = sigmoid_act(np.dot(w2, x), der=False) # output layer 1\n",
    "        x_out = np.dot(z1, z2)\n",
    "        y = sigmoid_act(np.dot(wOut, x_out), der=False) # Output of the Output layer\n",
    "        \n",
    "        y = 2 if y < 0.5 else 4\n",
    "        \n",
    "        #2.2: Compute the output layer's error\n",
    "        delta_Out =  (y-y_train.Class.to_numpy()[I]) * sigmoid_act(y, der=True)\n",
    "        \n",
    "        #2.3: Backpropagate\n",
    "        delta_2 = (delta_Out * wOut) * sigmoid_act(z2, der=True) # First Layer Error\n",
    "        delta_1 = (delta_Out * wOut) * sigmoid_act(z1, der=True) # First Layer Error\n",
    "            \n",
    "        # 3: Gradient descent \n",
    "        wOut -= eta*delta_Out*x_out # Outer Layer\n",
    "        \n",
    "        w2 -= eta*np.kron(delta_2, x).reshape(p, x.shape[0]) # Hidden Layer 2\n",
    "        \n",
    "        w1 -= eta*np.kron(delta_1, x).reshape(p, x.shape[0]) # Hidden Layer 1\n",
    "        \n",
    "        # 4. Computation of the loss function\n",
    "        losses.append( (y-y_train.Class.to_numpy()[I])**2 )\n",
    "        # mu.append((y-y_train.Class.to_numpy()[I])**2 )\n",
    "        vec_y.append(y)\n",
    "\n",
    "print(f\"\\nW1_n: {w1}\\nW2_n: {w2}\\nW3_n: {wOut}\")\n",
    "# Plotting the Cost function for each training data     \n",
    "plt.figure(figsize=(10,6))\n",
    "plt.plot(losses)\n",
    "plt.xlabel('Iteration')\n",
    "plt.ylabel('Cost')\n",
    "\n",
    "# plt.scatter(np.arange(0, X_train.shape[0]), mu, alpha=0.3, label='mu')\n",
    "# plt.title('Loss for each training data point', fontsize=20)\n",
    "# plt.xlabel('Training data', fontsize=16)\n",
    "# plt.ylabel('Loss', fontsize=16)\n",
    "# plt.show()\n",
    "\n",
    "\n",
    "\n",
    "\n",
    "# Plotting the average cost function over 10 training data    \n",
    "# print(len(vec_y))\n",
    "# pino = []\n",
    "# for i in range(0, 9):\n",
    "#     pippo = 0\n",
    "#     for m in range(0, 42):\n",
    "#         pippo += vec_y[40*i+m]/40\n",
    "#     pino.append(pippo)\n",
    "# \n",
    "# plt.figure(figsize=(10,6))\n",
    "# plt.scatter(np.arange(0, 9), pino, alpha=1, s=10, label='error')\n",
    "# plt.title('Averege Loss by epoch', fontsize=20)\n",
    "# plt.xlabel('Epoch', fontsize=16)\n",
    "# plt.ylabel('Loss', fontsize=16)\n",
    "# plt.show()"
   ],
   "metadata": {
    "collapsed": false,
    "ExecuteTime": {
     "end_time": "2024-03-05T14:26:32.201268500Z",
     "start_time": "2024-03-05T14:26:24.342303400Z"
    }
   },
   "id": "8be28e30fdd43dca",
   "execution_count": 203
  },
  {
   "cell_type": "code",
   "outputs": [
    {
     "data": {
      "text/plain": "array([7.53303139e+14, 7.53303139e+14, 7.53303139e+14, 7.53303139e+14,\n       7.53303139e+14, 7.53303139e+14, 7.53303139e+14, 7.53303139e+14,\n       7.53303139e+14])"
     },
     "execution_count": 100,
     "metadata": {},
     "output_type": "execute_result"
    }
   ],
   "source": [
    "x = new_X_train.to_numpy()[1]\n",
    "\n",
    "# 2: Start the algorithm\n",
    "\n",
    "# 2.1: Feed forward\n",
    "z1 = ReLU_act(np.dot(w1, x)) # output layer 1 \n",
    "z2 = ReLU_act(np.dot(w2, x)) # output layer 2\n",
    "# z1 = sigmoid_act(np.dot(w1, x), der=False) # output layer 1\n",
    "# z2 = sigmoid_act(np.dot(w2, x), der=False) # output layer 1\n",
    "\n",
    "# print(z1, \"\\n\", z2)\n",
    "x_out = np.dot(z1, z2)\n",
    "# print(x_out)\n",
    "y = sigmoid_act(np.dot(wOut, x_out))\n",
    "# print(y)\n",
    "# print(y-y_train.to_numpy()[1])\n",
    "delta_Out =  (y-y_train.Class.to_numpy()[1]) * sigmoid_act(y, der=True)\n",
    "# print(delta_Out)\n",
    "\n",
    "# sigmoid_act(y, der=True)\n",
    "delta_2 = delta_Out * wOut * sigmoid_act(z2, der=True)\n",
    "# delta_2"
   ],
   "metadata": {
    "collapsed": false,
    "ExecuteTime": {
     "end_time": "2024-03-05T10:37:13.705764600Z",
     "start_time": "2024-03-05T10:37:13.677347300Z"
    }
   },
   "id": "e8ecee24dca0e741",
   "execution_count": 100
  },
  {
   "cell_type": "code",
   "outputs": [
    {
     "data": {
      "text/plain": "419"
     },
     "execution_count": 63,
     "metadata": {},
     "output_type": "execute_result"
    }
   ],
   "source": [
    "X_train.shape[0]"
   ],
   "metadata": {
    "collapsed": false,
    "ExecuteTime": {
     "end_time": "2024-03-04T14:26:16.674952200Z",
     "start_time": "2024-03-04T14:26:16.604608800Z"
    }
   },
   "id": "b4562589368e20c4",
   "execution_count": 63
  },
  {
   "cell_type": "markdown",
   "source": [
    "# Build NeuralNetwork model"
   ],
   "metadata": {
    "collapsed": false
   },
   "id": "941d29c97f4a0db5"
  },
  {
   "cell_type": "code",
   "outputs": [],
   "source": [
    "import numpy as np\n",
    "\n",
    "def initialize_parameters(layer_dims):\n",
    "\n",
    "    # หมายเหตุ ฟังก์ชันนี้ทำหน้าที่กำหนดค่าเริ่มต้นให้พารามิเตอร์ของโมเดล ซึ่งใช้เทคนิคชื่อ\n",
    "    # Xavier initialization ซึ่งสามารถดูคำอธิบายเพิ่มเติมได้ที่\n",
    "    # https://www.deeplearning.ai/ai-notes/initialization/index.html\n",
    "    # ซึ่งจะอธิบายถึงสาเหตุของการที่ weight หารด้วย sqrt(layer_dims[l-1])\n",
    "\n",
    "    parameters = {}\n",
    "    L = len(layer_dims)            # number of layers in the network\n",
    "    for l in range(1, L):\n",
    "        parameters[f'W{l}'] = np.random.randn(layer_dims[l-1], layer_dims[l]) / np.sqrt(layer_dims[l-1])\n",
    "        parameters[f'b{l}'] = np.zeros((layer_dims[l], 1))\n",
    "        assert(parameters[f'W{l}'].shape == (layer_dims[l-1], layer_dims[l]))\n",
    "        assert(parameters[f'b{l}'].shape == (layer_dims[l],1))\n",
    "    return parameters"
   ],
   "metadata": {
    "collapsed": false,
    "ExecuteTime": {
     "end_time": "2024-03-04T18:00:10.985883800Z",
     "start_time": "2024-03-04T18:00:10.945648600Z"
    }
   },
   "id": "d43348d8d4e2f29a",
   "execution_count": 30
  },
  {
   "cell_type": "code",
   "outputs": [],
   "source": [
    "def linear_forward(A, W, b):\n",
    "    \"\"\"\n",
    "    Arguments:\n",
    "    A -- activations from previous layer (or input data): array of shape (number of examples, size of previous layer)\n",
    "    W -- weights matrix: array of shape (size of previous layer, size of current layer)\n",
    "    b -- bias vector: array of shape (size of the current layer,1)\n",
    "\n",
    "    Returns:\n",
    "    Z -- output of linear unit\n",
    "    cacheAWb -- a python tuple containing (A,W,b), stored for computing the backward pass efficiently\n",
    "    \"\"\"\n",
    "    ### START CODE HERE ### (≈ 1 line of code)\n",
    "    Z = (A @ W) + b.T\n",
    "    ###  END CODE HERE  ###\n",
    "    cacheAWb = (A, W, b)\n",
    "\n",
    "    return Z, cacheAWb\n",
    "\n",
    "def linear_backward(dZ, cacheAWb):\n",
    "    \"\"\"\n",
    "    Arguments:\n",
    "    dZ -- Gradient of the cost with respect to the linear output (of current layer l)\n",
    "    cache -- tuple of values (A_prev, W, b) coming from the forward propagation in the current layer\n",
    "\n",
    "    Returns:\n",
    "    dA_prev -- Gradient of the cost with respect to the activation (of the previous layer l-1), same shape as A_prev\n",
    "    dW -- Gradient of the cost with respect to W (current layer l), same shape as W\n",
    "    db -- Gradient of the cost with respect to b (current layer l), same shape as b\n",
    "    \"\"\"\n",
    "    A_prev, W, b = cacheAWb\n",
    "    n = A_prev.shape[0]    # จำนวน examples\n",
    "    ### START CODE HERE ### (≈ 3 lines of code)\n",
    "    # Hint: ในการหาค่า sum อาจใช้ torch.sum(...., dim=0, keepdims=True)\n",
    "    dW = (1/n)*( dZ.T @ A_prev).T\n",
    "    db = (1/n)*np.sum(dZ , axis=0, keepdims=True).T\n",
    "    dA_prev = W @ dZ.T\n",
    "    ### END CODE HERE ###\n",
    "\n",
    "    return dA_prev, dW, db"
   ],
   "metadata": {
    "collapsed": false,
    "ExecuteTime": {
     "end_time": "2024-03-04T18:19:57.497165100Z",
     "start_time": "2024-03-04T18:19:57.376328500Z"
    }
   },
   "id": "26b427903d18cc85",
   "execution_count": 55
  },
  {
   "cell_type": "code",
   "outputs": [],
   "source": [
    "def sigmoid_forward(Z):\n",
    "    \"\"\" Implements the ReLU activation\n",
    "    Arguments: Z -- tensor of any shape\n",
    "    Returns:\n",
    "       A -- output of max{0,z}, same shape as Z\n",
    "       Z -- Z will be useful during backpropagation\n",
    "    \"\"\"\n",
    "    ### START CODE HERE ### (≈ 1 line of code)\n",
    "    A = 1 / (1 + np.exp(-Z))\n",
    "    ###  END CODE HERE  ###\n",
    "    return A, Z\n",
    "\n",
    "def diff_sigmoid(Z):\n",
    "    if (1-Z) > 0:\n",
    "        f = Z / (1 - Z)\n",
    "    else:\n",
    "        f = Z / ((1 - Z) + 1e-6)\n",
    "    return f\n",
    "\n",
    "def sigmoid_backward(dA, cache):\n",
    "    \"\"\" Implement the backward propagation for a single ReLU unit.\n",
    "    Arguments:\n",
    "       dA -- post-activation gradient, of any shape\n",
    "       cache -- 'Z' where we store for computing backward propagation efficiently\n",
    "    Returns: dZ -- Gradient of the cost with respect to Z\n",
    "    \"\"\"\n",
    "    Z = cache\n",
    "    ### START CODE HERE ### (≈ 1 lines of code)\n",
    "    dZ = diff_sigmoid(Z) * dA\n",
    "    ### END CODE HERE ###\n",
    "    assert (dZ.shape == Z.shape)\n",
    "    return dZ"
   ],
   "metadata": {
    "collapsed": false,
    "ExecuteTime": {
     "end_time": "2024-03-04T18:07:27.395191300Z",
     "start_time": "2024-03-04T18:07:27.380215100Z"
    }
   },
   "id": "a469312eaaf2cdbc",
   "execution_count": 35
  },
  {
   "cell_type": "code",
   "outputs": [],
   "source": [
    "def softmax_forward(Z):\n",
    "    ### START CODE HERE ### (≈ 1 line of code)\n",
    "    # Hint: Use torch.sum(...., dim=1, keepdims=True)\n",
    "    A = np.exp(Z) / np.sum(np.exp(Z), axis=0, keepdims=True)\n",
    "    ###  END CODE HERE  ###\n",
    "    return A, Z"
   ],
   "metadata": {
    "collapsed": false,
    "ExecuteTime": {
     "end_time": "2024-03-04T18:20:06.835848Z",
     "start_time": "2024-03-04T18:20:06.759671700Z"
    }
   },
   "id": "d1e3579639fab015",
   "execution_count": 56
  },
  {
   "cell_type": "code",
   "outputs": [],
   "source": [
    "def model_forward(X, parameters):\n",
    "    \"\"\" Implement forward propagation for the [LINEAR->RELU]*(L-1)->LINEAR->SOFTMAX\n",
    "    Arguments:\n",
    "       X -- design matrix, tensor of shape (number of examples, number of features)\n",
    "       parameters -- output of initialize_parameters()\n",
    "    Returns:\n",
    "       AL -- output from the last layer (last post-activation value)\n",
    "       caches -- list of caches containing:\n",
    "                every cache of linear_activation_forward() (there are L-1 of them, indexed from 0 to L-1)\n",
    "    \"\"\"\n",
    "\n",
    "    caches = []\n",
    "    A = np.array(X).flatten()  # reshape input\n",
    "    L = len(parameters) // 2   # number of layers in the neural network\n",
    "\n",
    "    # Forward propagate through the first L-1 layers\n",
    "    for l in range(1, L):\n",
    "        A_prev = A\n",
    "        ### START CODE HERE ### (≈ 2 lines of code)\n",
    "        Z, cache_linear = linear_forward(A_prev, parameters[f\"W{l}\"], parameters[f\"b{l}\"] )\n",
    "        A, cache_relu = sigmoid_forward(Z)\n",
    "        ### END CODE HERE ###\n",
    "        caches.append((cache_linear, cache_relu))\n",
    "\n",
    "    # Forward propagate the output layer\n",
    "    ### START CODE HERE ### (≈ 2 lines of code)\n",
    "    Z, cache_linear = linear_forward(A, parameters[f\"W{L}\"], parameters[f\"b{L}\"])\n",
    "    AL, cache_softmax = softmax_forward(Z)\n",
    "    ### END CODE HERE ###\n",
    "    caches.append((cache_linear, cache_softmax))\n",
    "    # assert(AL.shape == (X.shape[0],10))\n",
    "    return AL, caches\n",
    "\n",
    "def model_backward(AL, Y, caches):\n",
    "    \"\"\" Implement the backward propagation for the [LINEAR->RELU] * (L-1) -> LINEAR -> SOFTMAX\n",
    "    Arguments:\n",
    "        AL -- probability matrix, i.e. output of the forward propagation\n",
    "        Y  -- true label matrix (one-hot)\n",
    "        caches -- list of caches containing:\n",
    "                every cache of relu_forward() (it's caches[l], for l in range(L-1) i.e l = 0...L-2)\n",
    "                the cache of softmax_forward() (it's caches[L-1])\n",
    "    Returns:\n",
    "       grads -- A dictionary with the gradients\n",
    "                 grads[f'dA{l}'] = ...\n",
    "                 grads[f'dW{l}'] = ...\n",
    "                 grads[f'db{l}'] = ...\n",
    "    \"\"\"\n",
    "    grads = {}      # dictionary of gradients\n",
    "    L = len(caches) # number of layers\n",
    "    n = AL.shape[0] # number of examples\n",
    "\n",
    "    # 1) Initialize backpropagation\n",
    "    ### START CODE HERE ### (1 line of code)\n",
    "    # Compute derivative of loss with respect to AL\n",
    "    dAL = AL-Y\n",
    "    ### END CODE HERE ###\n",
    "\n",
    "    # 2) Lth layer (SOFTMAX -> LINEAR) gradients.\n",
    "    linear_cache, _ = caches[L-1]\n",
    "    ### START CODE HERE ### (approx. 2 lines)\n",
    "    dZ = dAL\n",
    "    grads[f'dA{L-1}'], grads[f'dW{L}'], grads[f'db{L}'] = linear_backward(dZ, linear_cache)\n",
    "    ### END CODE HERE ###\n",
    "\n",
    "    # 3) Loop from l=L-2 to l=0\n",
    "    for l in reversed(range(L-1)):\n",
    "        # lth layer: (RELU -> LINEAR) gradients.\n",
    "        linear_cache, activation_cache = caches[l]\n",
    "        ### START CODE HERE ### (approx. 2 lines)\n",
    "        dZ = sigmoid_backward(grads[f'dA{l+1}'].T, activation_cache )\n",
    "        grads[f'dA{l}'], grads[f'dW{l+1}'], grads[f'db{l+1}'] = linear_backward(dZ, linear_cache)\n",
    "        ### END CODE HERE ###\n",
    "\n",
    "    return grads"
   ],
   "metadata": {
    "collapsed": false,
    "ExecuteTime": {
     "end_time": "2024-03-04T18:22:26.663942900Z",
     "start_time": "2024-03-04T18:22:26.522149800Z"
    }
   },
   "id": "686af948259ca56c",
   "execution_count": 63
  },
  {
   "cell_type": "code",
   "outputs": [],
   "source": [
    "def compute_loss(AL, Y):\n",
    "    \"\"\"Implement the categorical cross entropy loss\n",
    "    Arguments:\n",
    "       AL -- probability matrix whose row corresponds to prediction of one example\n",
    "       Y -- true label matrix whose row corresponds to true label of one example\n",
    "    Returns:\n",
    "       loss -- categorical cross-entropy loss of m examples\n",
    "    \"\"\"\n",
    "    n = Y.shape[0]  # จำนวน examples\n",
    "    # assert(Y.shape[1] == 10)\n",
    "\n",
    "    # Compute categorical cross entropy loss of m examples from AL and Y\n",
    "    loss = -(1/n)*np.sum(Y*torch.log(AL))\n",
    "    loss = np.squeeze(loss)      # To make sure your loss's shape is what we expect (e.g. this turns [[17]] into 17).\n",
    "    return loss"
   ],
   "metadata": {
    "collapsed": false,
    "ExecuteTime": {
     "end_time": "2024-03-04T18:21:32.625760800Z",
     "start_time": "2024-03-04T18:21:32.590916200Z"
    }
   },
   "id": "1987bb7edc36e173",
   "execution_count": 59
  },
  {
   "cell_type": "code",
   "outputs": [],
   "source": [
    "def gradient_update(parameters, grads, learning_rate):\n",
    "    \"\"\" Update parameters using gradient descent\n",
    "    Arguments:\n",
    "       parameters -- python dictionary containing your parameters\n",
    "       grads -- python dictionary containing your gradients (it is the output of model_backward())\n",
    "       learning_rate -- learning rate\n",
    "    Returns:\n",
    "       parameters -- python dictionary containing your updated parameters\n",
    "                  parameters[f'W{l}'] = ...\n",
    "                  parameters[f'b{l}'] = ...\n",
    "    \"\"\"\n",
    "    L = len(parameters) // 2 # number of layers in the neural network\n",
    "    # Update rule for each parameter.\n",
    "    ### START CODE HERE ### (≈ 3 lines of code)\n",
    "    for l in range(1, L):\n",
    "        parameters[f'W{l}'] -= learning_rate*grads[f'dW{l}']\n",
    "        parameters[f'b{l}'] -= learning_rate*grads[f'db{l}']\n",
    "    ### END CODE HERE ###\n",
    "    return parameters\n"
   ],
   "metadata": {
    "collapsed": false,
    "ExecuteTime": {
     "end_time": "2024-03-04T18:09:10.314135700Z",
     "start_time": "2024-03-04T18:09:10.191809700Z"
    }
   },
   "id": "c051c21db6283d9e",
   "execution_count": 40
  },
  {
   "cell_type": "code",
   "outputs": [
    {
     "data": {
      "text/plain": "4"
     },
     "execution_count": 69,
     "metadata": {},
     "output_type": "execute_result"
    }
   ],
   "source": [
    "y_train.iloc[1].to_numpy()[0]"
   ],
   "metadata": {
    "collapsed": false,
    "ExecuteTime": {
     "end_time": "2024-03-04T18:26:40.566749100Z",
     "start_time": "2024-03-04T18:26:40.413907900Z"
    }
   },
   "id": "5d61ff204d454f5b",
   "execution_count": 69
  },
  {
   "cell_type": "code",
   "outputs": [
    {
     "ename": "ValueError",
     "evalue": "The truth value of an array with more than one element is ambiguous. Use a.any() or a.all()",
     "output_type": "error",
     "traceback": [
      "\u001B[1;31m---------------------------------------------------------------------------\u001B[0m",
      "\u001B[1;31mValueError\u001B[0m                                Traceback (most recent call last)",
      "Cell \u001B[1;32mIn[70], line 27\u001B[0m\n\u001B[0;32m     25\u001B[0m al, caches \u001B[38;5;241m=\u001B[39m model_forward(new_X_train\u001B[38;5;241m.\u001B[39miloc[i], params)\n\u001B[0;32m     26\u001B[0m \u001B[38;5;66;03m# Back propagation\u001B[39;00m\n\u001B[1;32m---> 27\u001B[0m gradients \u001B[38;5;241m=\u001B[39m model_backward(al, y_train\u001B[38;5;241m.\u001B[39miloc[i]\u001B[38;5;241m.\u001B[39mto_numpy()[\u001B[38;5;241m0\u001B[39m],caches )\n\u001B[0;32m     29\u001B[0m \u001B[38;5;66;03m# Gradient update\u001B[39;00m\n\u001B[0;32m     30\u001B[0m params \u001B[38;5;241m=\u001B[39m gradient_update(params, gradients , learning_rate)\n",
      "Cell \u001B[1;32mIn[63], line 70\u001B[0m, in \u001B[0;36mmodel_backward\u001B[1;34m(AL, Y, caches)\u001B[0m\n\u001B[0;32m     68\u001B[0m linear_cache, activation_cache \u001B[38;5;241m=\u001B[39m caches[l]\n\u001B[0;32m     69\u001B[0m \u001B[38;5;66;03m### START CODE HERE ### (approx. 2 lines)\u001B[39;00m\n\u001B[1;32m---> 70\u001B[0m dZ \u001B[38;5;241m=\u001B[39m sigmoid_backward(grads[\u001B[38;5;124mf\u001B[39m\u001B[38;5;124m'\u001B[39m\u001B[38;5;124mdA\u001B[39m\u001B[38;5;132;01m{\u001B[39;00ml\u001B[38;5;241m+\u001B[39m\u001B[38;5;241m1\u001B[39m\u001B[38;5;132;01m}\u001B[39;00m\u001B[38;5;124m'\u001B[39m]\u001B[38;5;241m.\u001B[39mT, activation_cache )\n\u001B[0;32m     71\u001B[0m grads[\u001B[38;5;124mf\u001B[39m\u001B[38;5;124m'\u001B[39m\u001B[38;5;124mdA\u001B[39m\u001B[38;5;132;01m{\u001B[39;00ml\u001B[38;5;132;01m}\u001B[39;00m\u001B[38;5;124m'\u001B[39m], grads[\u001B[38;5;124mf\u001B[39m\u001B[38;5;124m'\u001B[39m\u001B[38;5;124mdW\u001B[39m\u001B[38;5;132;01m{\u001B[39;00ml\u001B[38;5;241m+\u001B[39m\u001B[38;5;241m1\u001B[39m\u001B[38;5;132;01m}\u001B[39;00m\u001B[38;5;124m'\u001B[39m], grads[\u001B[38;5;124mf\u001B[39m\u001B[38;5;124m'\u001B[39m\u001B[38;5;124mdb\u001B[39m\u001B[38;5;132;01m{\u001B[39;00ml\u001B[38;5;241m+\u001B[39m\u001B[38;5;241m1\u001B[39m\u001B[38;5;132;01m}\u001B[39;00m\u001B[38;5;124m'\u001B[39m] \u001B[38;5;241m=\u001B[39m linear_backward(dZ, linear_cache)\n\u001B[0;32m     72\u001B[0m \u001B[38;5;66;03m### END CODE HERE ###\u001B[39;00m\n",
      "Cell \u001B[1;32mIn[35], line 29\u001B[0m, in \u001B[0;36msigmoid_backward\u001B[1;34m(dA, cache)\u001B[0m\n\u001B[0;32m     27\u001B[0m Z \u001B[38;5;241m=\u001B[39m cache\n\u001B[0;32m     28\u001B[0m \u001B[38;5;66;03m### START CODE HERE ### (≈ 1 lines of code)\u001B[39;00m\n\u001B[1;32m---> 29\u001B[0m dZ \u001B[38;5;241m=\u001B[39m diff_sigmoid(Z) \u001B[38;5;241m*\u001B[39m dA\n\u001B[0;32m     30\u001B[0m \u001B[38;5;66;03m### END CODE HERE ###\u001B[39;00m\n\u001B[0;32m     31\u001B[0m \u001B[38;5;28;01massert\u001B[39;00m (dZ\u001B[38;5;241m.\u001B[39mshape \u001B[38;5;241m==\u001B[39m Z\u001B[38;5;241m.\u001B[39mshape)\n",
      "Cell \u001B[1;32mIn[35], line 14\u001B[0m, in \u001B[0;36mdiff_sigmoid\u001B[1;34m(Z)\u001B[0m\n\u001B[0;32m     13\u001B[0m \u001B[38;5;28;01mdef\u001B[39;00m \u001B[38;5;21mdiff_sigmoid\u001B[39m(Z):\n\u001B[1;32m---> 14\u001B[0m     \u001B[38;5;28;01mif\u001B[39;00m (\u001B[38;5;241m1\u001B[39m\u001B[38;5;241m-\u001B[39mZ) \u001B[38;5;241m>\u001B[39m \u001B[38;5;241m0\u001B[39m:\n\u001B[0;32m     15\u001B[0m         f \u001B[38;5;241m=\u001B[39m Z \u001B[38;5;241m/\u001B[39m (\u001B[38;5;241m1\u001B[39m \u001B[38;5;241m-\u001B[39m Z)\n\u001B[0;32m     16\u001B[0m     \u001B[38;5;28;01melse\u001B[39;00m:\n",
      "\u001B[1;31mValueError\u001B[0m: The truth value of an array with more than one element is ambiguous. Use a.any() or a.all()"
     ]
    }
   ],
   "source": [
    "import torch\n",
    "import torch.nn.functional as F\n",
    "\n",
    "nn_architecture = (9*1, 4, 4, 1)\n",
    "params = initialize_parameters(nn_architecture)\n",
    "# print(nn_architecture)\n",
    "\n",
    "learning_rate = 0.01\n",
    "num_epochs = 100\n",
    "\n",
    "train_losses = []\n",
    "val_losses = []\n",
    "\n",
    "for epoch in range(num_epochs):\n",
    "\n",
    "    # TRAINING loop\n",
    "    train_loss, train_acc, n_train = 0.0, 0.0, 0\n",
    "    for i in range(0, len(new_X_train)):\n",
    "\n",
    "        ### START CODE HERE ###\n",
    "        # Create one-hot\n",
    "        # Hint: Use F.one_hot(...)\n",
    "        # y_batch_one_hot =  F.one_hot(y_train, num_classes=10).float()\n",
    "        # Forward propagation\n",
    "        al, caches = model_forward(new_X_train.iloc[i], params)\n",
    "        # Back propagation\n",
    "        gradients = model_backward(al, y_train.iloc[i].to_numpy()[0],caches )\n",
    "\n",
    "        # Gradient update\n",
    "        params = gradient_update(params, gradients , learning_rate)\n",
    "        ### END CODE HERE ###\n",
    "\n",
    "        # Compute loss (for debugging)\n",
    "        train_loss += compute_loss(al, y_train.iloc[i])\n",
    "\n",
    "        # Compute accuracy (for debugging)\n",
    "        y_preds = torch.argmax(al, dim=1) # convert one-hot to index\n",
    "        train_acc += torch.sum(y_preds == y_train.iloc[i]).item()\n",
    "        n_train += len(y_train.iloc[i])\n",
    "\n",
    "    trn_loss = train_loss/len(new_X_train)\n",
    "    trn_acc = train_acc/n_train\n",
    "    print(f'Epoch {epoch}: train_loss {trn_loss:.4f}, train_acc {trn_acc:.4f}')\n",
    "    train_losses.append(trn_loss)\n",
    "\n",
    "# plot loss history\n",
    "plt.plot(range(len(train_losses)), train_losses, label='training loss')\n",
    "plt.legend()    "
   ],
   "metadata": {
    "collapsed": false,
    "ExecuteTime": {
     "end_time": "2024-03-04T18:26:59.877702300Z",
     "start_time": "2024-03-04T18:26:59.713944Z"
    }
   },
   "id": "68d1ca76b7fb70f1",
   "execution_count": 70
  },
  {
   "cell_type": "code",
   "outputs": [
    {
     "data": {
      "text/plain": "-14.449642144324653"
     },
     "execution_count": 71,
     "metadata": {},
     "output_type": "execute_result"
    }
   ],
   "source": [
    "X = new_X_train.iloc[0]\n",
    "W = [random.uniform(-1, 1) for _ in range(0, 9)]\n",
    "Z = np.dot(X, W)\n",
    "\n",
    "diff_sigmoid(Z)"
   ],
   "metadata": {
    "collapsed": false,
    "ExecuteTime": {
     "end_time": "2024-03-04T18:29:14.572714400Z",
     "start_time": "2024-03-04T18:29:14.556081100Z"
    }
   },
   "id": "c1367ba530a3ece4",
   "execution_count": 71
  }
 ],
 "metadata": {
  "kernelspec": {
   "display_name": "Python 3",
   "language": "python",
   "name": "python3"
  },
  "language_info": {
   "codemirror_mode": {
    "name": "ipython",
    "version": 2
   },
   "file_extension": ".py",
   "mimetype": "text/x-python",
   "name": "python",
   "nbconvert_exporter": "python",
   "pygments_lexer": "ipython2",
   "version": "2.7.6"
  }
 },
 "nbformat": 4,
 "nbformat_minor": 5
}
