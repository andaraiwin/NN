{
 "cells": [
  {
   "cell_type": "code",
   "execution_count": 154,
   "id": "initial_id",
   "metadata": {
    "collapsed": true,
    "ExecuteTime": {
     "end_time": "2024-03-10T19:18:35.161037Z",
     "start_time": "2024-03-10T19:18:33.065102Z"
    }
   },
   "outputs": [],
   "source": [
    "from ucimlrepo import fetch_ucirepo\n",
    "import matplotlib.pyplot as plt\n",
    "from sklearn.model_selection import train_test_split\n",
    "\n",
    "# fetch dataset \n",
    "breast_cancer_wisconsin_original = fetch_ucirepo(id=15)\n",
    "\n",
    "# data (as pandas dataframes) \n",
    "X = breast_cancer_wisconsin_original.data.features\n",
    "y = breast_cancer_wisconsin_original.data.targets"
   ]
  },
  {
   "cell_type": "markdown",
   "source": [
    "# Data preprocessing"
   ],
   "metadata": {
    "collapsed": false
   },
   "id": "70513f815c77856f"
  },
  {
   "cell_type": "code",
   "outputs": [
    {
     "name": "stdout",
     "output_type": "stream",
     "text": [
      "<class 'pandas.core.frame.DataFrame'>\n",
      "RangeIndex: 699 entries, 0 to 698\n",
      "Data columns (total 9 columns):\n",
      " #   Column                       Non-Null Count  Dtype  \n",
      "---  ------                       --------------  -----  \n",
      " 0   Clump_thickness              699 non-null    int64  \n",
      " 1   Uniformity_of_cell_size      699 non-null    int64  \n",
      " 2   Uniformity_of_cell_shape     699 non-null    int64  \n",
      " 3   Marginal_adhesion            699 non-null    int64  \n",
      " 4   Single_epithelial_cell_size  699 non-null    int64  \n",
      " 5   Bare_nuclei                  683 non-null    float64\n",
      " 6   Bland_chromatin              699 non-null    int64  \n",
      " 7   Normal_nucleoli              699 non-null    int64  \n",
      " 8   Mitoses                      699 non-null    int64  \n",
      "dtypes: float64(1), int64(8)\n",
      "memory usage: 49.3 KB\n",
      "<class 'pandas.core.frame.DataFrame'>\n",
      "RangeIndex: 699 entries, 0 to 698\n",
      "Data columns (total 1 columns):\n",
      " #   Column  Non-Null Count  Dtype\n",
      "---  ------  --------------  -----\n",
      " 0   Class   699 non-null    int64\n",
      "dtypes: int64(1)\n",
      "memory usage: 5.6 KB\n"
     ]
    },
    {
     "data": {
      "text/plain": "(None, None)"
     },
     "execution_count": 141,
     "metadata": {},
     "output_type": "execute_result"
    }
   ],
   "source": [
    "X.info(), y.info()"
   ],
   "metadata": {
    "collapsed": false,
    "ExecuteTime": {
     "end_time": "2024-03-10T18:50:16.735917200Z",
     "start_time": "2024-03-10T18:50:16.689092400Z"
    }
   },
   "id": "d74f1da95972f96",
   "execution_count": 141
  },
  {
   "cell_type": "code",
   "outputs": [
    {
     "data": {
      "text/plain": "Clump_thickness                 0\nUniformity_of_cell_size         0\nUniformity_of_cell_shape        0\nMarginal_adhesion               0\nSingle_epithelial_cell_size     0\nBare_nuclei                    16\nBland_chromatin                 0\nNormal_nucleoli                 0\nMitoses                         0\ndtype: int64"
     },
     "execution_count": 155,
     "metadata": {},
     "output_type": "execute_result"
    }
   ],
   "source": [
    "X.isna().sum()"
   ],
   "metadata": {
    "collapsed": false,
    "ExecuteTime": {
     "end_time": "2024-03-10T19:18:36.929946400Z",
     "start_time": "2024-03-10T19:18:36.920933700Z"
    }
   },
   "id": "c58400ec1179799d",
   "execution_count": 155
  },
  {
   "cell_type": "code",
   "outputs": [
    {
     "data": {
      "text/plain": "       Clump_thickness  Uniformity_of_cell_size  Uniformity_of_cell_shape  \\\ncount       699.000000               699.000000                699.000000   \nmean          4.417740                 3.134478                  3.207439   \nstd           2.815741                 3.051459                  2.971913   \nmin           1.000000                 1.000000                  1.000000   \n25%           2.000000                 1.000000                  1.000000   \n50%           4.000000                 1.000000                  1.000000   \n75%           6.000000                 5.000000                  5.000000   \nmax          10.000000                10.000000                 10.000000   \n\n       Marginal_adhesion  Single_epithelial_cell_size  Bare_nuclei  \\\ncount         699.000000                   699.000000   683.000000   \nmean            2.806867                     3.216023     3.544656   \nstd             2.855379                     2.214300     3.643857   \nmin             1.000000                     1.000000     1.000000   \n25%             1.000000                     2.000000     1.000000   \n50%             1.000000                     2.000000     1.000000   \n75%             4.000000                     4.000000     6.000000   \nmax            10.000000                    10.000000    10.000000   \n\n       Bland_chromatin  Normal_nucleoli     Mitoses  \ncount       699.000000       699.000000  699.000000  \nmean          3.437768         2.866953    1.589413  \nstd           2.438364         3.053634    1.715078  \nmin           1.000000         1.000000    1.000000  \n25%           2.000000         1.000000    1.000000  \n50%           3.000000         1.000000    1.000000  \n75%           5.000000         4.000000    1.000000  \nmax          10.000000        10.000000   10.000000  ",
      "text/html": "<div>\n<style scoped>\n    .dataframe tbody tr th:only-of-type {\n        vertical-align: middle;\n    }\n\n    .dataframe tbody tr th {\n        vertical-align: top;\n    }\n\n    .dataframe thead th {\n        text-align: right;\n    }\n</style>\n<table border=\"1\" class=\"dataframe\">\n  <thead>\n    <tr style=\"text-align: right;\">\n      <th></th>\n      <th>Clump_thickness</th>\n      <th>Uniformity_of_cell_size</th>\n      <th>Uniformity_of_cell_shape</th>\n      <th>Marginal_adhesion</th>\n      <th>Single_epithelial_cell_size</th>\n      <th>Bare_nuclei</th>\n      <th>Bland_chromatin</th>\n      <th>Normal_nucleoli</th>\n      <th>Mitoses</th>\n    </tr>\n  </thead>\n  <tbody>\n    <tr>\n      <th>count</th>\n      <td>699.000000</td>\n      <td>699.000000</td>\n      <td>699.000000</td>\n      <td>699.000000</td>\n      <td>699.000000</td>\n      <td>683.000000</td>\n      <td>699.000000</td>\n      <td>699.000000</td>\n      <td>699.000000</td>\n    </tr>\n    <tr>\n      <th>mean</th>\n      <td>4.417740</td>\n      <td>3.134478</td>\n      <td>3.207439</td>\n      <td>2.806867</td>\n      <td>3.216023</td>\n      <td>3.544656</td>\n      <td>3.437768</td>\n      <td>2.866953</td>\n      <td>1.589413</td>\n    </tr>\n    <tr>\n      <th>std</th>\n      <td>2.815741</td>\n      <td>3.051459</td>\n      <td>2.971913</td>\n      <td>2.855379</td>\n      <td>2.214300</td>\n      <td>3.643857</td>\n      <td>2.438364</td>\n      <td>3.053634</td>\n      <td>1.715078</td>\n    </tr>\n    <tr>\n      <th>min</th>\n      <td>1.000000</td>\n      <td>1.000000</td>\n      <td>1.000000</td>\n      <td>1.000000</td>\n      <td>1.000000</td>\n      <td>1.000000</td>\n      <td>1.000000</td>\n      <td>1.000000</td>\n      <td>1.000000</td>\n    </tr>\n    <tr>\n      <th>25%</th>\n      <td>2.000000</td>\n      <td>1.000000</td>\n      <td>1.000000</td>\n      <td>1.000000</td>\n      <td>2.000000</td>\n      <td>1.000000</td>\n      <td>2.000000</td>\n      <td>1.000000</td>\n      <td>1.000000</td>\n    </tr>\n    <tr>\n      <th>50%</th>\n      <td>4.000000</td>\n      <td>1.000000</td>\n      <td>1.000000</td>\n      <td>1.000000</td>\n      <td>2.000000</td>\n      <td>1.000000</td>\n      <td>3.000000</td>\n      <td>1.000000</td>\n      <td>1.000000</td>\n    </tr>\n    <tr>\n      <th>75%</th>\n      <td>6.000000</td>\n      <td>5.000000</td>\n      <td>5.000000</td>\n      <td>4.000000</td>\n      <td>4.000000</td>\n      <td>6.000000</td>\n      <td>5.000000</td>\n      <td>4.000000</td>\n      <td>1.000000</td>\n    </tr>\n    <tr>\n      <th>max</th>\n      <td>10.000000</td>\n      <td>10.000000</td>\n      <td>10.000000</td>\n      <td>10.000000</td>\n      <td>10.000000</td>\n      <td>10.000000</td>\n      <td>10.000000</td>\n      <td>10.000000</td>\n      <td>10.000000</td>\n    </tr>\n  </tbody>\n</table>\n</div>"
     },
     "execution_count": 156,
     "metadata": {},
     "output_type": "execute_result"
    }
   ],
   "source": [
    "X.describe()"
   ],
   "metadata": {
    "collapsed": false,
    "ExecuteTime": {
     "end_time": "2024-03-10T19:20:30.648555800Z",
     "start_time": "2024-03-10T19:20:30.603548Z"
    }
   },
   "id": "7a2f07ca3678588",
   "execution_count": 156
  },
  {
   "cell_type": "code",
   "outputs": [
    {
     "data": {
      "text/plain": "<Axes: xlabel='Bare_nuclei'>"
     },
     "execution_count": 142,
     "metadata": {},
     "output_type": "execute_result"
    },
    {
     "data": {
      "text/plain": "<Figure size 640x480 with 1 Axes>",
      "image/png": "[encoded data removed]"
     },
     "metadata": {},
     "output_type": "display_data"
    }
   ],
   "source": [
    "X.Bare_nuclei.value_counts().plot(kind='bar')"
   ],
   "metadata": {
    "collapsed": false,
    "ExecuteTime": {
     "end_time": "2024-03-10T18:50:27.116604200Z",
     "start_time": "2024-03-10T18:50:26.855406800Z"
    }
   },
   "id": "f70933c05f7d41fd",
   "execution_count": 142
  },
  {
   "cell_type": "code",
   "outputs": [],
   "source": [
    "flags = (X['Bare_nuclei'].isna())\n",
    "X.loc[flags, 'Bare_nuclei'] = 1"
   ],
   "metadata": {
    "collapsed": false,
    "ExecuteTime": {
     "end_time": "2024-03-10T18:50:29.568696700Z",
     "start_time": "2024-03-10T18:50:29.485056300Z"
    }
   },
   "id": "18569eb5b3061eff",
   "execution_count": 143
  },
  {
   "cell_type": "code",
   "outputs": [
    {
     "name": "stdout",
     "output_type": "stream",
     "text": [
      "<class 'pandas.core.frame.DataFrame'>\n",
      "RangeIndex: 699 entries, 0 to 698\n",
      "Data columns (total 9 columns):\n",
      " #   Column                       Non-Null Count  Dtype  \n",
      "---  ------                       --------------  -----  \n",
      " 0   Clump_thickness              699 non-null    int64  \n",
      " 1   Uniformity_of_cell_size      699 non-null    int64  \n",
      " 2   Uniformity_of_cell_shape     699 non-null    int64  \n",
      " 3   Marginal_adhesion            699 non-null    int64  \n",
      " 4   Single_epithelial_cell_size  699 non-null    int64  \n",
      " 5   Bare_nuclei                  699 non-null    float64\n",
      " 6   Bland_chromatin              699 non-null    int64  \n",
      " 7   Normal_nucleoli              699 non-null    int64  \n",
      " 8   Mitoses                      699 non-null    int64  \n",
      "dtypes: float64(1), int64(8)\n",
      "memory usage: 49.3 KB\n"
     ]
    }
   ],
   "source": [
    "X.info()"
   ],
   "metadata": {
    "collapsed": false,
    "ExecuteTime": {
     "end_time": "2024-03-10T18:50:41.852623800Z",
     "start_time": "2024-03-10T18:50:41.800034400Z"
    }
   },
   "id": "3088e0dbabfb6027",
   "execution_count": 144
  },
  {
   "cell_type": "markdown",
   "source": [
    "## Normalize & split the data for training and testing the neural network "
   ],
   "metadata": {
    "collapsed": false
   },
   "id": "b11d709fb72acde4"
  },
  {
   "cell_type": "code",
   "outputs": [],
   "source": [
    "def normalize(col):\n",
    "    return (col - col.mean())/col.std(ddof=0) # Standardization\n",
    "\n",
    "labels = y['Class']\n",
    "\n",
    "X_train, X_test, y_train, y_test = train_test_split(X, y,\n",
    "                                                    train_size=0.6,\n",
    "                                                    random_state=123,\n",
    "                                                    stratify=labels)\n",
    "\n",
    "new_X_train = X_train.apply(normalize)\n",
    "new_X_test = X_test.apply(normalize)"
   ],
   "metadata": {
    "collapsed": false,
    "ExecuteTime": {
     "end_time": "2024-03-10T18:51:51.464725Z",
     "start_time": "2024-03-10T18:51:51.427613400Z"
    }
   },
   "id": "28989ab4aa0c307c",
   "execution_count": 145
  },
  {
   "cell_type": "code",
   "outputs": [
    {
     "data": {
      "text/plain": "       Clump_thickness  Uniformity_of_cell_size  Uniformity_of_cell_shape  \\\ncount     4.190000e+02             4.190000e+02              4.190000e+02   \nmean      1.695806e-16            -4.663467e-17              1.059879e-17   \nstd       1.001195e+00             1.001195e+00              1.001195e+00   \nmin      -1.222019e+00            -6.922095e-01             -7.527212e-01   \n25%      -8.621975e-01            -6.922095e-01             -7.527212e-01   \n50%      -1.425546e-01            -6.922095e-01             -4.189750e-01   \n75%       5.770884e-01             5.954078e-01              5.822637e-01   \nmax       2.016374e+00             2.204929e+00              2.250995e+00   \n\n       Marginal_adhesion  Single_epithelial_cell_size   Bare_nuclei  \\\ncount       4.190000e+02                   419.000000  4.190000e+02   \nmean        6.571248e-17                     0.000000  4.663467e-17   \nstd         1.001195e+00                     1.001195  1.001195e+00   \nmin        -6.295596e-01                    -0.982446 -6.990264e-01   \n25%        -6.295596e-01                    -0.530089 -6.990264e-01   \n50%        -6.295596e-01                    -0.530089 -6.990264e-01   \n75%         3.811127e-01                     0.374625  4.051849e-01   \nmax         2.402457e+00                     3.088768  1.785449e+00   \n\n       Bland_chromatin  Normal_nucleoli       Mitoses  \ncount     4.190000e+02     4.190000e+02  4.190000e+02  \nmean      5.511370e-17     7.207176e-17  2.119758e-17  \nstd       1.001195e+00     1.001195e+00  1.001195e+00  \nmin      -9.848284e-01    -6.142446e-01 -3.492607e-01  \n25%      -5.713583e-01    -6.142446e-01 -3.492607e-01  \n50%      -1.578883e-01    -6.142446e-01 -3.492607e-01  \n75%       4.623167e-01     3.533061e-01 -3.492607e-01  \nmax       2.736402e+00     2.288408e+00  5.279210e+00  ",
      "text/html": "<div>\n<style scoped>\n    .dataframe tbody tr th:only-of-type {\n        vertical-align: middle;\n    }\n\n    .dataframe tbody tr th {\n        vertical-align: top;\n    }\n\n    .dataframe thead th {\n        text-align: right;\n    }\n</style>\n<table border=\"1\" class=\"dataframe\">\n  <thead>\n    <tr style=\"text-align: right;\">\n      <th></th>\n      <th>Clump_thickness</th>\n      <th>Uniformity_of_cell_size</th>\n      <th>Uniformity_of_cell_shape</th>\n      <th>Marginal_adhesion</th>\n      <th>Single_epithelial_cell_size</th>\n      <th>Bare_nuclei</th>\n      <th>Bland_chromatin</th>\n      <th>Normal_nucleoli</th>\n      <th>Mitoses</th>\n    </tr>\n  </thead>\n  <tbody>\n    <tr>\n      <th>count</th>\n      <td>4.190000e+02</td>\n      <td>4.190000e+02</td>\n      <td>4.190000e+02</td>\n      <td>4.190000e+02</td>\n      <td>419.000000</td>\n      <td>4.190000e+02</td>\n      <td>4.190000e+02</td>\n      <td>4.190000e+02</td>\n      <td>4.190000e+02</td>\n    </tr>\n    <tr>\n      <th>mean</th>\n      <td>1.695806e-16</td>\n      <td>-4.663467e-17</td>\n      <td>1.059879e-17</td>\n      <td>6.571248e-17</td>\n      <td>0.000000</td>\n      <td>4.663467e-17</td>\n      <td>5.511370e-17</td>\n      <td>7.207176e-17</td>\n      <td>2.119758e-17</td>\n    </tr>\n    <tr>\n      <th>std</th>\n      <td>1.001195e+00</td>\n      <td>1.001195e+00</td>\n      <td>1.001195e+00</td>\n      <td>1.001195e+00</td>\n      <td>1.001195</td>\n      <td>1.001195e+00</td>\n      <td>1.001195e+00</td>\n      <td>1.001195e+00</td>\n      <td>1.001195e+00</td>\n    </tr>\n    <tr>\n      <th>min</th>\n      <td>-1.222019e+00</td>\n      <td>-6.922095e-01</td>\n      <td>-7.527212e-01</td>\n      <td>-6.295596e-01</td>\n      <td>-0.982446</td>\n      <td>-6.990264e-01</td>\n      <td>-9.848284e-01</td>\n      <td>-6.142446e-01</td>\n      <td>-3.492607e-01</td>\n    </tr>\n    <tr>\n      <th>25%</th>\n      <td>-8.621975e-01</td>\n      <td>-6.922095e-01</td>\n      <td>-7.527212e-01</td>\n      <td>-6.295596e-01</td>\n      <td>-0.530089</td>\n      <td>-6.990264e-01</td>\n      <td>-5.713583e-01</td>\n      <td>-6.142446e-01</td>\n      <td>-3.492607e-01</td>\n    </tr>\n    <tr>\n      <th>50%</th>\n      <td>-1.425546e-01</td>\n      <td>-6.922095e-01</td>\n      <td>-4.189750e-01</td>\n      <td>-6.295596e-01</td>\n      <td>-0.530089</td>\n      <td>-6.990264e-01</td>\n      <td>-1.578883e-01</td>\n      <td>-6.142446e-01</td>\n      <td>-3.492607e-01</td>\n    </tr>\n    <tr>\n      <th>75%</th>\n      <td>5.770884e-01</td>\n      <td>5.954078e-01</td>\n      <td>5.822637e-01</td>\n      <td>3.811127e-01</td>\n      <td>0.374625</td>\n      <td>4.051849e-01</td>\n      <td>4.623167e-01</td>\n      <td>3.533061e-01</td>\n      <td>-3.492607e-01</td>\n    </tr>\n    <tr>\n      <th>max</th>\n      <td>2.016374e+00</td>\n      <td>2.204929e+00</td>\n      <td>2.250995e+00</td>\n      <td>2.402457e+00</td>\n      <td>3.088768</td>\n      <td>1.785449e+00</td>\n      <td>2.736402e+00</td>\n      <td>2.288408e+00</td>\n      <td>5.279210e+00</td>\n    </tr>\n  </tbody>\n</table>\n</div>"
     },
     "execution_count": 157,
     "metadata": {},
     "output_type": "execute_result"
    }
   ],
   "source": [
    "new_X_train.describe()"
   ],
   "metadata": {
    "collapsed": false,
    "ExecuteTime": {
     "end_time": "2024-03-10T19:25:15.205776800Z",
     "start_time": "2024-03-10T19:25:15.169038400Z"
    }
   },
   "id": "fa13d5f73347c3c",
   "execution_count": 157
  },
  {
   "cell_type": "code",
   "outputs": [
    {
     "data": {
      "text/plain": "       Clump_thickness  Uniformity_of_cell_size  Uniformity_of_cell_shape  \\\ncount     2.800000e+02             2.800000e+02              2.800000e+02   \nmean     -6.344132e-17            -3.172066e-18             -1.744636e-17   \nstd       1.001791e+00             1.001791e+00              1.001791e+00   \nmin      -1.204451e+00            -7.127422e-01             -7.293572e-01   \n25%      -8.553350e-01            -7.127422e-01             -7.293572e-01   \n50%      -1.571023e-01            -7.127422e-01             -7.293572e-01   \n75%       5.411303e-01             6.379706e-01              6.366630e-01   \nmax       1.937596e+00             2.326362e+00              2.344188e+00   \n\n       Marginal_adhesion  Single_epithelial_cell_size   Bare_nuclei  \\\ncount       2.800000e+02                 2.800000e+02  2.800000e+02   \nmean       -1.189525e-17                 7.930164e-17  4.758099e-17   \nstd         1.001791e+00                 1.001791e+00  1.001791e+00   \nmin        -6.422073e-01                -1.030700e+00 -6.691138e-01   \n25%        -6.422073e-01                -5.790631e-01 -6.691138e-01   \n50%        -6.422073e-01                -5.790631e-01 -6.691138e-01   \n75%         1.070345e-01                 3.242108e-01  7.145780e-01   \nmax         2.729381e+00                 3.034033e+00  1.821531e+00   \n\n       Bland_chromatin  Normal_nucleoli       Mitoses  \ncount     2.800000e+02     2.800000e+02  2.800000e+02  \nmean      3.172066e-17     9.357594e-17  3.330669e-17  \nstd       1.001791e+00     1.001791e+00  1.001791e+00  \nmin      -1.024541e+00    -6.085461e-01 -3.396575e-01  \n25%      -6.182073e-01    -6.085461e-01 -3.396575e-01  \n50%      -2.118739e-01    -6.085461e-01 -3.396575e-01  \n75%       6.007930e-01     1.476354e-01 -3.396575e-01  \nmax       2.632460e+00     2.416180e+00  4.468977e+00  ",
      "text/html": "<div>\n<style scoped>\n    .dataframe tbody tr th:only-of-type {\n        vertical-align: middle;\n    }\n\n    .dataframe tbody tr th {\n        vertical-align: top;\n    }\n\n    .dataframe thead th {\n        text-align: right;\n    }\n</style>\n<table border=\"1\" class=\"dataframe\">\n  <thead>\n    <tr style=\"text-align: right;\">\n      <th></th>\n      <th>Clump_thickness</th>\n      <th>Uniformity_of_cell_size</th>\n      <th>Uniformity_of_cell_shape</th>\n      <th>Marginal_adhesion</th>\n      <th>Single_epithelial_cell_size</th>\n      <th>Bare_nuclei</th>\n      <th>Bland_chromatin</th>\n      <th>Normal_nucleoli</th>\n      <th>Mitoses</th>\n    </tr>\n  </thead>\n  <tbody>\n    <tr>\n      <th>count</th>\n      <td>2.800000e+02</td>\n      <td>2.800000e+02</td>\n      <td>2.800000e+02</td>\n      <td>2.800000e+02</td>\n      <td>2.800000e+02</td>\n      <td>2.800000e+02</td>\n      <td>2.800000e+02</td>\n      <td>2.800000e+02</td>\n      <td>2.800000e+02</td>\n    </tr>\n    <tr>\n      <th>mean</th>\n      <td>-6.344132e-17</td>\n      <td>-3.172066e-18</td>\n      <td>-1.744636e-17</td>\n      <td>-1.189525e-17</td>\n      <td>7.930164e-17</td>\n      <td>4.758099e-17</td>\n      <td>3.172066e-17</td>\n      <td>9.357594e-17</td>\n      <td>3.330669e-17</td>\n    </tr>\n    <tr>\n      <th>std</th>\n      <td>1.001791e+00</td>\n      <td>1.001791e+00</td>\n      <td>1.001791e+00</td>\n      <td>1.001791e+00</td>\n      <td>1.001791e+00</td>\n      <td>1.001791e+00</td>\n      <td>1.001791e+00</td>\n      <td>1.001791e+00</td>\n      <td>1.001791e+00</td>\n    </tr>\n    <tr>\n      <th>min</th>\n      <td>-1.204451e+00</td>\n      <td>-7.127422e-01</td>\n      <td>-7.293572e-01</td>\n      <td>-6.422073e-01</td>\n      <td>-1.030700e+00</td>\n      <td>-6.691138e-01</td>\n      <td>-1.024541e+00</td>\n      <td>-6.085461e-01</td>\n      <td>-3.396575e-01</td>\n    </tr>\n    <tr>\n      <th>25%</th>\n      <td>-8.553350e-01</td>\n      <td>-7.127422e-01</td>\n      <td>-7.293572e-01</td>\n      <td>-6.422073e-01</td>\n      <td>-5.790631e-01</td>\n      <td>-6.691138e-01</td>\n      <td>-6.182073e-01</td>\n      <td>-6.085461e-01</td>\n      <td>-3.396575e-01</td>\n    </tr>\n    <tr>\n      <th>50%</th>\n      <td>-1.571023e-01</td>\n      <td>-7.127422e-01</td>\n      <td>-7.293572e-01</td>\n      <td>-6.422073e-01</td>\n      <td>-5.790631e-01</td>\n      <td>-6.691138e-01</td>\n      <td>-2.118739e-01</td>\n      <td>-6.085461e-01</td>\n      <td>-3.396575e-01</td>\n    </tr>\n    <tr>\n      <th>75%</th>\n      <td>5.411303e-01</td>\n      <td>6.379706e-01</td>\n      <td>6.366630e-01</td>\n      <td>1.070345e-01</td>\n      <td>3.242108e-01</td>\n      <td>7.145780e-01</td>\n      <td>6.007930e-01</td>\n      <td>1.476354e-01</td>\n      <td>-3.396575e-01</td>\n    </tr>\n    <tr>\n      <th>max</th>\n      <td>1.937596e+00</td>\n      <td>2.326362e+00</td>\n      <td>2.344188e+00</td>\n      <td>2.729381e+00</td>\n      <td>3.034033e+00</td>\n      <td>1.821531e+00</td>\n      <td>2.632460e+00</td>\n      <td>2.416180e+00</td>\n      <td>4.468977e+00</td>\n    </tr>\n  </tbody>\n</table>\n</div>"
     },
     "execution_count": 158,
     "metadata": {},
     "output_type": "execute_result"
    }
   ],
   "source": [
    "new_X_test.describe()"
   ],
   "metadata": {
    "collapsed": false,
    "ExecuteTime": {
     "end_time": "2024-03-10T19:31:15.447313500Z",
     "start_time": "2024-03-10T19:31:15.385822Z"
    }
   },
   "id": "f291525656d9b9e9",
   "execution_count": 158
  },
  {
   "cell_type": "markdown",
   "source": [
    "## Export data for training and testing"
   ],
   "metadata": {
    "collapsed": false
   },
   "id": "8cb57ba15845a322"
  },
  {
   "cell_type": "code",
   "outputs": [],
   "source": [
    "new_X_train.to_csv('X_train.csv', index=False)\n",
    "y_train.to_csv('y_train.csv', index=False)\n",
    "\n",
    "new_X_test.to_csv('X_test.csv', index=False)\n",
    "y_test.to_csv('y_test.csv', index=False)"
   ],
   "metadata": {
    "collapsed": false,
    "ExecuteTime": {
     "end_time": "2024-03-10T18:52:18.836207200Z",
     "start_time": "2024-03-10T18:52:18.787153200Z"
    }
   },
   "id": "a07799452ce7882",
   "execution_count": 146
  },
  {
   "cell_type": "markdown",
   "source": [
    "# Create a neural network using OOP"
   ],
   "metadata": {
    "collapsed": false
   },
   "id": "88ab29b5e9a8c5ef"
  },
  {
   "cell_type": "code",
   "outputs": [],
   "source": [
    "import numpy as np\n",
    "\n",
    "class NeuralNetwork:\n",
    "    def __init__(self, input_size, hidden_size, output_size):\n",
    "        self.input_size = input_size\n",
    "        self.hidden_size = hidden_size\n",
    "        self.output_size = output_size\n",
    "\n",
    "        # Initialize weights and biases\n",
    "        self.weights_input_hidden = np.random.randn(self.input_size, self.hidden_size)\n",
    "        self.bias_hidden = np.random.randn(1, self.hidden_size)\n",
    "        self.weights_hidden_output = np.random.randn(self.hidden_size, self.output_size)\n",
    "        self.bias_output = np.random.randn(1, self.output_size)\n",
    "\n",
    "    def sigmoid(self, x):\n",
    "        x = np.clip(x, -100, None)      # Avoid overflow, I have problem when the value is too big\n",
    "        return 1 / (1 + np.exp(-x))\n",
    "\n",
    "    def sigmoid_derivative(self, x):\n",
    "        return x * (1 - x)\n",
    "\n",
    "    def forward_propagation(self, inputs):\n",
    "        # Forward pass through the network\n",
    "        self.hidden_sum = np.dot(inputs, self.weights_input_hidden) + self.bias_hidden\n",
    "        self.hidden_activation = self.sigmoid(self.hidden_sum)\n",
    "        self.output_sum = np.dot(self.hidden_activation, self.weights_hidden_output) + self.bias_output\n",
    "        self.output = self.sigmoid(self.output_sum)\n",
    "        \n",
    "        self.output = np.where(self.output > 0.5, 4, 2) # Mapping the output (around 0 to 1) to the target values (2 and 4)\n",
    "        \n",
    "        return self.output\n",
    "\n",
    "    def backward_propagation(self, inputs, targets, learning_rate):\n",
    "        # Backward pass through the network\n",
    "        output_error = targets - self.output\n",
    "        output_delta = output_error * self.sigmoid_derivative(self.output)\n",
    "\n",
    "        hidden_error = output_delta.dot(self.weights_hidden_output.T)\n",
    "        hidden_delta = hidden_error * self.sigmoid_derivative(self.hidden_activation)\n",
    "\n",
    "        # Update weights and biases\n",
    "        self.weights_hidden_output += self.hidden_activation.T.dot(output_delta) * learning_rate\n",
    "        self.bias_output += np.sum(output_delta, axis=0, keepdims=True) * learning_rate\n",
    "        self.weights_input_hidden += inputs.T.dot(hidden_delta) * learning_rate\n",
    "        self.bias_hidden += np.sum(hidden_delta, axis=0, keepdims=True) * learning_rate\n",
    "\n",
    "    def mean_squared_error(self, predictions, targets):\n",
    "        return np.mean(np.square(targets - predictions))"
   ],
   "metadata": {
    "collapsed": false,
    "ExecuteTime": {
     "end_time": "2024-03-10T18:57:05.268146100Z",
     "start_time": "2024-03-10T18:57:05.254462300Z"
    }
   },
   "id": "1aa9bf0d56f34659",
   "execution_count": 148
  },
  {
   "cell_type": "markdown",
   "source": [
    "## Define dataloader for dataset as a batches to imporve the training process"
   ],
   "metadata": {
    "collapsed": false
   },
   "id": "18f084af5c3bbddd"
  },
  {
   "cell_type": "code",
   "outputs": [],
   "source": [
    "# Create DataLoader\n",
    "def data_loader(df, targets, batch_size=16):\n",
    "    \n",
    "    X = df.to_numpy()\n",
    "    y = targets.to_numpy()\n",
    "\n",
    "    # Create batches\n",
    "    batches = [(X[i:i+batch_size], y[i:i+batch_size]) for i in range(0, len(X), batch_size)]\n",
    "    \n",
    "    return batches\n",
    "        \n",
    "ds_loader = data_loader(new_X_train, y_train)"
   ],
   "metadata": {
    "collapsed": false,
    "ExecuteTime": {
     "end_time": "2024-03-10T18:32:48.321569600Z",
     "start_time": "2024-03-10T18:32:48.302312800Z"
    }
   },
   "id": "b22c8025d41dffe8",
   "execution_count": 98
  },
  {
   "cell_type": "markdown",
   "source": [
    "# Train the neural network"
   ],
   "metadata": {
    "collapsed": false
   },
   "id": "6caf9085a219e999"
  },
  {
   "cell_type": "code",
   "outputs": [
    {
     "data": {
      "text/plain": "<Figure size 640x480 with 1 Axes>",
      "image/png": "[encoded data removed]"
     },
     "metadata": {},
     "output_type": "display_data"
    }
   ],
   "source": [
    "# Assign hyperparameters for the neural network\n",
    "input_size = 9\n",
    "hidden_size = 8\n",
    "output_size = 1\n",
    "\n",
    "nn = NeuralNetwork(input_size, hidden_size, output_size)\n",
    "\n",
    "learning_rate = -0.01\n",
    "epochs = 300\n",
    "\n",
    "losses = []\n",
    "\n",
    "for epoch in range(epochs):\n",
    "    for xb, yb in ds_loader:\n",
    "        # Forward propagation\n",
    "        predictions = nn.forward_propagation(xb)\n",
    "\n",
    "        # Calculate loss\n",
    "        loss = nn.mean_squared_error(predictions, yb)\n",
    "\n",
    "        # Backward propagation & update weights and biases\n",
    "        nn.backward_propagation(xb, yb, learning_rate)\n",
    "        \n",
    "        losses.append( loss )\n",
    "\n",
    "plt.figure()\n",
    "plt.plot(losses)\n",
    "plt.xlabel('Iteration')\n",
    "plt.ylabel('Cost');"
   ],
   "metadata": {
    "collapsed": false,
    "ExecuteTime": {
     "end_time": "2024-03-10T18:57:16.900040100Z",
     "start_time": "2024-03-10T18:57:15.317950500Z"
    }
   },
   "id": "5393b8b39a0c4a63",
   "execution_count": 150
  },
  {
   "cell_type": "markdown",
   "source": [
    "# Test the neural network and calculate the accuracy"
   ],
   "metadata": {
    "collapsed": false
   },
   "id": "b3a8a1b6a6ed1bea"
  },
  {
   "cell_type": "code",
   "outputs": [
    {
     "name": "stdout",
     "output_type": "stream",
     "text": [
      "Prediction accuracy: 0.95\n"
     ]
    }
   ],
   "source": [
    "from sklearn.metrics import accuracy_score\n",
    "\n",
    "ds_loader_test = data_loader(new_X_test, y_test)\n",
    "\n",
    "y_preds = []\n",
    "y_trues = []\n",
    "\n",
    "for xb, yb in ds_loader_test:\n",
    "    y_pred = nn.forward_propagation(xb)\n",
    "    y_preds.extend(y_pred)\n",
    "    y_trues.extend(yb)\n",
    "    \n",
    "accuracy = accuracy_score(y_trues, y_preds)\n",
    "    \n",
    "print(\"Prediction accuracy:\", accuracy)"
   ],
   "metadata": {
    "collapsed": false,
    "ExecuteTime": {
     "end_time": "2024-03-10T18:57:32.318831100Z",
     "start_time": "2024-03-10T18:57:32.279613900Z"
    }
   },
   "id": "fae79fd75bc418cb",
   "execution_count": 152
  }
 ],
 "metadata": {
  "kernelspec": {
   "display_name": "Python 3",
   "language": "python",
   "name": "python3"
  },
  "language_info": {
   "codemirror_mode": {
    "name": "ipython",
    "version": 2
   },
   "file_extension": ".py",
   "mimetype": "text/x-python",
   "name": "python",
   "nbconvert_exporter": "python",
   "pygments_lexer": "ipython2",
   "version": "2.7.6"
  }
 },
 "nbformat": 4,
 "nbformat_minor": 5
}
